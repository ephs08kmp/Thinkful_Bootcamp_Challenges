{
 "cells": [
  {
   "cell_type": "code",
   "execution_count": 1,
   "metadata": {
    "run_control": {
     "frozen": false,
     "read_only": false
    }
   },
   "outputs": [],
   "source": [
    "import pandas as pd\n",
    "import numpy as np\n",
    "import scipy\n",
    "import matplotlib.pyplot as plt\n",
    "import seaborn as sns\n",
    "%matplotlib inline\n",
    "\n",
    "from sklearn import ensemble\n",
    "from sklearn import datasets\n",
    "from sklearn.utils import shuffle\n",
    "from sklearn.metrics import mean_squared_error"
   ]
  },
  {
   "cell_type": "markdown",
   "metadata": {},
   "source": [
    "### Gradient boost guided example\n",
    "\n",
    "Having walked through gradient boost by hand, now let's try it with SKlearn.  We'll still use the European Social Survey Data, but now with a categorical outcome: Whether or not someone lives with a partner."
   ]
  },
  {
   "cell_type": "code",
   "execution_count": 2,
   "metadata": {
    "scrolled": true
   },
   "outputs": [],
   "source": [
    "df = pd.read_csv((\n",
    "    \"https://raw.githubusercontent.com/Thinkful-Ed/data-201-resources/\"\n",
    "    \"master/ESS_practice_data/ESSdata_Thinkful.csv\")).dropna()\n",
    "\n",
    "# Definine outcome and predictors.\n",
    "# Set our outcome to 0 and 1.\n",
    "y = df['partner'] - 1\n",
    "X = df.loc[:, ~df.columns.isin(['partner', 'cntry', 'idno'])]\n",
    "\n",
    "# Make the categorical variable 'country' into dummies.\n",
    "X = pd.concat([X, pd.get_dummies(df['cntry'])], axis=1)"
   ]
  },
  {
   "cell_type": "markdown",
   "metadata": {},
   "source": [
    "## Original Model before Feature Engineering"
   ]
  },
  {
   "cell_type": "code",
   "execution_count": 3,
   "metadata": {},
   "outputs": [],
   "source": [
    "# Create training and test sets.\n",
    "offset = int(X.shape[0] * 0.9)\n",
    "\n",
    "# Put 90% of the data in the training set.\n",
    "X_train, y_train = X[:offset], y[:offset]\n",
    "\n",
    "# And put 10% in the test set.\n",
    "X_test, y_test = X[offset:], y[offset:]"
   ]
  },
  {
   "cell_type": "code",
   "execution_count": 4,
   "metadata": {
    "scrolled": true
   },
   "outputs": [
    {
     "name": "stdout",
     "output_type": "stream",
     "text": [
      "Training set accuracy:\n",
      "R-squared Score: 0.7774140752864157\n",
      "Percent Type I errors: 0.04650845608292417\n",
      "Percent Type II errors: 0.17607746863066012\n",
      "\n",
      "Test set accuracy:\n",
      "R-squared Score: 0.7521472392638037\n",
      "Percent Type I errors: 0.06257668711656442\n",
      "Percent Type II errors: 0.18527607361963191\n"
     ]
    }
   ],
   "source": [
    "# We'll make 500 iterations, use 2-deep trees, and set our loss function to deviance.\n",
    "params = {'n_estimators': 500,\n",
    "          'max_depth': 2,\n",
    "          'loss': 'deviance',\n",
    "         'subsample': 1}\n",
    "\n",
    "# Initialize and fit the model.\n",
    "clf = ensemble.GradientBoostingClassifier(**params)\n",
    "clf.fit(X_train, y_train)\n",
    "\n",
    "predict_train = clf.predict(X_train)\n",
    "predict_test = clf.predict(X_test)\n",
    "\n",
    "score_train = clf.score(X_train, y_train)\n",
    "score_test = clf.score(X_test, y_test)\n",
    "\n",
    "# Accuracy tables.\n",
    "table_train = pd.crosstab(y_train, predict_train, margins=True)\n",
    "table_test = pd.crosstab(y_test, predict_test, margins=True)\n",
    "\n",
    "train_tI_errors = table_train.loc[0.0,1.0] / table_train.loc['All','All']\n",
    "train_tII_errors = table_train.loc[1.0,0.0] / table_train.loc['All','All']\n",
    "\n",
    "test_tI_errors = table_test.loc[0.0,1.0]/table_test.loc['All','All']\n",
    "test_tII_errors = table_test.loc[1.0,0.0]/table_test.loc['All','All']\n",
    "\n",
    "print((\n",
    "    'Training set accuracy:\\n'\n",
    "    'R-squared Score: {}\\n'\n",
    "    'Percent Type I errors: {}\\n'\n",
    "    'Percent Type II errors: {}\\n\\n'\n",
    "    'Test set accuracy:\\n'\n",
    "    'R-squared Score: {}\\n'\n",
    "    'Percent Type I errors: {}\\n'\n",
    "    'Percent Type II errors: {}'\n",
    ").format(score_train, train_tI_errors, train_tII_errors, score_test, test_tI_errors, test_tII_errors))\n"
   ]
  },
  {
   "cell_type": "code",
   "execution_count": 5,
   "metadata": {},
   "outputs": [
    {
     "data": {
      "image/png": "[encoded data removed]",
      "text/plain": [
       "<matplotlib.figure.Figure at 0x106413a58>"
      ]
     },
     "metadata": {},
     "output_type": "display_data"
    }
   ],
   "source": [
    "feature_importance = clf.feature_importances_\n",
    "\n",
    "# Make importances relative to max importance.\n",
    "feature_importance = 100.0 * (feature_importance / feature_importance.max())\n",
    "sorted_idx = np.argsort(feature_importance)\n",
    "pos = np.arange(sorted_idx.shape[0]) + .5\n",
    "plt.subplot(1, 2, 2)\n",
    "plt.barh(pos, feature_importance[sorted_idx], align='center')\n",
    "plt.yticks(pos, X.columns[sorted_idx])\n",
    "plt.xlabel('Relative Importance')\n",
    "plt.title('Variable Importance')\n",
    "plt.show()"
   ]
  },
  {
   "cell_type": "markdown",
   "metadata": {},
   "source": [
    "It appears that age and happiness are the most important features in predicting whether or not someone lives with a partner. "
   ]
  },
  {
   "cell_type": "markdown",
   "metadata": {
    "collapsed": true
   },
   "source": [
    "### DRILL: Improve this gradient boost model\n",
    "\n",
    "While this model is already doing alright, we've seen from the Type I and Type II error rates that there is definitely room for improvement.  Your task is to see how low you can get the error rates to go in the test set, based on your model in the training set.  Strategies you might use include:\n",
    "\n",
    "* Creating new features\n",
    "* Applying more overfitting-prevention strategies like subsampling\n",
    "* More iterations\n",
    "* Trying a different loss function\n",
    "* Changing the structure of the weak learner: Allowing more leaves in the tree, or other modifications\n",
    "\n",
    "Have fun!"
   ]
  },
  {
   "cell_type": "markdown",
   "metadata": {},
   "source": [
    "## Feature Engineering\n",
    "I will start by making some additional features.  To begin, I will inspect the boxplots of distributions of the variables for people with partners or not, and then report the t-values to determine whether or not the differences between the variables are significant.  "
   ]
  },
  {
   "cell_type": "code",
   "execution_count": 6,
   "metadata": {
    "scrolled": true
   },
   "outputs": [
    {
     "data": {
      "image/png": "[encoded data removed]",
      "text/plain": [
       "<matplotlib.figure.Figure at 0x106413fd0>"
      ]
     },
     "metadata": {},
     "output_type": "display_data"
    }
   ],
   "source": [
    "#setting up dataframe for boxplot of parters or no partners\n",
    "dfl = df.drop(['agea', 'cntry', 'idno', 'year'], axis=1)\n",
    "df_long = pd.melt(dfl, id_vars=['partner'])\n",
    "g = sns.FacetGrid(df_long, col='variable', size=4, aspect=0.5)\n",
    "g = g.map(sns.boxplot, 'partner', 'value', order=[1,2])\n",
    "plt.show()"
   ]
  },
  {
   "cell_type": "code",
   "execution_count": 7,
   "metadata": {},
   "outputs": [
    {
     "name": "stdout",
     "output_type": "stream",
     "text": [
      "tvtot\t0.009292883328083916\n",
      "ppltrst\t0.0019168232030961356\n",
      "pplfair\t0.002110868444877708\n",
      "pplhlp\t0.04637745129936481\n",
      "happy\t1.471156645338203e-39\n",
      "sclmeet\t1.3276688249963506e-49\n",
      "sclact\t0.303332737769568\n",
      "gndr\t0.002156458353009423\n",
      "partner\t0.0\n"
     ]
    }
   ],
   "source": [
    "from scipy.stats import ttest_ind\n",
    "\n",
    "for col in dfl.columns:\n",
    "    t_val, p_val = ttest_ind(\n",
    "        dfl[dfl['partner']==1][col],\n",
    "        dfl[dfl['partner']==2][col])\n",
    "    print('{}\\t{}'.format(col, p_val))"
   ]
  },
  {
   "cell_type": "markdown",
   "metadata": {},
   "source": [
    "According to these boxplots, all variables are significantly different from one another, with the exception of social activities. For this reason, I will remove social activities from the feature set. It is also apparent from the boxplots that ratings for people with partners meeting people socially is significantly higher than for people without partners. "
   ]
  },
  {
   "cell_type": "code",
   "execution_count": 8,
   "metadata": {},
   "outputs": [],
   "source": [
    "X = X.drop(['sclact'], axis=1)"
   ]
  },
  {
   "cell_type": "markdown",
   "metadata": {},
   "source": [
    "After inspecting the distributions of variables, I want to know if the variables are related to one another or not.  To achieve this, I will inspect the correlations between variables through a heat map to determine how related the variables are to one another."
   ]
  },
  {
   "cell_type": "code",
   "execution_count": 9,
   "metadata": {},
   "outputs": [
    {
     "data": {
      "image/png": "[encoded data removed]",
      "text/plain": [
       "<matplotlib.figure.Figure at 0x117c2dfd0>"
      ]
     },
     "metadata": {},
     "output_type": "display_data"
    },
    {
     "data": {
      "text/html": [
       "<div>\n",
       "<style scoped>\n",
       "    .dataframe tbody tr th:only-of-type {\n",
       "        vertical-align: middle;\n",
       "    }\n",
       "\n",
       "    .dataframe tbody tr th {\n",
       "        vertical-align: top;\n",
       "    }\n",
       "\n",
       "    .dataframe thead th {\n",
       "        text-align: right;\n",
       "    }\n",
       "</style>\n",
       "<table border=\"1\" class=\"dataframe\">\n",
       "  <thead>\n",
       "    <tr style=\"text-align: right;\">\n",
       "      <th></th>\n",
       "      <th>tvtot</th>\n",
       "      <th>ppltrst</th>\n",
       "      <th>pplfair</th>\n",
       "      <th>pplhlp</th>\n",
       "      <th>happy</th>\n",
       "      <th>sclmeet</th>\n",
       "      <th>sclact</th>\n",
       "      <th>gndr</th>\n",
       "      <th>partner</th>\n",
       "    </tr>\n",
       "  </thead>\n",
       "  <tbody>\n",
       "    <tr>\n",
       "      <th>tvtot</th>\n",
       "      <td>1.000000</td>\n",
       "      <td>-0.142422</td>\n",
       "      <td>-0.119277</td>\n",
       "      <td>-0.069080</td>\n",
       "      <td>-0.118598</td>\n",
       "      <td>-0.078864</td>\n",
       "      <td>-0.092375</td>\n",
       "      <td>0.017922</td>\n",
       "      <td>-0.028816</td>\n",
       "    </tr>\n",
       "    <tr>\n",
       "      <th>ppltrst</th>\n",
       "      <td>-0.142422</td>\n",
       "      <td>1.000000</td>\n",
       "      <td>0.597506</td>\n",
       "      <td>0.459250</td>\n",
       "      <td>0.231533</td>\n",
       "      <td>0.122555</td>\n",
       "      <td>0.137491</td>\n",
       "      <td>-0.029921</td>\n",
       "      <td>-0.034371</td>\n",
       "    </tr>\n",
       "    <tr>\n",
       "      <th>pplfair</th>\n",
       "      <td>-0.119277</td>\n",
       "      <td>0.597506</td>\n",
       "      <td>1.000000</td>\n",
       "      <td>0.480931</td>\n",
       "      <td>0.247755</td>\n",
       "      <td>0.096501</td>\n",
       "      <td>0.128808</td>\n",
       "      <td>0.022251</td>\n",
       "      <td>-0.034054</td>\n",
       "    </tr>\n",
       "    <tr>\n",
       "      <th>pplhlp</th>\n",
       "      <td>-0.069080</td>\n",
       "      <td>0.459250</td>\n",
       "      <td>0.480931</td>\n",
       "      <td>1.000000</td>\n",
       "      <td>0.215323</td>\n",
       "      <td>0.080489</td>\n",
       "      <td>0.092673</td>\n",
       "      <td>0.042046</td>\n",
       "      <td>-0.022069</td>\n",
       "    </tr>\n",
       "    <tr>\n",
       "      <th>happy</th>\n",
       "      <td>-0.118598</td>\n",
       "      <td>0.231533</td>\n",
       "      <td>0.247755</td>\n",
       "      <td>0.215323</td>\n",
       "      <td>1.000000</td>\n",
       "      <td>0.182944</td>\n",
       "      <td>0.192030</td>\n",
       "      <td>-0.022413</td>\n",
       "      <td>-0.145061</td>\n",
       "    </tr>\n",
       "    <tr>\n",
       "      <th>sclmeet</th>\n",
       "      <td>-0.078864</td>\n",
       "      <td>0.122555</td>\n",
       "      <td>0.096501</td>\n",
       "      <td>0.080489</td>\n",
       "      <td>0.182944</td>\n",
       "      <td>1.000000</td>\n",
       "      <td>0.283319</td>\n",
       "      <td>0.009533</td>\n",
       "      <td>0.162970</td>\n",
       "    </tr>\n",
       "    <tr>\n",
       "      <th>sclact</th>\n",
       "      <td>-0.092375</td>\n",
       "      <td>0.137491</td>\n",
       "      <td>0.128808</td>\n",
       "      <td>0.092673</td>\n",
       "      <td>0.192030</td>\n",
       "      <td>0.283319</td>\n",
       "      <td>1.000000</td>\n",
       "      <td>-0.031648</td>\n",
       "      <td>0.011405</td>\n",
       "    </tr>\n",
       "    <tr>\n",
       "      <th>gndr</th>\n",
       "      <td>0.017922</td>\n",
       "      <td>-0.029921</td>\n",
       "      <td>0.022251</td>\n",
       "      <td>0.042046</td>\n",
       "      <td>-0.022413</td>\n",
       "      <td>0.009533</td>\n",
       "      <td>-0.031648</td>\n",
       "      <td>1.000000</td>\n",
       "      <td>0.033984</td>\n",
       "    </tr>\n",
       "    <tr>\n",
       "      <th>partner</th>\n",
       "      <td>-0.028816</td>\n",
       "      <td>-0.034371</td>\n",
       "      <td>-0.034054</td>\n",
       "      <td>-0.022069</td>\n",
       "      <td>-0.145061</td>\n",
       "      <td>0.162970</td>\n",
       "      <td>0.011405</td>\n",
       "      <td>0.033984</td>\n",
       "      <td>1.000000</td>\n",
       "    </tr>\n",
       "  </tbody>\n",
       "</table>\n",
       "</div>"
      ],
      "text/plain": [
       "            tvtot   ppltrst   pplfair    pplhlp     happy   sclmeet    sclact  \\\n",
       "tvtot    1.000000 -0.142422 -0.119277 -0.069080 -0.118598 -0.078864 -0.092375   \n",
       "ppltrst -0.142422  1.000000  0.597506  0.459250  0.231533  0.122555  0.137491   \n",
       "pplfair -0.119277  0.597506  1.000000  0.480931  0.247755  0.096501  0.128808   \n",
       "pplhlp  -0.069080  0.459250  0.480931  1.000000  0.215323  0.080489  0.092673   \n",
       "happy   -0.118598  0.231533  0.247755  0.215323  1.000000  0.182944  0.192030   \n",
       "sclmeet -0.078864  0.122555  0.096501  0.080489  0.182944  1.000000  0.283319   \n",
       "sclact  -0.092375  0.137491  0.128808  0.092673  0.192030  0.283319  1.000000   \n",
       "gndr     0.017922 -0.029921  0.022251  0.042046 -0.022413  0.009533 -0.031648   \n",
       "partner -0.028816 -0.034371 -0.034054 -0.022069 -0.145061  0.162970  0.011405   \n",
       "\n",
       "             gndr   partner  \n",
       "tvtot    0.017922 -0.028816  \n",
       "ppltrst -0.029921 -0.034371  \n",
       "pplfair  0.022251 -0.034054  \n",
       "pplhlp   0.042046 -0.022069  \n",
       "happy   -0.022413 -0.145061  \n",
       "sclmeet  0.009533  0.162970  \n",
       "sclact  -0.031648  0.011405  \n",
       "gndr     1.000000  0.033984  \n",
       "partner  0.033984  1.000000  "
      ]
     },
     "execution_count": 9,
     "metadata": {},
     "output_type": "execute_result"
    }
   ],
   "source": [
    "corrmat = dfl.corr()\n",
    "sns.heatmap(corrmat)\n",
    "plt.show()\n",
    "corrmat"
   ]
  },
  {
   "cell_type": "markdown",
   "metadata": {},
   "source": [
    "In thinking about these variables, it would make sense that if people trust other people, they would also believe that people are fair and that people help them.  For this reason, I will engineer a feature that combines all three variables together. "
   ]
  },
  {
   "cell_type": "code",
   "execution_count": 10,
   "metadata": {},
   "outputs": [],
   "source": [
    "#combining variables related to trust, helpfulness, and fairness\n",
    "X['ppltrst_pplhlp_pplfair'] = df['ppltrst'] * df['pplhlp'] * df['pplfair']\n",
    "X = X.drop(['ppltrst', 'pplhlp', 'pplfair'], axis=1)"
   ]
  },
  {
   "cell_type": "markdown",
   "metadata": {},
   "source": [
    "Now, using these engineered variables, I will finish getting the dataset ready for modeling and then separate the data into train and test datasets."
   ]
  },
  {
   "cell_type": "code",
   "execution_count": 11,
   "metadata": {},
   "outputs": [],
   "source": [
    "# Create training and test sets.\n",
    "offset = int(X.shape[0] * 0.9)\n",
    "\n",
    "# Put 90% of the data in the training set.\n",
    "X_train, y_train = X[:offset], y[:offset]\n",
    "\n",
    "# And put 10% in the test set.\n",
    "X_test, y_test = X[offset:], y[offset:]"
   ]
  },
  {
   "cell_type": "markdown",
   "metadata": {},
   "source": [
    "Since we're now working with a binary outcome, we've switched to a classifier.  Now our loss function can't be the residuals.  Our options are \"deviance\", or \"exponential\".  Deviance is used for logistic regression, and we'll try that here.\n",
    "\n",
    "## Initial Model with Engineered Features"
   ]
  },
  {
   "cell_type": "code",
   "execution_count": 12,
   "metadata": {},
   "outputs": [
    {
     "name": "stdout",
     "output_type": "stream",
     "text": [
      "Training set accuracy:\n",
      "R-squared Score: 0.774822695035461\n",
      "Percent Type I errors: 0.04828150572831424\n",
      "Percent Type II errors: 0.17689579923622475\n",
      "\n",
      "Test set accuracy:\n",
      "R-squared Score: 0.750920245398773\n",
      "Percent Type I errors: 0.05889570552147239\n",
      "Percent Type II errors: 0.1901840490797546\n"
     ]
    }
   ],
   "source": [
    "# We'll make 500 iterations, use 2-deep trees, and set our loss function to deviance.\n",
    "params = {'n_estimators': 500,\n",
    "          'max_depth': 2,\n",
    "          'loss': 'deviance',\n",
    "         'subsample': 1}\n",
    "\n",
    "# Initialize and fit the model.\n",
    "clf = ensemble.GradientBoostingClassifier(**params)\n",
    "clf.fit(X_train, y_train)\n",
    "\n",
    "predict_train = clf.predict(X_train)\n",
    "predict_test = clf.predict(X_test)\n",
    "\n",
    "score_train = clf.score(X_train, y_train)\n",
    "score_test = clf.score(X_test, y_test)\n",
    "\n",
    "# Accuracy tables.\n",
    "table_train = pd.crosstab(y_train, predict_train, margins=True)\n",
    "table_test = pd.crosstab(y_test, predict_test, margins=True)\n",
    "\n",
    "train_tI_errors = table_train.loc[0.0,1.0] / table_train.loc['All','All']\n",
    "train_tII_errors = table_train.loc[1.0,0.0] / table_train.loc['All','All']\n",
    "\n",
    "test_tI_errors = table_test.loc[0.0,1.0]/table_test.loc['All','All']\n",
    "test_tII_errors = table_test.loc[1.0,0.0]/table_test.loc['All','All']\n",
    "\n",
    "print((\n",
    "    'Training set accuracy:\\n'\n",
    "    'R-squared Score: {}\\n'\n",
    "    'Percent Type I errors: {}\\n'\n",
    "    'Percent Type II errors: {}\\n\\n'\n",
    "    'Test set accuracy:\\n'\n",
    "    'R-squared Score: {}\\n'\n",
    "    'Percent Type I errors: {}\\n'\n",
    "    'Percent Type II errors: {}'\n",
    ").format(score_train, train_tI_errors, train_tII_errors, score_test, test_tI_errors, test_tII_errors))\n"
   ]
  },
  {
   "cell_type": "markdown",
   "metadata": {},
   "source": [
    "Unlike decision trees, gradient boost solutions are not terribly easy to interpret on the surface.  But they aren't quite a black box.  We can get a measure of how important various features are by counting how many times a feature is used over the course of many decision trees."
   ]
  },
  {
   "cell_type": "markdown",
   "metadata": {},
   "source": [
    "### 1000 Iterations\n",
    "To improve this same model, I will increase the number of iterations of the model to determine how this impacts that error rates. "
   ]
  },
  {
   "cell_type": "code",
   "execution_count": 13,
   "metadata": {},
   "outputs": [
    {
     "name": "stdout",
     "output_type": "stream",
     "text": [
      "Training set accuracy:\n",
      "R-squared Score: 0.78696126568467\n",
      "Percent Type I errors: 0.04350791052918712\n",
      "Percent Type II errors: 0.16953082378614293\n",
      "\n",
      "Test set accuracy:\n",
      "R-squared Score: 0.758282208588957\n",
      "Percent Type I errors: 0.06625766871165645\n",
      "Percent Type II errors: 0.1754601226993865\n"
     ]
    }
   ],
   "source": [
    "# We'll make 1000 iterations, use 2-deep trees, and set our loss function to deviance.\n",
    "params = {'n_estimators': 1000,\n",
    "          'max_depth': 2,\n",
    "          'loss': 'deviance',\n",
    "         'subsample': 1}\n",
    "\n",
    "# Initialize and fit the model.\n",
    "clf2 = ensemble.GradientBoostingClassifier(**params)\n",
    "clf2.fit(X_train, y_train)\n",
    "\n",
    "predict_train2 = clf2.predict(X_train)\n",
    "predict_test2 = clf2.predict(X_test)\n",
    "\n",
    "score_train2 = clf2.score(X_train, y_train)\n",
    "score_test2 = clf2.score(X_test, y_test)\n",
    "\n",
    "# Accuracy tables.\n",
    "table_train2 = pd.crosstab(y_train, predict_train2, margins=True)\n",
    "table_test2 = pd.crosstab(y_test, predict_test2, margins=True)\n",
    "\n",
    "train_tI_errors2 = table_train2.loc[0.0,1.0] / table_train2.loc['All','All']\n",
    "train_tII_errors2 = table_train2.loc[1.0,0.0] / table_train2.loc['All','All']\n",
    "\n",
    "test_tI_errors2 = table_test2.loc[0.0,1.0]/table_test2.loc['All','All']\n",
    "test_tII_errors2 = table_test2.loc[1.0,0.0]/table_test2.loc['All','All']\n",
    "\n",
    "print((\n",
    "    'Training set accuracy:\\n'\n",
    "    'R-squared Score: {}\\n'\n",
    "    'Percent Type I errors: {}\\n'\n",
    "    'Percent Type II errors: {}\\n\\n'\n",
    "    'Test set accuracy:\\n'\n",
    "    'R-squared Score: {}\\n'\n",
    "    'Percent Type I errors: {}\\n'\n",
    "    'Percent Type II errors: {}'\n",
    ").format(score_train2, train_tI_errors2, train_tII_errors2, score_test2, test_tI_errors2, test_tII_errors2))\n"
   ]
  },
  {
   "cell_type": "markdown",
   "metadata": {},
   "source": [
    "Increasing the number of iterations caused a slight increase in the the time the model took to run.  This change decreased the type 2 errors in the test set by 2%, but the type 1 errors increased by less than a percent.\n",
    "\n",
    "I will now try another model with even more iterations as the last model, with 2000 iterations. \n",
    "\n",
    "### 2000 Iterations"
   ]
  },
  {
   "cell_type": "code",
   "execution_count": 14,
   "metadata": {},
   "outputs": [
    {
     "name": "stdout",
     "output_type": "stream",
     "text": [
      "Training set accuracy:\n",
      "R-squared Score: 0.756683033278778\n",
      "Percent Type I errors: 0.04705400981996727\n",
      "Percent Type II errors: 0.19626295690125478\n",
      "\n",
      "Test set accuracy:\n",
      "R-squared Score: 0.7423312883435583\n",
      "Percent Type I errors: 0.05030674846625767\n",
      "Percent Type II errors: 0.20736196319018405\n"
     ]
    }
   ],
   "source": [
    "# We'll make 2000 iterations, use 4-deep trees, and set our loss function to deviance.\n",
    "params = {'n_estimators': 2000,\n",
    "          'max_depth': 1,\n",
    "          'loss': 'deviance',\n",
    "         'subsample': 1}\n",
    "\n",
    "# Initialize and fit the model.\n",
    "clf3 = ensemble.GradientBoostingClassifier(**params)\n",
    "clf3.fit(X_train, y_train)\n",
    "\n",
    "predict_train3 = clf3.predict(X_train)\n",
    "predict_test3 = clf3.predict(X_test)\n",
    "\n",
    "score_train3 = clf3.score(X_train, y_train)\n",
    "score_test3 = clf3.score(X_test, y_test)\n",
    "\n",
    "# Accuracy tables.\n",
    "table_train3 = pd.crosstab(y_train, predict_train3, margins=True)\n",
    "table_test3 = pd.crosstab(y_test, predict_test3, margins=True)\n",
    "\n",
    "train_tI_errors3 = table_train3.loc[0.0,1.0] / table_train3.loc['All','All']\n",
    "train_tII_errors3 = table_train3.loc[1.0,0.0] / table_train3.loc['All','All']\n",
    "\n",
    "test_tI_errors3 = table_test3.loc[0.0,1.0]/table_test3.loc['All','All']\n",
    "test_tII_errors3 = table_test3.loc[1.0,0.0]/table_test3.loc['All','All']\n",
    "\n",
    "print((\n",
    "    'Training set accuracy:\\n'\n",
    "    'R-squared Score: {}\\n'\n",
    "    'Percent Type I errors: {}\\n'\n",
    "    'Percent Type II errors: {}\\n\\n'\n",
    "    'Test set accuracy:\\n'\n",
    "    'R-squared Score: {}\\n'\n",
    "    'Percent Type I errors: {}\\n'\n",
    "    'Percent Type II errors: {}'\n",
    ").format(score_train3, train_tI_errors3, train_tII_errors3, score_test3, test_tI_errors3, test_tII_errors3))\n"
   ]
  },
  {
   "cell_type": "markdown",
   "metadata": {},
   "source": [
    "This increase number of iterations decreased the false positive errors by a full percent in the test set, but increased the false negatives by 3%.  The overall accuracy of the model was more accurate with 1000 iterations, so we will continue with that number of iterations.  Now, I'll increase the max depth of the tree to 3 to see how this impacts the accuracy of the model.\n",
    "\n",
    "### Max Depth 3"
   ]
  },
  {
   "cell_type": "code",
   "execution_count": 15,
   "metadata": {},
   "outputs": [
    {
     "name": "stdout",
     "output_type": "stream",
     "text": [
      "Training set accuracy:\n",
      "R-squared Score: 0.828696126568467\n",
      "Percent Type I errors: 0.031642116748499725\n",
      "Percent Type II errors: 0.13966175668303327\n",
      "\n",
      "Test set accuracy:\n",
      "R-squared Score: 0.7460122699386503\n",
      "Percent Type I errors: 0.08711656441717791\n",
      "Percent Type II errors: 0.1668711656441718\n"
     ]
    }
   ],
   "source": [
    "# We'll make 1000 iterations, use 3-deep trees, and set our loss function to deviance.\n",
    "params = {'n_estimators': 1000,\n",
    "          'max_depth': 3,\n",
    "          'loss': 'deviance',\n",
    "         'subsample': 1}\n",
    "\n",
    "# Initialize and fit the model.\n",
    "clf4 = ensemble.GradientBoostingClassifier(**params)\n",
    "clf4.fit(X_train, y_train)\n",
    "\n",
    "predict_train4 = clf4.predict(X_train)\n",
    "predict_test4 = clf4.predict(X_test)\n",
    "\n",
    "score_train4 = clf4.score(X_train, y_train)\n",
    "score_test4 = clf4.score(X_test, y_test)\n",
    "\n",
    "# Accuracy tables.\n",
    "table_train4 = pd.crosstab(y_train, predict_train4, margins=True)\n",
    "table_test4 = pd.crosstab(y_test, predict_test4, margins=True)\n",
    "\n",
    "train_tI_errors4 = table_train4.loc[0.0,1.0] / table_train4.loc['All','All']\n",
    "train_tII_errors4 = table_train4.loc[1.0,0.0] / table_train4.loc['All','All']\n",
    "\n",
    "test_tI_errors4 = table_test4.loc[0.0,1.0]/table_test4.loc['All','All']\n",
    "test_tII_errors4 = table_test4.loc[1.0,0.0]/table_test4.loc['All','All']\n",
    "\n",
    "print((\n",
    "    'Training set accuracy:\\n'\n",
    "    'R-squared Score: {}\\n'\n",
    "    'Percent Type I errors: {}\\n'\n",
    "    'Percent Type II errors: {}\\n\\n'\n",
    "    'Test set accuracy:\\n'\n",
    "    'R-squared Score: {}\\n'\n",
    "    'Percent Type I errors: {}\\n'\n",
    "    'Percent Type II errors: {}'\n",
    ").format(score_train4, train_tI_errors4, train_tII_errors4, score_test4, test_tI_errors4, test_tII_errors4))\n"
   ]
  },
  {
   "cell_type": "markdown",
   "metadata": {},
   "source": [
    "Increasing the number of levels slightly increased the number of type 1 errors, by 2%, but decreased the type 2 errors by around 1%.  This is the opposite trend of accuracy changes that happened when I increased the number of iterations to 2000.  I will try both parameter changes together to see what effect this has on error rates.\n",
    "\n",
    "### Max Depth 3, 2000 iterations"
   ]
  },
  {
   "cell_type": "code",
   "execution_count": 16,
   "metadata": {},
   "outputs": [
    {
     "name": "stdout",
     "output_type": "stream",
     "text": [
      "Training set accuracy:\n",
      "R-squared Score: 0.863747954173486\n",
      "Percent Type I errors: 0.02386797599563557\n",
      "Percent Type II errors: 0.11238406983087834\n",
      "\n",
      "Test set accuracy:\n",
      "R-squared Score: 0.7312883435582822\n",
      "Percent Type I errors: 0.09079754601226994\n",
      "Percent Type II errors: 0.17791411042944785\n"
     ]
    }
   ],
   "source": [
    "# We'll make 2000 iterations, use 3-deep trees, set our loss function to deviance, and set subsampling to 1.\n",
    "params = {'n_estimators': 2000,\n",
    "          'max_depth': 3,\n",
    "          'loss': 'deviance',\n",
    "         'subsample': 1}\n",
    "\n",
    "# Initialize and fit the model.\n",
    "clf5 = ensemble.GradientBoostingClassifier(**params)\n",
    "clf5.fit(X_train, y_train)\n",
    "\n",
    "predict_train5 = clf5.predict(X_train)\n",
    "predict_test5 = clf5.predict(X_test)\n",
    "\n",
    "score_train5 = clf5.score(X_train, y_train)\n",
    "score_test5 = clf5.score(X_test, y_test)\n",
    "\n",
    "# Accuracy tables.\n",
    "table_train5 = pd.crosstab(y_train, predict_train5, margins=True)\n",
    "table_test5 = pd.crosstab(y_test, predict_test5, margins=True)\n",
    "\n",
    "train_tI_errors5 = table_train5.loc[0.0,1.0] / table_train5.loc['All','All']\n",
    "train_tII_errors5 = table_train5.loc[1.0,0.0] / table_train5.loc['All','All']\n",
    "\n",
    "test_tI_errors5 = table_test5.loc[0.0,1.0]/table_test5.loc['All','All']\n",
    "test_tII_errors5 = table_test5.loc[1.0,0.0]/table_test5.loc['All','All']\n",
    "\n",
    "print((\n",
    "    'Training set accuracy:\\n'\n",
    "    'R-squared Score: {}\\n'\n",
    "    'Percent Type I errors: {}\\n'\n",
    "    'Percent Type II errors: {}\\n\\n'\n",
    "    'Test set accuracy:\\n'\n",
    "    'R-squared Score: {}\\n'\n",
    "    'Percent Type I errors: {}\\n'\n",
    "    'Percent Type II errors: {}'\n",
    ").format(score_train5, train_tI_errors5, train_tII_errors5, score_test5, test_tI_errors5, test_tII_errors5))\n"
   ]
  },
  {
   "cell_type": "markdown",
   "metadata": {},
   "source": [
    "This increase in iterations with a combined increase in max depth increased both types of errors.  I will return to a max depth of 2 and 1000 iterations, but try different levels of subsampling. I will use a subsampling of 80%\n",
    "\n",
    "### Sub-Sampling 80%"
   ]
  },
  {
   "cell_type": "code",
   "execution_count": 17,
   "metadata": {},
   "outputs": [
    {
     "name": "stdout",
     "output_type": "stream",
     "text": [
      "Training set accuracy:\n",
      "R-squared Score: 0.7890070921985816\n",
      "Percent Type I errors: 0.04378068739770868\n",
      "Percent Type II errors: 0.16721222040370975\n",
      "\n",
      "Test set accuracy:\n",
      "R-squared Score: 0.747239263803681\n",
      "Percent Type I errors: 0.06257668711656442\n",
      "Percent Type II errors: 0.1901840490797546\n"
     ]
    }
   ],
   "source": [
    "# We'll make 1000 iterations, use 2-deep trees, set our loss function to deviance, and set subsampling to 0.8.\n",
    "params = {'n_estimators': 1000,\n",
    "          'max_depth': 2,\n",
    "          'loss': 'deviance',\n",
    "         'subsample': 0.8}\n",
    "\n",
    "# Initialize and fit the model.\n",
    "clf6 = ensemble.GradientBoostingClassifier(**params)\n",
    "clf6.fit(X_train, y_train)\n",
    "\n",
    "predict_train6 = clf6.predict(X_train)\n",
    "predict_test6 = clf6.predict(X_test)\n",
    "\n",
    "score_train6 = clf6.score(X_train, y_train)\n",
    "score_test6 = clf6.score(X_test, y_test)\n",
    "\n",
    "# Accuracy tables.\n",
    "table_train6 = pd.crosstab(y_train, predict_train6, margins=True)\n",
    "table_test6 = pd.crosstab(y_test, predict_test6, margins=True)\n",
    "\n",
    "train_tI_errors6 = table_train6.loc[0.0,1.0] / table_train6.loc['All','All']\n",
    "train_tII_errors6 = table_train6.loc[1.0,0.0] / table_train6.loc['All','All']\n",
    "\n",
    "test_tI_errors6 = table_test6.loc[0.0,1.0]/table_test6.loc['All','All']\n",
    "test_tII_errors6 = table_test6.loc[1.0,0.0]/table_test6.loc['All','All']\n",
    "\n",
    "print((\n",
    "    'Training set accuracy:\\n'\n",
    "    'R-squared Score: {}\\n'\n",
    "    'Percent Type I errors: {}\\n'\n",
    "    'Percent Type II errors: {}\\n\\n'\n",
    "    'Test set accuracy:\\n'\n",
    "    'R-squared Score: {}\\n'\n",
    "    'Percent Type I errors: {}\\n'\n",
    "    'Percent Type II errors: {}'\n",
    ").format(score_train6, train_tI_errors6, train_tII_errors6, score_test6, test_tI_errors6, test_tII_errors6))\n"
   ]
  },
  {
   "cell_type": "markdown",
   "metadata": {},
   "source": [
    "Using a subsampling of 0.8, type 1 errors didn't change much, but type 2 errors from the test set increased.  This clearly didn't improve the accuracy of the model.  The last change I will make will be to change the loss function to see how this impacts accuracy.  I understand that the deviance is used for classifiers, but I will try other loss models just to see how they impact accuracy.\n",
    "\n",
    "### Loss Function: Exponential"
   ]
  },
  {
   "cell_type": "code",
   "execution_count": 18,
   "metadata": {},
   "outputs": [
    {
     "name": "stdout",
     "output_type": "stream",
     "text": [
      "Training set accuracy:\n",
      "R-squared Score: 0.7804146208401528\n",
      "Percent Type I errors: 0.04719039825422804\n",
      "Percent Type II errors: 0.1723949809056192\n",
      "\n",
      "Test set accuracy:\n",
      "R-squared Score: 0.7570552147239263\n",
      "Percent Type I errors: 0.06012269938650307\n",
      "Percent Type II errors: 0.18282208588957055\n"
     ]
    }
   ],
   "source": [
    "# We'll make 1000 iterations, use 2-deep trees, set our loss function to exponential, and set subsampling to 1.\n",
    "params = {'n_estimators': 1000,\n",
    "          'max_depth': 2,\n",
    "          'loss': 'exponential',\n",
    "         'subsample': 1}\n",
    "\n",
    "# Initialize and fit the model.\n",
    "clf7 = ensemble.GradientBoostingClassifier(**params)\n",
    "clf7.fit(X_train, y_train)\n",
    "\n",
    "predict_train7 = clf7.predict(X_train)\n",
    "predict_test7 = clf7.predict(X_test)\n",
    "\n",
    "score_train7 = clf7.score(X_train, y_train)\n",
    "score_test7 = clf7.score(X_test, y_test)\n",
    "\n",
    "# Accuracy tables.\n",
    "table_train7 = pd.crosstab(y_train, predict_train7, margins=True)\n",
    "table_test7 = pd.crosstab(y_test, predict_test7, margins=True)\n",
    "\n",
    "train_tI_errors7 = table_train7.loc[0.0,1.0] / table_train7.loc['All','All']\n",
    "train_tII_errors7 = table_train7.loc[1.0,0.0] / table_train7.loc['All','All']\n",
    "\n",
    "test_tI_errors7 = table_test7.loc[0.0,1.0]/table_test7.loc['All','All']\n",
    "test_tII_errors7 = table_test7.loc[1.0,0.0]/table_test7.loc['All','All']\n",
    "\n",
    "print((\n",
    "    'Training set accuracy:\\n'\n",
    "    'R-squared Score: {}\\n'\n",
    "    'Percent Type I errors: {}\\n'\n",
    "    'Percent Type II errors: {}\\n\\n'\n",
    "    'Test set accuracy:\\n'\n",
    "    'R-squared Score: {}\\n'\n",
    "    'Percent Type I errors: {}\\n'\n",
    "    'Percent Type II errors: {}'\n",
    ").format(score_train7, train_tI_errors7, train_tII_errors7, score_test7, test_tI_errors7, test_tII_errors7))\n"
   ]
  },
  {
   "cell_type": "markdown",
   "metadata": {},
   "source": [
    "This is not an improvement over the deviance model, as the error rates did not improve.  Because deviance is the appropriate loss function for classifier, I will keep the deviance loss function with 1000 iterations and a max depth of 2. \n",
    "\n",
    "Let's now inspect the different features for their importances in the best model, model 2."
   ]
  },
  {
   "cell_type": "code",
   "execution_count": 24,
   "metadata": {},
   "outputs": [
    {
     "data": {
      "image/png": "[encoded data removed]",
      "text/plain": [
       "<matplotlib.figure.Figure at 0x1175c3550>"
      ]
     },
     "metadata": {},
     "output_type": "display_data"
    }
   ],
   "source": [
    "feature_importance2 = clf2.feature_importances_\n",
    "\n",
    "# Make importances relative to max importance.\n",
    "feature_importance2 = 100.0 * (feature_importance2 / feature_importance2.max())\n",
    "sorted_idx2 = np.argsort(feature_importance2)\n",
    "pos2 = np.arange(sorted_idx2.shape[0]) + .5\n",
    "plt.subplot(1, 2, 2)\n",
    "plt.barh(pos2, feature_importance2[sorted_idx2], align='center')\n",
    "plt.yticks(pos2, X.columns[sorted_idx2])\n",
    "plt.xlabel('Relative Importance')\n",
    "plt.title('Variable Importance')\n",
    "plt.show()"
   ]
  },
  {
   "cell_type": "markdown",
   "metadata": {},
   "source": [
    "According to the best model, people's trust and faith in one another, along with their age, are the best indicators of a person's being in a partnership or not.  Following closely behind, is happiness.  This all makes sense because if people have faith in one another, they are more likely to develop close relationships, including partnerships with one another, and vice versa.  This faith in humanity then leads to overall happiness.  For these reasons, this model is a good predictor of a peron's relationship status. "
   ]
  },
  {
   "cell_type": "code",
   "execution_count": null,
   "metadata": {},
   "outputs": [],
   "source": []
  }
 ],
 "metadata": {
  "hide_input": false,
  "kernelspec": {
   "display_name": "Python 3",
   "language": "python",
   "name": "python3"
  },
  "language_info": {
   "codemirror_mode": {
    "name": "ipython",
    "version": 3
   },
   "file_extension": ".py",
   "mimetype": "text/x-python",
   "name": "python",
   "nbconvert_exporter": "python",
   "pygments_lexer": "ipython3",
   "version": "3.6.2"
  },
  "toc": {
   "colors": {
    "hover_highlight": "#DAA520",
    "running_highlight": "#FF0000",
    "selected_highlight": "#FFD700"
   },
   "moveMenuLeft": true,
   "nav_menu": {
    "height": "59px",
    "width": "252px"
   },
   "navigate_menu": true,
   "number_sections": true,
   "sideBar": true,
   "threshold": 4,
   "toc_cell": false,
   "toc_section_display": "block",
   "toc_window_display": false
  }
 },
 "nbformat": 4,
 "nbformat_minor": 2
}
