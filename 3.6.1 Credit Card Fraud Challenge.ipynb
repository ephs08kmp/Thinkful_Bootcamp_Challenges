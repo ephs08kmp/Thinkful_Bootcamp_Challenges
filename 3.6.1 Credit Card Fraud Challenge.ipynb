{
 "cells": [
  {
   "cell_type": "markdown",
   "metadata": {},
   "source": [
    "# 3.6.1 Credit Card Fraud Challenge\n",
    "\n",
    "__Data Source:__ [Kaggle Data Set](https://www.kaggle.com/mlg-ulb/creditcardfraud)\n",
    "\n",
    "__Description (from Kaggle Site):__ The datasets contains transactions made by credit cards in September 2013 by european cardholders. This dataset presents transactions that occurred in two days, where we have 492 frauds out of 284,807 transactions. The dataset is highly unbalanced, the positive class (frauds) account for 0.172% of all transactions.\n",
    "\n",
    "It contains only numerical input variables which are the result of a PCA transformation. Unfortunately, due to confidentiality issues, we cannot provide the original features and more background information about the data. Features V1, V2, ... V28 are the principal components obtained with PCA, the only features which have not been transformed with PCA are 'Time' and 'Amount'. Feature 'Time' contains the seconds elapsed between each transaction and the first transaction in the dataset. The feature 'Amount' is the transaction Amount, this feature can be used for example-dependant cost-senstive learning. Feature 'Class' is the response variable and it takes value 1 in case of fraud and 0 otherwise."
   ]
  },
  {
   "cell_type": "code",
   "execution_count": 1,
   "metadata": {},
   "outputs": [],
   "source": [
    "#necessary imports\n",
    "import numpy as np\n",
    "import pandas as pd\n",
    "import matplotlib.pyplot as plt\n",
    "import seaborn as sns\n",
    "from sklearn.model_selection import GridSearchCV, train_test_split, cross_val_score \n",
    "from sklearn.metrics import confusion_matrix\n",
    "\n",
    "%matplotlib inline"
   ]
  },
  {
   "cell_type": "markdown",
   "metadata": {},
   "source": [
    "__Importing and Initial Explortation of Data:__"
   ]
  },
  {
   "cell_type": "code",
   "execution_count": 2,
   "metadata": {},
   "outputs": [
    {
     "data": {
      "text/html": [
       "<div>\n",
       "<style scoped>\n",
       "    .dataframe tbody tr th:only-of-type {\n",
       "        vertical-align: middle;\n",
       "    }\n",
       "\n",
       "    .dataframe tbody tr th {\n",
       "        vertical-align: top;\n",
       "    }\n",
       "\n",
       "    .dataframe thead th {\n",
       "        text-align: right;\n",
       "    }\n",
       "</style>\n",
       "<table border=\"1\" class=\"dataframe\">\n",
       "  <thead>\n",
       "    <tr style=\"text-align: right;\">\n",
       "      <th></th>\n",
       "      <th>Time</th>\n",
       "      <th>V1</th>\n",
       "      <th>V2</th>\n",
       "      <th>V3</th>\n",
       "      <th>V4</th>\n",
       "      <th>V5</th>\n",
       "      <th>V6</th>\n",
       "      <th>V7</th>\n",
       "      <th>V8</th>\n",
       "      <th>V9</th>\n",
       "      <th>...</th>\n",
       "      <th>V21</th>\n",
       "      <th>V22</th>\n",
       "      <th>V23</th>\n",
       "      <th>V24</th>\n",
       "      <th>V25</th>\n",
       "      <th>V26</th>\n",
       "      <th>V27</th>\n",
       "      <th>V28</th>\n",
       "      <th>Amount</th>\n",
       "      <th>Class</th>\n",
       "    </tr>\n",
       "  </thead>\n",
       "  <tbody>\n",
       "    <tr>\n",
       "      <th>0</th>\n",
       "      <td>0.0</td>\n",
       "      <td>-1.359807</td>\n",
       "      <td>-0.072781</td>\n",
       "      <td>2.536347</td>\n",
       "      <td>1.378155</td>\n",
       "      <td>-0.338321</td>\n",
       "      <td>0.462388</td>\n",
       "      <td>0.239599</td>\n",
       "      <td>0.098698</td>\n",
       "      <td>0.363787</td>\n",
       "      <td>...</td>\n",
       "      <td>-0.018307</td>\n",
       "      <td>0.277838</td>\n",
       "      <td>-0.110474</td>\n",
       "      <td>0.066928</td>\n",
       "      <td>0.128539</td>\n",
       "      <td>-0.189115</td>\n",
       "      <td>0.133558</td>\n",
       "      <td>-0.021053</td>\n",
       "      <td>149.62</td>\n",
       "      <td>0</td>\n",
       "    </tr>\n",
       "    <tr>\n",
       "      <th>1</th>\n",
       "      <td>0.0</td>\n",
       "      <td>1.191857</td>\n",
       "      <td>0.266151</td>\n",
       "      <td>0.166480</td>\n",
       "      <td>0.448154</td>\n",
       "      <td>0.060018</td>\n",
       "      <td>-0.082361</td>\n",
       "      <td>-0.078803</td>\n",
       "      <td>0.085102</td>\n",
       "      <td>-0.255425</td>\n",
       "      <td>...</td>\n",
       "      <td>-0.225775</td>\n",
       "      <td>-0.638672</td>\n",
       "      <td>0.101288</td>\n",
       "      <td>-0.339846</td>\n",
       "      <td>0.167170</td>\n",
       "      <td>0.125895</td>\n",
       "      <td>-0.008983</td>\n",
       "      <td>0.014724</td>\n",
       "      <td>2.69</td>\n",
       "      <td>0</td>\n",
       "    </tr>\n",
       "    <tr>\n",
       "      <th>2</th>\n",
       "      <td>1.0</td>\n",
       "      <td>-1.358354</td>\n",
       "      <td>-1.340163</td>\n",
       "      <td>1.773209</td>\n",
       "      <td>0.379780</td>\n",
       "      <td>-0.503198</td>\n",
       "      <td>1.800499</td>\n",
       "      <td>0.791461</td>\n",
       "      <td>0.247676</td>\n",
       "      <td>-1.514654</td>\n",
       "      <td>...</td>\n",
       "      <td>0.247998</td>\n",
       "      <td>0.771679</td>\n",
       "      <td>0.909412</td>\n",
       "      <td>-0.689281</td>\n",
       "      <td>-0.327642</td>\n",
       "      <td>-0.139097</td>\n",
       "      <td>-0.055353</td>\n",
       "      <td>-0.059752</td>\n",
       "      <td>378.66</td>\n",
       "      <td>0</td>\n",
       "    </tr>\n",
       "    <tr>\n",
       "      <th>3</th>\n",
       "      <td>1.0</td>\n",
       "      <td>-0.966272</td>\n",
       "      <td>-0.185226</td>\n",
       "      <td>1.792993</td>\n",
       "      <td>-0.863291</td>\n",
       "      <td>-0.010309</td>\n",
       "      <td>1.247203</td>\n",
       "      <td>0.237609</td>\n",
       "      <td>0.377436</td>\n",
       "      <td>-1.387024</td>\n",
       "      <td>...</td>\n",
       "      <td>-0.108300</td>\n",
       "      <td>0.005274</td>\n",
       "      <td>-0.190321</td>\n",
       "      <td>-1.175575</td>\n",
       "      <td>0.647376</td>\n",
       "      <td>-0.221929</td>\n",
       "      <td>0.062723</td>\n",
       "      <td>0.061458</td>\n",
       "      <td>123.50</td>\n",
       "      <td>0</td>\n",
       "    </tr>\n",
       "    <tr>\n",
       "      <th>4</th>\n",
       "      <td>2.0</td>\n",
       "      <td>-1.158233</td>\n",
       "      <td>0.877737</td>\n",
       "      <td>1.548718</td>\n",
       "      <td>0.403034</td>\n",
       "      <td>-0.407193</td>\n",
       "      <td>0.095921</td>\n",
       "      <td>0.592941</td>\n",
       "      <td>-0.270533</td>\n",
       "      <td>0.817739</td>\n",
       "      <td>...</td>\n",
       "      <td>-0.009431</td>\n",
       "      <td>0.798278</td>\n",
       "      <td>-0.137458</td>\n",
       "      <td>0.141267</td>\n",
       "      <td>-0.206010</td>\n",
       "      <td>0.502292</td>\n",
       "      <td>0.219422</td>\n",
       "      <td>0.215153</td>\n",
       "      <td>69.99</td>\n",
       "      <td>0</td>\n",
       "    </tr>\n",
       "  </tbody>\n",
       "</table>\n",
       "<p>5 rows × 31 columns</p>\n",
       "</div>"
      ],
      "text/plain": [
       "   Time        V1        V2        V3        V4        V5        V6        V7  \\\n",
       "0   0.0 -1.359807 -0.072781  2.536347  1.378155 -0.338321  0.462388  0.239599   \n",
       "1   0.0  1.191857  0.266151  0.166480  0.448154  0.060018 -0.082361 -0.078803   \n",
       "2   1.0 -1.358354 -1.340163  1.773209  0.379780 -0.503198  1.800499  0.791461   \n",
       "3   1.0 -0.966272 -0.185226  1.792993 -0.863291 -0.010309  1.247203  0.237609   \n",
       "4   2.0 -1.158233  0.877737  1.548718  0.403034 -0.407193  0.095921  0.592941   \n",
       "\n",
       "         V8        V9  ...         V21       V22       V23       V24  \\\n",
       "0  0.098698  0.363787  ...   -0.018307  0.277838 -0.110474  0.066928   \n",
       "1  0.085102 -0.255425  ...   -0.225775 -0.638672  0.101288 -0.339846   \n",
       "2  0.247676 -1.514654  ...    0.247998  0.771679  0.909412 -0.689281   \n",
       "3  0.377436 -1.387024  ...   -0.108300  0.005274 -0.190321 -1.175575   \n",
       "4 -0.270533  0.817739  ...   -0.009431  0.798278 -0.137458  0.141267   \n",
       "\n",
       "        V25       V26       V27       V28  Amount  Class  \n",
       "0  0.128539 -0.189115  0.133558 -0.021053  149.62      0  \n",
       "1  0.167170  0.125895 -0.008983  0.014724    2.69      0  \n",
       "2 -0.327642 -0.139097 -0.055353 -0.059752  378.66      0  \n",
       "3  0.647376 -0.221929  0.062723  0.061458  123.50      0  \n",
       "4 -0.206010  0.502292  0.219422  0.215153   69.99      0  \n",
       "\n",
       "[5 rows x 31 columns]"
      ]
     },
     "execution_count": 2,
     "metadata": {},
     "output_type": "execute_result"
    }
   ],
   "source": [
    "cc_data = pd.read_csv('creditcard.csv')\n",
    "cc_data.head()"
   ]
  },
  {
   "cell_type": "code",
   "execution_count": 3,
   "metadata": {},
   "outputs": [
    {
     "data": {
      "text/plain": [
       "Time      0\n",
       "V1        0\n",
       "V2        0\n",
       "V3        0\n",
       "V4        0\n",
       "V5        0\n",
       "V6        0\n",
       "V7        0\n",
       "V8        0\n",
       "V9        0\n",
       "V10       0\n",
       "V11       0\n",
       "V12       0\n",
       "V13       0\n",
       "V14       0\n",
       "V15       0\n",
       "V16       0\n",
       "V17       0\n",
       "V18       0\n",
       "V19       0\n",
       "V20       0\n",
       "V21       0\n",
       "V22       0\n",
       "V23       0\n",
       "V24       0\n",
       "V25       0\n",
       "V26       0\n",
       "V27       0\n",
       "V28       0\n",
       "Amount    0\n",
       "Class     0\n",
       "dtype: int64"
      ]
     },
     "execution_count": 3,
     "metadata": {},
     "output_type": "execute_result"
    }
   ],
   "source": [
    "#inspecting for null values\n",
    "cc_data.isnull().sum()"
   ]
  },
  {
   "cell_type": "markdown",
   "metadata": {},
   "source": [
    "There are no null values in this data set.  Since this data has already been processed through PCA (according to the Kaggle site), this data has already been cleaned and null values removed. \n",
    "\n",
    "Next, let's check the spread of the target variable, Class."
   ]
  },
  {
   "cell_type": "code",
   "execution_count": 4,
   "metadata": {},
   "outputs": [
    {
     "data": {
      "image/png": "[encoded data removed]",
      "text/plain": [
       "<matplotlib.figure.Figure at 0x1065f6eb8>"
      ]
     },
     "metadata": {},
     "output_type": "display_data"
    },
    {
     "name": "stdout",
     "output_type": "stream",
     "text": [
      "0    284315\n",
      "1       492\n",
      "Name: Class, dtype: int64\n",
      "\n",
      "Number of Transactions in Data Set: 284807\n",
      "Percent Fraud: 0.1727485630620034\n"
     ]
    }
   ],
   "source": [
    "sns.countplot('Class', data=cc_data)\n",
    "plt.title('Count of Fraud Classes')\n",
    "plt.show()\n",
    "\n",
    "print(cc_data.Class.value_counts())\n",
    "print('\\nNumber of Transactions in Data Set: {}\\nPercent Fraud: {}'.format(\n",
    "    len(cc_data['Class']),\n",
    "    len(cc_data[cc_data['Class']==1])/len(cc_data['Class'])*100))"
   ]
  },
  {
   "cell_type": "markdown",
   "metadata": {},
   "source": [
    "Only 0.17% of the transactions in this data set are actually fraud.  This means that the data set is incredibly unbalanced.  Since nearly 500 transactions are fraudulent, we can apply undersampling to the data set to make the data set balanced for training the model.  Before undersampling, I will separate the data into train and test sets."
   ]
  },
  {
   "cell_type": "code",
   "execution_count": 5,
   "metadata": {},
   "outputs": [
    {
     "name": "stdout",
     "output_type": "stream",
     "text": [
      "Training Set Percent Fraut: 0.1746801553687814\n",
      "Test Set Percent Fraud: 0.1650222955654647\n"
     ]
    }
   ],
   "source": [
    "#Splitting into training and test sets\n",
    "X_train, X_test, y_train, y_test = train_test_split(\n",
    "    cc_data.drop('Class', axis=1), \n",
    "    cc_data['Class'],\n",
    "    test_size=0.20)\n",
    "\n",
    "print('Training Set Percent Fraut: {}'.format(\n",
    "    len(y_train[y_train == 1])/len(y_train)*100))\n",
    "print('Test Set Percent Fraud: {}'.format(\n",
    "    len(y_test[y_test == 1])/len(y_test)*100))"
   ]
  },
  {
   "cell_type": "markdown",
   "metadata": {},
   "source": [
    "The training and test set both have similar percent of fraudulent transactions as the data set as a whole.  This is necessary for fair training and test data sets.  Continue witn under sampling. "
   ]
  },
  {
   "cell_type": "code",
   "execution_count": 6,
   "metadata": {},
   "outputs": [
    {
     "name": "stdout",
     "output_type": "stream",
     "text": [
      "Resampled Training Set Percent Fraud: 50.0\n"
     ]
    }
   ],
   "source": [
    "#Under sampling \n",
    "from imblearn.under_sampling import RandomUnderSampler\n",
    "\n",
    "rus = RandomUnderSampler()\n",
    "X_rus, y_rus = rus.fit_sample(X=X_train, y=y_train)\n",
    "\n",
    "print('Resampled Training Set Percent Fraud: {}'.format(\n",
    "    len(y_rus[y_rus == 1])/len(y_rus)*100))"
   ]
  },
  {
   "cell_type": "markdown",
   "metadata": {},
   "source": [
    "The re-sampled data set now has half fraudulent charges and half non-fraudulent charges.  This re-sampled data set is now unbiased and we can continue training models.  We will use the test set, which was not under-sampled to determine how well the model predicts the outcomes.\n",
    "\n",
    "## Modleing: Logistic Regression with Under Sampled Data\n",
    "\n",
    "With this undersampled data, there are now 50% fraudulent data points and 50% unfraudulent data.  This way the model can be trained with data that is half of each target value.  This will allow the accuracy analysis to be less biased to determine if the model is able to identify the fraudulent transactions.\n",
    "\n",
    "I will use a logistic regression model with L1 penalty to hone in on the best features in the data."
   ]
  },
  {
   "cell_type": "code",
   "execution_count": 7,
   "metadata": {},
   "outputs": [
    {
     "name": "stdout",
     "output_type": "stream",
     "text": [
      "0.957286432160804\n"
     ]
    }
   ],
   "source": [
    "from sklearn.linear_model import LogisticRegressionCV\n",
    "lr = LogisticRegressionCV(Cs=[1,10,50,100,500], \n",
    "                               penalty='l1',\n",
    "                         solver='liblinear')\n",
    "lr.fit(X_rus, y_rus)\n",
    "print(lr.score(X_rus, y_rus))"
   ]
  },
  {
   "cell_type": "markdown",
   "metadata": {},
   "source": [
    "This logistic regression model correctly predicted 95% of the undersampled data.  Let's continue to inspect the model and its efficacy through identifying the optimum C value, the coefficients, and intercept."
   ]
  },
  {
   "cell_type": "code",
   "execution_count": 8,
   "metadata": {},
   "outputs": [
    {
     "name": "stdout",
     "output_type": "stream",
     "text": [
      "[1]\n",
      "[[-9.33178215e-06  1.86764293e-01  1.03889245e-01 -9.53043336e-02\n",
      "   9.13528934e-01  4.04222180e-01 -4.82980420e-01 -3.99818709e-02\n",
      "  -4.92065437e-01 -2.43937403e-01 -6.31879014e-01  4.28707626e-01\n",
      "  -8.03189553e-01 -3.26925603e-01 -1.22761998e+00 -1.01049695e-01\n",
      "  -2.33668973e-01 -9.84039496e-02  1.29721186e-02 -6.94956001e-02\n",
      "   1.39085720e-01 -5.31806677e-02  6.98096402e-01  0.00000000e+00\n",
      "   0.00000000e+00 -3.35249327e-01 -2.90449727e-01  0.00000000e+00\n",
      "   0.00000000e+00  2.39946388e-03]]\n",
      "[-2.77208445]\n"
     ]
    }
   ],
   "source": [
    "print(lr.C_)\n",
    "print(lr.coef_)\n",
    "print(lr.intercept_)"
   ]
  },
  {
   "cell_type": "markdown",
   "metadata": {},
   "source": [
    "Now, let's inspect the accuracy and precision of the model through a confusion matrix.  We're most concerned with correctly labeling fraudulent cases as such, therefore minimizing the false negatives.  For these cases, we should look at the recall statistic to determine how well the model is performing."
   ]
  },
  {
   "cell_type": "code",
   "execution_count": 9,
   "metadata": {
    "scrolled": true
   },
   "outputs": [
    {
     "name": "stdout",
     "output_type": "stream",
     "text": [
      "Recall for this model is: 0.9271356783919598\n"
     ]
    },
    {
     "data": {
      "image/png": "[encoded data removed]",
      "text/plain": [
       "<matplotlib.figure.Figure at 0x125b45cc0>"
      ]
     },
     "metadata": {},
     "output_type": "display_data"
    }
   ],
   "source": [
    "#using model to predict undersampled training set and construct confusion matrix\n",
    "y_pred = lr.predict(X_rus)\n",
    "conf_matrix = confusion_matrix(y_rus, y_pred)\n",
    "#calculating recall from confusion matrix\n",
    "recall = conf_matrix[1,1]/(conf_matrix[1,1]+conf_matrix[1,0])\n",
    "print('Recall for this model is: {}'.format(recall))\n",
    "\n",
    "#creating heatmap of confusion matrix\n",
    "sns.heatmap(conf_matrix, \n",
    "            cmap='coolwarm_r', \n",
    "            annot=True, \n",
    "            linewidths=0.5)\n",
    "plt.title('Confusion Matrix for Training Set')\n",
    "plt.xlabel('Predicted Class')\n",
    "plt.ylabel('Real Class')\n",
    "plt.show()"
   ]
  },
  {
   "cell_type": "markdown",
   "metadata": {},
   "source": [
    "The recall for this model is 92.75%, which is fairly high for the model.  Only 26 fraudulent cases were predicted to be non-fraudulent.  The other 370 were predicted correctly. Let's check the test set for the model's recall.\n",
    "\n",
    "__Test Set Recall__"
   ]
  },
  {
   "cell_type": "code",
   "execution_count": 10,
   "metadata": {},
   "outputs": [
    {
     "name": "stdout",
     "output_type": "stream",
     "text": [
      "Recall for the Test Set is: 0.9361702127659575\n"
     ]
    },
    {
     "data": {
      "image/png": "[encoded data removed]",
      "text/plain": [
       "<matplotlib.figure.Figure at 0x125bc5be0>"
      ]
     },
     "metadata": {},
     "output_type": "display_data"
    }
   ],
   "source": [
    "#using model to predict test set and construct confusion matrix\n",
    "y_test_pred = lr.predict(X_test)\n",
    "conf_matrix_test = confusion_matrix(y_test, y_test_pred)\n",
    "#calculating recall from confusion matrix\n",
    "recall_test = conf_matrix_test[1,1]/(conf_matrix_test[1,1]+conf_matrix_test[1,0])\n",
    "print('Recall for the Test Set is: {}'.format(recall_test))\n",
    "\n",
    "#creating heatmap of confusion matrix\n",
    "sns.heatmap(conf_matrix_test,\n",
    "           cmap='coolwarm_r',\n",
    "           annot=True,\n",
    "           linewidths=0.5)\n",
    "plt.title('Confusion Matrix for Test Set')\n",
    "plt.xlabel('Predicted Class')\n",
    "plt.ylabel('Real Class')\n",
    "plt.show()"
   ]
  },
  {
   "cell_type": "markdown",
   "metadata": {},
   "source": [
    "The test set recall increased to 93%.  Only 6 of the 94 fraudulent cases were mis-labeled through this model.  This is a fairly high percent of recall.  In inspecting the confusion matrix, 2200 non-fraudulent transactions were identified, which is costly for the man-power required for customers to identify that the transaction is authentic, but there were still 55,000 non-fraudulent charges identified as such. \n",
    "\n",
    "Let's try SVM classifier as a second model to see how well that performs in comparison.\n",
    "\n",
    "## Modeling: SVM Classifier with Under Sampled Data"
   ]
  },
  {
   "cell_type": "code",
   "execution_count": null,
   "metadata": {},
   "outputs": [],
   "source": [
    "from sklearn.svm import SVC\n",
    "\n",
    "svc = SVC()\n",
    "parameters = [{'kernel': ['rbf'], 'C': [0.1,1,10,50], 'gamma':[0.0001,0.001]},\n",
    "             {'kernel': ['linear'], 'C': [0.1,1,10,50]}]\n",
    "grid = GridSearchCV(svc, param_grid=parameters)\n",
    "grid.fit(X_rus, y_rus)\n",
    "print(grid.best_params_)\n",
    "print(grid.best_score_)"
   ]
  },
  {
   "cell_type": "code",
   "execution_count": null,
   "metadata": {},
   "outputs": [],
   "source": []
  },
  {
   "cell_type": "code",
   "execution_count": null,
   "metadata": {},
   "outputs": [],
   "source": []
  },
  {
   "cell_type": "code",
   "execution_count": null,
   "metadata": {},
   "outputs": [],
   "source": [
    "#using model to predict undersampled training set and construct confusion matrix\n",
    "y_pred_svc = svc.predict(X_rus)\n",
    "conf_matrix_svc = confusion_matrix(y_rus, y_pred_svc)\n",
    "#calculating recall from confusion matrix\n",
    "recall_svc = conf_matrix_svc[1,1]/(conf_matrix_svc[1,1]+conf_matrix_svc[1,0])\n",
    "print('Recall for the SVC model is: {}'.format(recall_svc))\n",
    "\n",
    "#creating heatmap of confusion matrix\n",
    "sns.heatmap(conf_matrix_svc, \n",
    "            cmap='coolwarm_r', \n",
    "            annot=True, \n",
    "            linewidths=0.5)\n",
    "plt.title('SVC Confusion Matrix for Training Set')\n",
    "plt.xlabel('Predicted Class')\n",
    "plt.ylabel('Real Class')\n",
    "plt.show()"
   ]
  },
  {
   "cell_type": "code",
   "execution_count": null,
   "metadata": {},
   "outputs": [],
   "source": [
    "#using model to predict test set and construct confusion matrix\n",
    "y_test_svc_pred = svc.predict(X_test)\n",
    "conf_matrix_test_svc = confusion_matrix(y_test, y_test_svc_pred)\n",
    "#calculating recall from confusion matrix\n",
    "recall_test_svc = conf_matrix_test_svc[1,1]/(conf_matrix_test_svc[1,1]+conf_matrix_test_svc[1,0])\n",
    "print('Recall for the SVC Test Set is: {}'.format(recall_test_svc))\n",
    "\n",
    "#creating heatmap of confusion matrix\n",
    "sns.heatmap(conf_matrix_test_svc,\n",
    "           cmap='coolwarm_r',\n",
    "           annot=True,\n",
    "           linewidths=0.5)\n",
    "plt.title('SVC Confusion Matrix for Test Set')\n",
    "plt.xlabel('Predicted Class')\n",
    "plt.ylabel('Real Class')\n",
    "plt.show()"
   ]
  }
 ],
 "metadata": {
  "kernelspec": {
   "display_name": "Python 3",
   "language": "python",
   "name": "python3"
  },
  "language_info": {
   "codemirror_mode": {
    "name": "ipython",
    "version": 3
   },
   "file_extension": ".py",
   "mimetype": "text/x-python",
   "name": "python",
   "nbconvert_exporter": "python",
   "pygments_lexer": "ipython3",
   "version": "3.6.2"
  }
 },
 "nbformat": 4,
 "nbformat_minor": 2
}
