{
 "cells": [
  {
   "cell_type": "markdown",
   "metadata": {},
   "source": [
    "# 3.6.1 Credit Card Fraud Challenge\n",
    "\n",
    "__Data Source:__ [Kaggle Data Set](https://www.kaggle.com/mlg-ulb/creditcardfraud)\n",
    "\n",
    "__Description (from Kaggle Site):__ The datasets contains transactions made by credit cards in September 2013 by european cardholders. This dataset presents transactions that occurred in two days, where we have 492 frauds out of 284,807 transactions. The dataset is highly unbalanced, the positive class (frauds) account for 0.172% of all transactions.\n",
    "\n",
    "It contains only numerical input variables which are the result of a PCA transformation. Unfortunately, due to confidentiality issues, we cannot provide the original features and more background information about the data. Features V1, V2, ... V28 are the principal components obtained with PCA, the only features which have not been transformed with PCA are 'Time' and 'Amount'. Feature 'Time' contains the seconds elapsed between each transaction and the first transaction in the dataset. The feature 'Amount' is the transaction Amount, this feature can be used for example-dependant cost-senstive learning. Feature 'Class' is the response variable and it takes value 1 in case of fraud and 0 otherwise."
   ]
  },
  {
   "cell_type": "code",
   "execution_count": 1,
   "metadata": {},
   "outputs": [],
   "source": [
    "#necessary imports\n",
    "import numpy as np\n",
    "import pandas as pd\n",
    "import matplotlib.pyplot as plt\n",
    "import seaborn as sns\n",
    "from sklearn.model_selection import GridSearchCV, train_test_split, cross_val_score \n",
    "from sklearn.metrics import confusion_matrix\n",
    "\n",
    "%matplotlib inline"
   ]
  },
  {
   "cell_type": "markdown",
   "metadata": {},
   "source": [
    "__Importing and Initial Explortation of Data:__"
   ]
  },
  {
   "cell_type": "code",
   "execution_count": 2,
   "metadata": {},
   "outputs": [
    {
     "data": {
      "text/html": [
       "<div>\n",
       "<style scoped>\n",
       "    .dataframe tbody tr th:only-of-type {\n",
       "        vertical-align: middle;\n",
       "    }\n",
       "\n",
       "    .dataframe tbody tr th {\n",
       "        vertical-align: top;\n",
       "    }\n",
       "\n",
       "    .dataframe thead th {\n",
       "        text-align: right;\n",
       "    }\n",
       "</style>\n",
       "<table border=\"1\" class=\"dataframe\">\n",
       "  <thead>\n",
       "    <tr style=\"text-align: right;\">\n",
       "      <th></th>\n",
       "      <th>Time</th>\n",
       "      <th>V1</th>\n",
       "      <th>V2</th>\n",
       "      <th>V3</th>\n",
       "      <th>V4</th>\n",
       "      <th>V5</th>\n",
       "      <th>V6</th>\n",
       "      <th>V7</th>\n",
       "      <th>V8</th>\n",
       "      <th>V9</th>\n",
       "      <th>...</th>\n",
       "      <th>V21</th>\n",
       "      <th>V22</th>\n",
       "      <th>V23</th>\n",
       "      <th>V24</th>\n",
       "      <th>V25</th>\n",
       "      <th>V26</th>\n",
       "      <th>V27</th>\n",
       "      <th>V28</th>\n",
       "      <th>Amount</th>\n",
       "      <th>Class</th>\n",
       "    </tr>\n",
       "  </thead>\n",
       "  <tbody>\n",
       "    <tr>\n",
       "      <th>0</th>\n",
       "      <td>0.0</td>\n",
       "      <td>-1.359807</td>\n",
       "      <td>-0.072781</td>\n",
       "      <td>2.536347</td>\n",
       "      <td>1.378155</td>\n",
       "      <td>-0.338321</td>\n",
       "      <td>0.462388</td>\n",
       "      <td>0.239599</td>\n",
       "      <td>0.098698</td>\n",
       "      <td>0.363787</td>\n",
       "      <td>...</td>\n",
       "      <td>-0.018307</td>\n",
       "      <td>0.277838</td>\n",
       "      <td>-0.110474</td>\n",
       "      <td>0.066928</td>\n",
       "      <td>0.128539</td>\n",
       "      <td>-0.189115</td>\n",
       "      <td>0.133558</td>\n",
       "      <td>-0.021053</td>\n",
       "      <td>149.62</td>\n",
       "      <td>0</td>\n",
       "    </tr>\n",
       "    <tr>\n",
       "      <th>1</th>\n",
       "      <td>0.0</td>\n",
       "      <td>1.191857</td>\n",
       "      <td>0.266151</td>\n",
       "      <td>0.166480</td>\n",
       "      <td>0.448154</td>\n",
       "      <td>0.060018</td>\n",
       "      <td>-0.082361</td>\n",
       "      <td>-0.078803</td>\n",
       "      <td>0.085102</td>\n",
       "      <td>-0.255425</td>\n",
       "      <td>...</td>\n",
       "      <td>-0.225775</td>\n",
       "      <td>-0.638672</td>\n",
       "      <td>0.101288</td>\n",
       "      <td>-0.339846</td>\n",
       "      <td>0.167170</td>\n",
       "      <td>0.125895</td>\n",
       "      <td>-0.008983</td>\n",
       "      <td>0.014724</td>\n",
       "      <td>2.69</td>\n",
       "      <td>0</td>\n",
       "    </tr>\n",
       "    <tr>\n",
       "      <th>2</th>\n",
       "      <td>1.0</td>\n",
       "      <td>-1.358354</td>\n",
       "      <td>-1.340163</td>\n",
       "      <td>1.773209</td>\n",
       "      <td>0.379780</td>\n",
       "      <td>-0.503198</td>\n",
       "      <td>1.800499</td>\n",
       "      <td>0.791461</td>\n",
       "      <td>0.247676</td>\n",
       "      <td>-1.514654</td>\n",
       "      <td>...</td>\n",
       "      <td>0.247998</td>\n",
       "      <td>0.771679</td>\n",
       "      <td>0.909412</td>\n",
       "      <td>-0.689281</td>\n",
       "      <td>-0.327642</td>\n",
       "      <td>-0.139097</td>\n",
       "      <td>-0.055353</td>\n",
       "      <td>-0.059752</td>\n",
       "      <td>378.66</td>\n",
       "      <td>0</td>\n",
       "    </tr>\n",
       "    <tr>\n",
       "      <th>3</th>\n",
       "      <td>1.0</td>\n",
       "      <td>-0.966272</td>\n",
       "      <td>-0.185226</td>\n",
       "      <td>1.792993</td>\n",
       "      <td>-0.863291</td>\n",
       "      <td>-0.010309</td>\n",
       "      <td>1.247203</td>\n",
       "      <td>0.237609</td>\n",
       "      <td>0.377436</td>\n",
       "      <td>-1.387024</td>\n",
       "      <td>...</td>\n",
       "      <td>-0.108300</td>\n",
       "      <td>0.005274</td>\n",
       "      <td>-0.190321</td>\n",
       "      <td>-1.175575</td>\n",
       "      <td>0.647376</td>\n",
       "      <td>-0.221929</td>\n",
       "      <td>0.062723</td>\n",
       "      <td>0.061458</td>\n",
       "      <td>123.50</td>\n",
       "      <td>0</td>\n",
       "    </tr>\n",
       "    <tr>\n",
       "      <th>4</th>\n",
       "      <td>2.0</td>\n",
       "      <td>-1.158233</td>\n",
       "      <td>0.877737</td>\n",
       "      <td>1.548718</td>\n",
       "      <td>0.403034</td>\n",
       "      <td>-0.407193</td>\n",
       "      <td>0.095921</td>\n",
       "      <td>0.592941</td>\n",
       "      <td>-0.270533</td>\n",
       "      <td>0.817739</td>\n",
       "      <td>...</td>\n",
       "      <td>-0.009431</td>\n",
       "      <td>0.798278</td>\n",
       "      <td>-0.137458</td>\n",
       "      <td>0.141267</td>\n",
       "      <td>-0.206010</td>\n",
       "      <td>0.502292</td>\n",
       "      <td>0.219422</td>\n",
       "      <td>0.215153</td>\n",
       "      <td>69.99</td>\n",
       "      <td>0</td>\n",
       "    </tr>\n",
       "  </tbody>\n",
       "</table>\n",
       "<p>5 rows × 31 columns</p>\n",
       "</div>"
      ],
      "text/plain": [
       "   Time        V1        V2        V3        V4        V5        V6        V7  \\\n",
       "0   0.0 -1.359807 -0.072781  2.536347  1.378155 -0.338321  0.462388  0.239599   \n",
       "1   0.0  1.191857  0.266151  0.166480  0.448154  0.060018 -0.082361 -0.078803   \n",
       "2   1.0 -1.358354 -1.340163  1.773209  0.379780 -0.503198  1.800499  0.791461   \n",
       "3   1.0 -0.966272 -0.185226  1.792993 -0.863291 -0.010309  1.247203  0.237609   \n",
       "4   2.0 -1.158233  0.877737  1.548718  0.403034 -0.407193  0.095921  0.592941   \n",
       "\n",
       "         V8        V9  ...         V21       V22       V23       V24  \\\n",
       "0  0.098698  0.363787  ...   -0.018307  0.277838 -0.110474  0.066928   \n",
       "1  0.085102 -0.255425  ...   -0.225775 -0.638672  0.101288 -0.339846   \n",
       "2  0.247676 -1.514654  ...    0.247998  0.771679  0.909412 -0.689281   \n",
       "3  0.377436 -1.387024  ...   -0.108300  0.005274 -0.190321 -1.175575   \n",
       "4 -0.270533  0.817739  ...   -0.009431  0.798278 -0.137458  0.141267   \n",
       "\n",
       "        V25       V26       V27       V28  Amount  Class  \n",
       "0  0.128539 -0.189115  0.133558 -0.021053  149.62      0  \n",
       "1  0.167170  0.125895 -0.008983  0.014724    2.69      0  \n",
       "2 -0.327642 -0.139097 -0.055353 -0.059752  378.66      0  \n",
       "3  0.647376 -0.221929  0.062723  0.061458  123.50      0  \n",
       "4 -0.206010  0.502292  0.219422  0.215153   69.99      0  \n",
       "\n",
       "[5 rows x 31 columns]"
      ]
     },
     "execution_count": 2,
     "metadata": {},
     "output_type": "execute_result"
    }
   ],
   "source": [
    "cc_data = pd.read_csv('creditcard.csv')\n",
    "cc_data.head()"
   ]
  },
  {
   "cell_type": "code",
   "execution_count": 3,
   "metadata": {},
   "outputs": [
    {
     "data": {
      "text/plain": [
       "Time      0\n",
       "V1        0\n",
       "V2        0\n",
       "V3        0\n",
       "V4        0\n",
       "V5        0\n",
       "V6        0\n",
       "V7        0\n",
       "V8        0\n",
       "V9        0\n",
       "V10       0\n",
       "V11       0\n",
       "V12       0\n",
       "V13       0\n",
       "V14       0\n",
       "V15       0\n",
       "V16       0\n",
       "V17       0\n",
       "V18       0\n",
       "V19       0\n",
       "V20       0\n",
       "V21       0\n",
       "V22       0\n",
       "V23       0\n",
       "V24       0\n",
       "V25       0\n",
       "V26       0\n",
       "V27       0\n",
       "V28       0\n",
       "Amount    0\n",
       "Class     0\n",
       "dtype: int64"
      ]
     },
     "execution_count": 3,
     "metadata": {},
     "output_type": "execute_result"
    }
   ],
   "source": [
    "#inspecting for null values\n",
    "cc_data.isnull().sum()"
   ]
  },
  {
   "cell_type": "markdown",
   "metadata": {},
   "source": [
    "There are no null values in this data set.  Since this data has already been processed through PCA (according to the Kaggle site), this data has already been cleaned and null values removed. \n",
    "\n",
    "Next, let's check the spread of the target variable, Class."
   ]
  },
  {
   "cell_type": "code",
   "execution_count": 4,
   "metadata": {},
   "outputs": [
    {
     "data": {
      "image/png": "[encoded data removed]",
      "text/plain": [
       "<matplotlib.figure.Figure at 0x113f8bd30>"
      ]
     },
     "metadata": {},
     "output_type": "display_data"
    },
    {
     "name": "stdout",
     "output_type": "stream",
     "text": [
      "0    284315\n",
      "1       492\n",
      "Name: Class, dtype: int64\n",
      "\n",
      "Number of Transactions in Data Set: 284807\n",
      "Percent Fraud: 0.1727485630620034\n"
     ]
    }
   ],
   "source": [
    "sns.countplot('Class', data=cc_data)\n",
    "plt.title('Count of Fraud Classes')\n",
    "plt.show()\n",
    "\n",
    "print(cc_data.Class.value_counts())\n",
    "print('\\nNumber of Transactions in Data Set: {}\\nPercent Fraud: {}'.format(\n",
    "    len(cc_data['Class']),\n",
    "    len(cc_data[cc_data['Class']==1])/len(cc_data['Class'])*100))"
   ]
  },
  {
   "cell_type": "markdown",
   "metadata": {},
   "source": [
    "Only 0.17% of the transactions in this data set are actually fraud.  This means that the data set is incredibly unbalanced.  Since nearly 500 transactions are fraudulent, we can apply undersampling to the data set to make the data set balanced for training the model.  Before undersampling, I will separate the data into train and test sets."
   ]
  },
  {
   "cell_type": "code",
   "execution_count": 5,
   "metadata": {},
   "outputs": [
    {
     "name": "stdout",
     "output_type": "stream",
     "text": [
      "Training Set Percent Fraut: 0.17424126050604577\n",
      "Test Set Percent Fraud: 0.1667778519012675\n"
     ]
    }
   ],
   "source": [
    "#Splitting into training and test sets\n",
    "X_train, X_test, y_train, y_test = train_test_split(\n",
    "    cc_data.drop('Class', axis=1), \n",
    "    cc_data['Class'],\n",
    "    test_size=0.20)\n",
    "\n",
    "print('Training Set Percent Fraut: {}'.format(\n",
    "    len(y_train[y_train == 1])/len(y_train)*100))\n",
    "print('Test Set Percent Fraud: {}'.format(\n",
    "    len(y_test[y_test == 1])/len(y_test)*100))"
   ]
  },
  {
   "cell_type": "markdown",
   "metadata": {},
   "source": [
    "The training and test set both have similar percent of fraudulent transactions as the data set as a whole.  This is necessary for fair training and test data sets.  Continue witn under sampling. "
   ]
  },
  {
   "cell_type": "code",
   "execution_count": 6,
   "metadata": {},
   "outputs": [
    {
     "name": "stdout",
     "output_type": "stream",
     "text": [
      "Resampled Training Set Percent Fraud: 50.0\n"
     ]
    }
   ],
   "source": [
    "#Under sampling \n",
    "from imblearn.under_sampling import RandomUnderSampler\n",
    "\n",
    "rus = RandomUnderSampler()\n",
    "X_rus, y_rus = rus.fit_sample(X=X_train, y=y_train)\n",
    "\n",
    "print('Resampled Training Set Percent Fraud: {}'.format(\n",
    "    len(y_rus[y_rus == 1])/len(y_rus)*100))"
   ]
  },
  {
   "cell_type": "markdown",
   "metadata": {},
   "source": [
    "The re-sampled data set now has half fraudulent charges and half non-fraudulent charges.  This re-sampled data set is now unbiased and we can continue training models.  We will use the test set, which was not under-sampled to determine how well the model predicts the outcomes.\n",
    "\n",
    "## Modleing: Logistic Regression with Under Sampled Data\n",
    "\n",
    "With this undersampled data, there are now 50% fraudulent data points and 50% unfraudulent data.  This way the model can be trained with data that is half of each target value.  This will allow the accuracy analysis to be less biased to determine if the model is able to identify the fraudulent transactions.\n",
    "\n",
    "I will use a logistic regression model with L1 penalty to hone in on the best features in the data."
   ]
  },
  {
   "cell_type": "code",
   "execution_count": 7,
   "metadata": {},
   "outputs": [
    {
     "name": "stdout",
     "output_type": "stream",
     "text": [
      "0.9571788413098237\n"
     ]
    }
   ],
   "source": [
    "from sklearn.linear_model import LogisticRegressionCV\n",
    "lr = LogisticRegressionCV(Cs=[1,10,50,100,500], \n",
    "                               penalty='l1',\n",
    "                         solver='liblinear')\n",
    "lr.fit(X_rus, y_rus)\n",
    "print(lr.score(X_rus, y_rus))"
   ]
  },
  {
   "cell_type": "markdown",
   "metadata": {},
   "source": [
    "This logistic regression model correctly predicted 95% of the undersampled data.  Let's continue to inspect the model and its efficacy through identifying the optimum C value, the coefficients, and intercept."
   ]
  },
  {
   "cell_type": "code",
   "execution_count": 8,
   "metadata": {},
   "outputs": [
    {
     "name": "stdout",
     "output_type": "stream",
     "text": [
      "[1]\n",
      "[[-1.26268270e-05  4.83396095e-01  0.00000000e+00 -2.74749093e-01\n",
      "   9.47375703e-01  5.48756628e-01 -2.12664316e-01  1.76371084e-01\n",
      "  -6.49613748e-01 -1.40363242e-01 -8.02903692e-01  6.18699144e-01\n",
      "  -8.29619125e-01 -3.45716936e-01 -1.43260661e+00 -1.43375670e-01\n",
      "  -4.76671182e-01 -9.45683088e-01 -4.08571475e-01  5.81456156e-01\n",
      "   0.00000000e+00  3.76114051e-01  7.59322924e-01  1.54767411e-02\n",
      "   5.70762885e-02 -1.17559940e-01  0.00000000e+00  0.00000000e+00\n",
      "   0.00000000e+00  2.01433658e-03]]\n",
      "[-2.47980271]\n"
     ]
    }
   ],
   "source": [
    "print(lr.C_)\n",
    "print(lr.coef_)\n",
    "print(lr.intercept_)"
   ]
  },
  {
   "cell_type": "markdown",
   "metadata": {},
   "source": [
    "Now, let's inspect the accuracy and precision of the model through a confusion matrix.  We're most concerned with correctly labeling fraudulent cases as such, therefore minimizing the false negatives.  For these cases, we should look at the recall statistic to determine how well the model is performing."
   ]
  },
  {
   "cell_type": "code",
   "execution_count": 9,
   "metadata": {
    "scrolled": true
   },
   "outputs": [
    {
     "name": "stdout",
     "output_type": "stream",
     "text": [
      "Recall for this model is: 0.929471032745592\n"
     ]
    },
    {
     "data": {
      "image/png": "[encoded data removed]",
      "text/plain": [
       "<matplotlib.figure.Figure at 0x11a370c88>"
      ]
     },
     "metadata": {},
     "output_type": "display_data"
    }
   ],
   "source": [
    "#using model to predict undersampled training set and construct confusion matrix\n",
    "y_pred = lr.predict(X_rus)\n",
    "conf_matrix = confusion_matrix(y_rus, y_pred)\n",
    "#calculating recall from confusion matrix\n",
    "recall = conf_matrix[1,1]/(conf_matrix[1,1]+conf_matrix[1,0])\n",
    "print('Recall for this model is: {}'.format(recall))\n",
    "\n",
    "#creating heatmap of confusion matrix\n",
    "sns.heatmap(conf_matrix, \n",
    "            cmap='coolwarm_r', \n",
    "            annot=True, \n",
    "            linewidths=0.5)\n",
    "plt.title('Confusion Matrix for Training Set')\n",
    "plt.xlabel('Predicted Class')\n",
    "plt.ylabel('Real Class')\n",
    "plt.show()"
   ]
  },
  {
   "cell_type": "markdown",
   "metadata": {},
   "source": [
    "The recall for this model is 92.75%, which is fairly high for the model.  Only 26 fraudulent cases were predicted to be non-fraudulent.  The other 370 were predicted correctly. Let's check the test set for the model's recall.\n",
    "\n",
    "__Test Set Recall__"
   ]
  },
  {
   "cell_type": "code",
   "execution_count": 10,
   "metadata": {},
   "outputs": [
    {
     "name": "stdout",
     "output_type": "stream",
     "text": [
      "Recall for the Test Set is: 0.9052631578947369\n"
     ]
    },
    {
     "data": {
      "image/png": "[encoded data removed]",
      "text/plain": [
       "<matplotlib.figure.Figure at 0x11a3a01d0>"
      ]
     },
     "metadata": {},
     "output_type": "display_data"
    }
   ],
   "source": [
    "#using model to predict test set and construct confusion matrix\n",
    "y_test_pred = lr.predict(X_test)\n",
    "conf_matrix_test = confusion_matrix(y_test, y_test_pred)\n",
    "#calculating recall from confusion matrix\n",
    "recall_test = conf_matrix_test[1,1]/(conf_matrix_test[1,1]+conf_matrix_test[1,0])\n",
    "print('Recall for the Test Set is: {}'.format(recall_test))\n",
    "\n",
    "#creating heatmap of confusion matrix\n",
    "sns.heatmap(conf_matrix_test,\n",
    "           cmap='coolwarm_r',\n",
    "           annot=True,\n",
    "           linewidths=0.5)\n",
    "plt.title('Confusion Matrix for Test Set')\n",
    "plt.xlabel('Predicted Class')\n",
    "plt.ylabel('Real Class')\n",
    "plt.show()"
   ]
  },
  {
   "cell_type": "markdown",
   "metadata": {},
   "source": [
    "The test set recall increased to 9%.  Only 9 of the 95 fraudulent cases were mis-labeled through this model.  This is a fairly high percent of recall.  In inspecting the confusion matrix, 1,900 non-fraudulent transactions were identified, which is costly for the man-power required for customers to identify that the transaction is authentic, but there were still 55,000 non-fraudulent charges identified as such. \n",
    "\n",
    "Let's try SVM classifier as a second model to see how well that performs in comparison.\n",
    "\n",
    "## Modeling: SVM Classifier with Under Sampled Data"
   ]
  },
  {
   "cell_type": "code",
   "execution_count": 16,
   "metadata": {},
   "outputs": [
    {
     "name": "stdout",
     "output_type": "stream",
     "text": [
      "{'C': 10, 'kernel': 'linear'}\n",
      "0.906801007556675\n",
      "Total Time: 389.92262077331543\n"
     ]
    }
   ],
   "source": [
    "import time\n",
    "from sklearn.svm import SVC\n",
    "\n",
    "#recording initial time\n",
    "t0 = time.time()\n",
    "#instantiating model and creating dictionary of parameters to test in Grid Search CV\n",
    "svc = SVC()\n",
    "parameters = [{'kernel':['rbf'], 'C': [0.1,1,10], 'gamma':[0.0001,0.001]},\n",
    "              {'kernel':['linear'], 'C': [0.1,1,10]}]\n",
    "#fitting model and printing best parameters and score from model\n",
    "grid = GridSearchCV(svc, param_grid=parameters)\n",
    "grid.fit(X_rus, y_rus)\n",
    "print(grid.best_params_)\n",
    "print(grid.best_score_)\n",
    "#recording time model finished and printing overall time to run model\n",
    "t1 = time.time()\n",
    "print('Total Time: {}'.format(t1-t0))"
   ]
  },
  {
   "cell_type": "markdown",
   "metadata": {},
   "source": [
    "According to the Grid Search CV, the best model for this data is a linear kernel with a regularization parameter of 10.  Below I instantiate and fit the classifier with these parameters."
   ]
  },
  {
   "cell_type": "code",
   "execution_count": 17,
   "metadata": {},
   "outputs": [
    {
     "data": {
      "text/plain": [
       "SVC(C=10, cache_size=200, class_weight=None, coef0=0.0,\n",
       "  decision_function_shape='ovr', degree=3, gamma='auto', kernel='linear',\n",
       "  max_iter=-1, probability=False, random_state=None, shrinking=True,\n",
       "  tol=0.001, verbose=False)"
      ]
     },
     "execution_count": 17,
     "metadata": {},
     "output_type": "execute_result"
    }
   ],
   "source": [
    "#instantiate and fit model with best parameters from Grid Search CV\n",
    "svc = SVC(kernel='linear', C=10)\n",
    "svc.fit(X_rus, y_rus)"
   ]
  },
  {
   "cell_type": "code",
   "execution_count": 18,
   "metadata": {
    "scrolled": true
   },
   "outputs": [
    {
     "name": "stdout",
     "output_type": "stream",
     "text": [
      "Recall for the SVC model is: 0.8211586901763224\n"
     ]
    },
    {
     "data": {
      "image/png": "[encoded data removed]",
      "text/plain": [
       "<matplotlib.figure.Figure at 0x1145a86a0>"
      ]
     },
     "metadata": {},
     "output_type": "display_data"
    }
   ],
   "source": [
    "#using model to predict undersampled training set and construct confusion matrix\n",
    "y_pred_svc = svc.predict(X_rus)\n",
    "conf_matrix_svc = confusion_matrix(y_rus, y_pred_svc)\n",
    "#calculating recall from confusion matrix\n",
    "recall_svc = conf_matrix_svc[1,1]/(conf_matrix_svc[1,1]+conf_matrix_svc[1,0])\n",
    "print('Recall for the SVC model is: {}'.format(recall_svc))\n",
    "\n",
    "#creating heatmap of confusion matrix\n",
    "sns.heatmap(conf_matrix_svc, \n",
    "            cmap='coolwarm_r', \n",
    "            annot=True, \n",
    "            linewidths=0.5)\n",
    "plt.title('SVC Confusion Matrix for Training Set')\n",
    "plt.xlabel('Predicted Class')\n",
    "plt.ylabel('Real Class')\n",
    "plt.show()"
   ]
  },
  {
   "cell_type": "markdown",
   "metadata": {},
   "source": [
    "The recall for this model was 82%, which was pretty good.  71 out of the 330 cases of fraud were incorrectly identified, but only 2 non-fraudulent transactions out of 400 were identified as fraud. This model was better at identifying non-fraudulent cases than fraudulent transactions.  Let's examine the test set now."
   ]
  },
  {
   "cell_type": "code",
   "execution_count": 19,
   "metadata": {},
   "outputs": [
    {
     "name": "stdout",
     "output_type": "stream",
     "text": [
      "Recall for the SVC Test Set is: 0.8210526315789474\n"
     ]
    },
    {
     "data": {
      "image/png": "[encoded data removed]",
      "text/plain": [
       "<matplotlib.figure.Figure at 0x114efd128>"
      ]
     },
     "metadata": {},
     "output_type": "display_data"
    }
   ],
   "source": [
    "#using model to predict test set and construct confusion matrix\n",
    "y_test_svc_pred = svc.predict(X_test)\n",
    "conf_matrix_test_svc = confusion_matrix(y_test, y_test_svc_pred)\n",
    "#calculating recall from confusion matrix\n",
    "recall_test_svc = conf_matrix_test_svc[1,1]/(conf_matrix_test_svc[1,1]+conf_matrix_test_svc[1,0])\n",
    "print('Recall for the SVC Test Set is: {}'.format(recall_test_svc))\n",
    "\n",
    "#creating heatmap of confusion matrix\n",
    "sns.heatmap(conf_matrix_test_svc,\n",
    "           cmap='coolwarm_r',\n",
    "           annot=True,\n",
    "           linewidths=0.5)\n",
    "plt.title('SVC Confusion Matrix for Test Set')\n",
    "plt.xlabel('Predicted Class')\n",
    "plt.ylabel('Real Class')\n",
    "plt.show()"
   ]
  },
  {
   "cell_type": "markdown",
   "metadata": {},
   "source": [
    "Again, the recall for the test set was around 82%, with only 0.5% of non-fraudulent cases identified as fraudulent.  This is fairly high, but not as high of a recall as the logistic regression model.  \n",
    "\n",
    "Let's now try a random forest model without undersampling to determine how well that model compares to the undersampled data."
   ]
  },
  {
   "cell_type": "markdown",
   "metadata": {},
   "source": [
    "## Random Forest without Undersampling\n",
    "To model without undersampling, we will use a Random Forest model to determine its efficacy in comparison to the undersampled sets. "
   ]
  },
  {
   "cell_type": "code",
   "execution_count": 11,
   "metadata": {},
   "outputs": [
    {
     "data": {
      "text/plain": [
       "array([0.99931973, 0.99953917, 0.99947333, 0.99958304, 0.99940748])"
      ]
     },
     "execution_count": 11,
     "metadata": {},
     "output_type": "execute_result"
    }
   ],
   "source": [
    "from sklearn.ensemble import RandomForestClassifier\n",
    "\n",
    "rfc = RandomForestClassifier()\n",
    "cross_val_score(rfc, X_train, y_train, cv=5)"
   ]
  },
  {
   "cell_type": "markdown",
   "metadata": {},
   "source": [
    "This has a fairly high accuracy score.  Because of the bias in the data set, and with so few transactions actually fraudulent, this is not surprising.  I will fit the model and predict outcomes for the test set."
   ]
  },
  {
   "cell_type": "code",
   "execution_count": 12,
   "metadata": {},
   "outputs": [
    {
     "name": "stdout",
     "output_type": "stream",
     "text": [
      "Recall for the Random Forest Test Set is: 0.8105263157894737\n"
     ]
    },
    {
     "data": {
      "image/png": "[encoded data removed]",
      "text/plain": [
       "<matplotlib.figure.Figure at 0x11a47d9e8>"
      ]
     },
     "metadata": {},
     "output_type": "display_data"
    }
   ],
   "source": [
    "#fitting model\n",
    "rfc.fit(X_train, y_train)\n",
    "#predicting based on test set\n",
    "y_test_rfc_pred = rfc.predict(X_test)\n",
    "#building confusion matrix\n",
    "conf_matrix_test_rfc = confusion_matrix(y_test, y_test_rfc_pred)\n",
    "#calculating recall from confusion matrix\n",
    "recall_test_rfc = conf_matrix_test_rfc[1,1]/(conf_matrix_test_rfc[1,1]+conf_matrix_test_rfc[1,0])\n",
    "print('Recall for the Random Forest Test Set is: {}'.format(recall_test_rfc))\n",
    "\n",
    "#creating heatmap of confusion matrix\n",
    "sns.heatmap(conf_matrix_test_rfc,\n",
    "           cmap='coolwarm_r',\n",
    "           annot=True,\n",
    "           linewidths=0.5)\n",
    "plt.title('RFC Confusion Matrix for Test Set')\n",
    "plt.xlabel('Predicted Class')\n",
    "plt.ylabel('Real Class')\n",
    "plt.show()"
   ]
  },
  {
   "cell_type": "markdown",
   "metadata": {},
   "source": [
    "While the accuracy of the training set was high, recall is lower than that of the other models.  Overall, the time to run the model was the lowest, this comes at a cost of a decrease in recall. \n",
    "\n",
    "Overall, these models are good predictors of credit card fraud.  The logistic model was the best predictor of credit card fraud, with a recall of 90% in the test set, whereas the SVC and random forest models had recalls of 82% and 81%, respectfully, in the test set.  Assuming the credit card company really cares about correctly detecting fraud, I suggest that the logistic model be used.  In this model, 90% of the cases that were fraud were identified as such, and 3.5% of the non-fraudulent cases were identified as fraud.  This is somewhat costly as each of the 1,900 non-fraudulent cases would have to be verified by the customer, but then the customer has some sense of security that frauds are being identified, and then 90% of frauds are being stopped. \n",
    "\n",
    "According to the question, recall is more important for this model, however it is important to assess the balance between recall and precision through the F1 score for each model. "
   ]
  },
  {
   "cell_type": "code",
   "execution_count": 23,
   "metadata": {},
   "outputs": [
    {
     "name": "stdout",
     "output_type": "stream",
     "text": [
      "F1 score for Logistic Regression: 0.08456243854473944\n",
      "F1 score for SVC Classification: 0.3070866141732283\n",
      "F1 score for Random Forest Classification: 0.8901734104046243\n"
     ]
    }
   ],
   "source": [
    "from sklearn.metrics import f1_score\n",
    "\n",
    "#printing F1 scores for reach model's predicted values\n",
    "print('F1 score for Logistic Regression: {}'.format(f1_score(y_test, y_test_pred)))\n",
    "print('F1 score for SVC Classification: {}'. format(f1_score(y_test, y_test_svc_pred)))\n",
    "print('F1 score for Random Forest Classification: {}'. format(f1_score(y_test, y_test_rfc_pred)))"
   ]
  },
  {
   "cell_type": "markdown",
   "metadata": {},
   "source": [
    "In all, the Random Forest has the highest level of F1 score, meaning precision and recall are more equally balanced. The Logistic Regression model has the lowest F1 score, meaning precision and recall are very unbalanced in this model, with recall being much higher than precision. Knowing the question and this information, I would still suggest that the credit card company use the logistic regression model with this data. "
   ]
  },
  {
   "cell_type": "code",
   "execution_count": null,
   "metadata": {},
   "outputs": [],
   "source": []
  }
 ],
 "metadata": {
  "kernelspec": {
   "display_name": "Python 3",
   "language": "python",
   "name": "python3"
  },
  "language_info": {
   "codemirror_mode": {
    "name": "ipython",
    "version": 3
   },
   "file_extension": ".py",
   "mimetype": "text/x-python",
   "name": "python",
   "nbconvert_exporter": "python",
   "pygments_lexer": "ipython3",
   "version": "3.6.2"
  }
 },
 "nbformat": 4,
 "nbformat_minor": 2
}
