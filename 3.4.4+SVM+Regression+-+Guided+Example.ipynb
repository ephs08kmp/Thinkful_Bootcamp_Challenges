{
 "cells": [
  {
   "cell_type": "code",
   "execution_count": 1,
   "metadata": {
    "run_control": {
     "frozen": false,
     "read_only": false
    }
   },
   "outputs": [],
   "source": [
    "import numpy as np\n",
    "import pandas as pd\n",
    "import scipy\n",
    "import matplotlib.pyplot as plt\n",
    "import seaborn as sns\n",
    "%matplotlib inline"
   ]
  },
  {
   "cell_type": "markdown",
   "metadata": {
    "run_control": {
     "frozen": false,
     "read_only": false
    }
   },
   "source": [
    "Now it's time for another guided example. This time we're going to look at recipes. Specifically we'll use the epicurious dataset, which has a collection of recipes, key terms and ingredients, and their ratings.\n",
    "\n",
    "What we want to see is if we can use the ingredient and keyword list to predict the rating. For someone writing a cookbook this could be really useful information that could help them choose which recipes to include because they're more likely to be enjoyed and therefore make the book more likely to be successful.\n",
    "\n",
    "First let's load the dataset. It's [available on Kaggle](https://www.kaggle.com/hugodarwood/epirecipes). We'll use the csv file here and as pull out column names and some summary statistics for ratings."
   ]
  },
  {
   "cell_type": "code",
   "execution_count": 2,
   "metadata": {
    "run_control": {
     "frozen": false,
     "read_only": false
    }
   },
   "outputs": [],
   "source": [
    "raw_data = pd.read_csv('epi_r.csv')"
   ]
  },
  {
   "cell_type": "code",
   "execution_count": 3,
   "metadata": {
    "run_control": {
     "frozen": false,
     "read_only": false
    },
    "scrolled": true
   },
   "outputs": [
    {
     "data": {
      "text/plain": [
       "['title',\n",
       " 'rating',\n",
       " 'calories',\n",
       " 'protein',\n",
       " 'fat',\n",
       " 'sodium',\n",
       " '#cakeweek',\n",
       " '#wasteless',\n",
       " '22-minute meals',\n",
       " '3-ingredient recipes',\n",
       " '30 days of groceries',\n",
       " 'advance prep required',\n",
       " 'alabama',\n",
       " 'alaska',\n",
       " 'alcoholic',\n",
       " 'almond',\n",
       " 'amaretto',\n",
       " 'anchovy',\n",
       " 'anise',\n",
       " 'anniversary',\n",
       " 'anthony bourdain',\n",
       " 'aperitif',\n",
       " 'appetizer',\n",
       " 'apple',\n",
       " 'apple juice',\n",
       " 'apricot',\n",
       " 'arizona',\n",
       " 'artichoke',\n",
       " 'arugula',\n",
       " 'asian pear',\n",
       " 'asparagus',\n",
       " 'aspen',\n",
       " 'atlanta',\n",
       " 'australia',\n",
       " 'avocado',\n",
       " 'back to school',\n",
       " 'backyard bbq',\n",
       " 'bacon',\n",
       " 'bake',\n",
       " 'banana',\n",
       " 'barley',\n",
       " 'basil',\n",
       " 'bass',\n",
       " 'bastille day',\n",
       " 'bean',\n",
       " 'beef',\n",
       " 'beef rib',\n",
       " 'beef shank',\n",
       " 'beef tenderloin',\n",
       " 'beer',\n",
       " 'beet',\n",
       " 'bell pepper',\n",
       " 'berry',\n",
       " 'beverly hills',\n",
       " 'birthday',\n",
       " 'biscuit',\n",
       " 'bitters',\n",
       " 'blackberry',\n",
       " 'blender',\n",
       " 'blue cheese',\n",
       " 'blueberry',\n",
       " 'boil',\n",
       " 'bok choy',\n",
       " 'bon appétit',\n",
       " 'bon app��tit',\n",
       " 'boston',\n",
       " 'bourbon',\n",
       " 'braise',\n",
       " 'bran',\n",
       " 'brandy',\n",
       " 'bread',\n",
       " 'breadcrumbs',\n",
       " 'breakfast',\n",
       " 'brie',\n",
       " 'brine',\n",
       " 'brisket',\n",
       " 'broccoli',\n",
       " 'broccoli rabe',\n",
       " 'broil',\n",
       " 'brooklyn',\n",
       " 'brown rice',\n",
       " 'brownie',\n",
       " 'brunch',\n",
       " 'brussel sprout',\n",
       " 'buffalo',\n",
       " 'buffet',\n",
       " 'bulgaria',\n",
       " 'bulgur',\n",
       " 'burrito',\n",
       " 'butter',\n",
       " 'buttermilk',\n",
       " 'butternut squash',\n",
       " 'butterscotch/caramel',\n",
       " 'cabbage',\n",
       " 'cake',\n",
       " 'california',\n",
       " 'calvados',\n",
       " 'cambridge',\n",
       " 'campari',\n",
       " 'camping',\n",
       " 'canada',\n",
       " 'candy',\n",
       " 'candy thermometer',\n",
       " 'cantaloupe',\n",
       " 'capers',\n",
       " 'caraway',\n",
       " 'cardamom',\n",
       " 'carrot',\n",
       " 'cashew',\n",
       " 'casserole/gratin',\n",
       " 'cauliflower',\n",
       " 'caviar',\n",
       " 'celery',\n",
       " 'chambord',\n",
       " 'champagne',\n",
       " 'chard',\n",
       " 'chartreuse',\n",
       " 'cheddar',\n",
       " 'cheese',\n",
       " 'cherry',\n",
       " 'chestnut',\n",
       " 'chicago',\n",
       " 'chicken',\n",
       " 'chickpea',\n",
       " 'chile',\n",
       " 'chile pepper',\n",
       " 'chili',\n",
       " 'chill',\n",
       " 'chive',\n",
       " 'chocolate',\n",
       " 'christmas',\n",
       " 'christmas eve',\n",
       " 'cilantro',\n",
       " 'cinco de mayo',\n",
       " 'cinnamon',\n",
       " 'citrus',\n",
       " 'clam',\n",
       " 'clove',\n",
       " 'cobbler/crumble',\n",
       " 'cocktail',\n",
       " 'cocktail party',\n",
       " 'coconut',\n",
       " 'cod',\n",
       " 'coffee',\n",
       " 'coffee grinder',\n",
       " 'cognac/armagnac',\n",
       " 'collard greens',\n",
       " 'colorado',\n",
       " 'columbus',\n",
       " 'condiment',\n",
       " 'condiment/spread',\n",
       " 'connecticut',\n",
       " 'cook like a diner',\n",
       " 'cookbook critic',\n",
       " 'cookie',\n",
       " 'cookies',\n",
       " 'coriander',\n",
       " 'corn',\n",
       " 'cornmeal',\n",
       " 'costa mesa',\n",
       " 'cottage cheese',\n",
       " 'couscous',\n",
       " 'crab',\n",
       " 'cranberry',\n",
       " 'cranberry sauce',\n",
       " 'cream cheese',\n",
       " 'créme de cacao',\n",
       " 'crêpe',\n",
       " 'cr��me de cacao',\n",
       " 'cuba',\n",
       " 'cucumber',\n",
       " 'cumin',\n",
       " 'cupcake',\n",
       " 'currant',\n",
       " 'curry',\n",
       " 'custard',\n",
       " 'dairy',\n",
       " 'dairy free',\n",
       " 'dallas',\n",
       " 'date',\n",
       " 'deep-fry',\n",
       " 'denver',\n",
       " 'dessert',\n",
       " 'digestif',\n",
       " 'dill',\n",
       " 'dinner',\n",
       " 'dip',\n",
       " 'diwali',\n",
       " 'dominican republic',\n",
       " 'dorie greenspan',\n",
       " 'double boiler',\n",
       " 'dried fruit',\n",
       " 'drink',\n",
       " 'drinks',\n",
       " 'duck',\n",
       " 'easter',\n",
       " 'eau de vie',\n",
       " 'edible gift',\n",
       " 'egg',\n",
       " 'egg nog',\n",
       " 'eggplant',\n",
       " 'egypt',\n",
       " 'emeril lagasse',\n",
       " 'endive',\n",
       " 'engagement party',\n",
       " 'england',\n",
       " 'entertaining',\n",
       " 'epi + ushg',\n",
       " 'epi loves the microwave',\n",
       " 'escarole',\n",
       " 'fall',\n",
       " 'family reunion',\n",
       " 'fat free',\n",
       " \"father's day\",\n",
       " 'fennel',\n",
       " 'feta',\n",
       " 'fig',\n",
       " 'fish',\n",
       " 'flaming hot summer',\n",
       " 'flat bread',\n",
       " 'florida',\n",
       " 'fontina',\n",
       " 'food processor',\n",
       " 'fortified wine',\n",
       " 'fourth of july',\n",
       " 'france',\n",
       " 'frangelico',\n",
       " 'frankenrecipe',\n",
       " 'freeze/chill',\n",
       " 'freezer food',\n",
       " 'friendsgiving',\n",
       " 'frittata',\n",
       " 'fritter',\n",
       " 'frozen dessert',\n",
       " 'fruit',\n",
       " 'fruit juice',\n",
       " 'fry',\n",
       " 'game',\n",
       " 'garlic',\n",
       " 'georgia',\n",
       " 'germany',\n",
       " 'gin',\n",
       " 'ginger',\n",
       " 'goat cheese',\n",
       " 'goose',\n",
       " 'gouda',\n",
       " 'gourmet',\n",
       " 'graduation',\n",
       " 'grains',\n",
       " 'grand marnier',\n",
       " 'granola',\n",
       " 'grape',\n",
       " 'grapefruit',\n",
       " 'grappa',\n",
       " 'green bean',\n",
       " 'green onion/scallion',\n",
       " 'grill',\n",
       " 'grill/barbecue',\n",
       " 'ground beef',\n",
       " 'ground lamb',\n",
       " 'guam',\n",
       " 'guava',\n",
       " 'haiti',\n",
       " 'halibut',\n",
       " 'halloween',\n",
       " 'ham',\n",
       " 'hamburger',\n",
       " 'hanukkah',\n",
       " 'harpercollins',\n",
       " 'hawaii',\n",
       " 'hazelnut',\n",
       " 'healdsburg',\n",
       " 'healthy',\n",
       " 'herb',\n",
       " 'high fiber',\n",
       " 'hollywood',\n",
       " 'hominy/cornmeal/masa',\n",
       " 'honey',\n",
       " 'honeydew',\n",
       " \"hors d'oeuvre\",\n",
       " 'horseradish',\n",
       " 'hot drink',\n",
       " 'hot pepper',\n",
       " 'house & garden',\n",
       " 'house cocktail',\n",
       " 'houston',\n",
       " 'hummus',\n",
       " 'ice cream',\n",
       " 'ice cream machine',\n",
       " 'iced coffee',\n",
       " 'iced tea',\n",
       " 'idaho',\n",
       " 'illinois',\n",
       " 'indiana',\n",
       " 'iowa',\n",
       " 'ireland',\n",
       " 'israel',\n",
       " 'italy',\n",
       " 'jalapeño',\n",
       " 'jam or jelly',\n",
       " 'jamaica',\n",
       " 'japan',\n",
       " 'jerusalem artichoke',\n",
       " 'juicer',\n",
       " 'jícama',\n",
       " 'kahlúa',\n",
       " 'kale',\n",
       " 'kansas',\n",
       " 'kansas city',\n",
       " 'kentucky',\n",
       " 'kentucky derby',\n",
       " 'kid-friendly',\n",
       " 'kidney friendly',\n",
       " 'kirsch',\n",
       " 'kitchen olympics',\n",
       " 'kiwi',\n",
       " 'kosher',\n",
       " 'kosher for passover',\n",
       " 'kumquat',\n",
       " 'kwanzaa',\n",
       " 'labor day',\n",
       " 'lamb',\n",
       " 'lamb chop',\n",
       " 'lamb shank',\n",
       " 'lancaster',\n",
       " 'las vegas',\n",
       " 'lasagna',\n",
       " 'leafy green',\n",
       " 'leek',\n",
       " 'legume',\n",
       " 'lemon',\n",
       " 'lemon juice',\n",
       " 'lemongrass',\n",
       " 'lentil',\n",
       " 'lettuce',\n",
       " 'lima bean',\n",
       " 'lime',\n",
       " 'lime juice',\n",
       " 'lingonberry',\n",
       " 'liqueur',\n",
       " 'lobster',\n",
       " 'london',\n",
       " 'long beach',\n",
       " 'los angeles',\n",
       " 'louisiana',\n",
       " 'louisville',\n",
       " 'low cal',\n",
       " 'low carb',\n",
       " 'low cholesterol',\n",
       " 'low fat',\n",
       " 'low sodium',\n",
       " 'low sugar',\n",
       " 'low/no sugar',\n",
       " 'lunar new year',\n",
       " 'lunch',\n",
       " 'lychee',\n",
       " 'macadamia nut',\n",
       " 'macaroni and cheese',\n",
       " 'maine',\n",
       " 'mandoline',\n",
       " 'mango',\n",
       " 'maple syrup',\n",
       " 'mardi gras',\n",
       " 'margarita',\n",
       " 'marinade',\n",
       " 'marinate',\n",
       " 'marsala',\n",
       " 'marscarpone',\n",
       " 'marshmallow',\n",
       " 'martini',\n",
       " 'maryland',\n",
       " 'massachusetts',\n",
       " 'mayonnaise',\n",
       " 'meat',\n",
       " 'meatball',\n",
       " 'meatloaf',\n",
       " 'melon',\n",
       " 'mexico',\n",
       " 'mezcal',\n",
       " 'miami',\n",
       " 'michigan',\n",
       " 'microwave',\n",
       " 'midori',\n",
       " 'milk/cream',\n",
       " 'minneapolis',\n",
       " 'minnesota',\n",
       " 'mint',\n",
       " 'mississippi',\n",
       " 'missouri',\n",
       " 'mixer',\n",
       " 'molasses',\n",
       " 'monterey jack',\n",
       " 'mortar and pestle',\n",
       " \"mother's day\",\n",
       " 'mozzarella',\n",
       " 'muffin',\n",
       " 'mushroom',\n",
       " 'mussel',\n",
       " 'mustard',\n",
       " 'mustard greens',\n",
       " 'nancy silverton',\n",
       " 'nebraska',\n",
       " 'nectarine',\n",
       " 'new hampshire',\n",
       " 'new jersey',\n",
       " 'new mexico',\n",
       " 'new orleans',\n",
       " \"new year's day\",\n",
       " \"new year's eve\",\n",
       " 'new york',\n",
       " 'no meat, no problem',\n",
       " 'no sugar added',\n",
       " 'no-cook',\n",
       " 'non-alcoholic',\n",
       " 'noodle',\n",
       " 'north carolina',\n",
       " 'nut',\n",
       " 'nutmeg',\n",
       " 'oat',\n",
       " 'oatmeal',\n",
       " 'octopus',\n",
       " 'ohio',\n",
       " 'oklahoma',\n",
       " 'okra',\n",
       " 'oktoberfest',\n",
       " 'olive',\n",
       " 'omelet',\n",
       " 'one-pot meal',\n",
       " 'onion',\n",
       " 'orange',\n",
       " 'orange juice',\n",
       " 'oregano',\n",
       " 'oregon',\n",
       " 'organic',\n",
       " 'orzo',\n",
       " 'oscars',\n",
       " 'oyster',\n",
       " 'pacific palisades',\n",
       " 'paleo',\n",
       " 'pan-fry',\n",
       " 'pancake',\n",
       " 'papaya',\n",
       " 'paprika',\n",
       " 'parade',\n",
       " 'paris',\n",
       " 'parmesan',\n",
       " 'parsley',\n",
       " 'parsnip',\n",
       " 'party',\n",
       " 'pasadena',\n",
       " 'passion fruit',\n",
       " 'passover',\n",
       " 'pasta',\n",
       " 'pasta maker',\n",
       " 'pastry',\n",
       " 'pea',\n",
       " 'peach',\n",
       " 'peanut',\n",
       " 'peanut butter',\n",
       " 'peanut free',\n",
       " 'pear',\n",
       " 'pecan',\n",
       " 'pennsylvania',\n",
       " 'pepper',\n",
       " 'pernod',\n",
       " 'persian new year',\n",
       " 'persimmon',\n",
       " 'peru',\n",
       " 'pescatarian',\n",
       " 'philippines',\n",
       " 'phyllo/puff pastry dough',\n",
       " 'pickles',\n",
       " 'picnic',\n",
       " 'pie',\n",
       " 'pine nut',\n",
       " 'pineapple',\n",
       " 'pistachio',\n",
       " 'pittsburgh',\n",
       " 'pizza',\n",
       " 'plantain',\n",
       " 'plum',\n",
       " 'poach',\n",
       " 'poblano',\n",
       " 'poker/game night',\n",
       " 'pomegranate',\n",
       " 'pomegranate juice',\n",
       " 'poppy',\n",
       " 'pork',\n",
       " 'pork chop',\n",
       " 'pork rib',\n",
       " 'pork tenderloin',\n",
       " 'port',\n",
       " 'portland',\n",
       " 'pot pie',\n",
       " 'potato',\n",
       " 'potato salad',\n",
       " 'potluck',\n",
       " 'poultry',\n",
       " 'poultry sausage',\n",
       " 'pressure cooker',\n",
       " 'prosciutto',\n",
       " 'providence',\n",
       " 'prune',\n",
       " 'pumpkin',\n",
       " 'punch',\n",
       " 'purim',\n",
       " 'quail',\n",
       " 'quiche',\n",
       " 'quick & easy',\n",
       " 'quick and healthy',\n",
       " 'quince',\n",
       " 'quinoa',\n",
       " 'rabbit',\n",
       " 'rack of lamb',\n",
       " 'radicchio',\n",
       " 'radish',\n",
       " 'raisin',\n",
       " 'ramadan',\n",
       " 'ramekin',\n",
       " 'raspberry',\n",
       " 'raw',\n",
       " 'red wine',\n",
       " 'rhode island',\n",
       " 'rhubarb',\n",
       " 'rice',\n",
       " 'ricotta',\n",
       " 'roast',\n",
       " 'root vegetable',\n",
       " 'rosemary',\n",
       " 'rosh hashanah/yom kippur',\n",
       " 'rosé',\n",
       " 'rub',\n",
       " 'rum',\n",
       " 'rutabaga',\n",
       " 'rye',\n",
       " 'saffron',\n",
       " 'sage',\n",
       " 'sake',\n",
       " 'salad',\n",
       " 'salad dressing',\n",
       " 'salmon',\n",
       " 'salsa',\n",
       " 'san francisco',\n",
       " 'sandwich',\n",
       " 'sandwich theory',\n",
       " 'sangria',\n",
       " 'santa monica',\n",
       " 'sardine',\n",
       " 'sauce',\n",
       " 'sausage',\n",
       " 'sauté',\n",
       " 'scallop',\n",
       " 'scotch',\n",
       " 'seafood',\n",
       " 'seattle',\n",
       " 'seed',\n",
       " 'self',\n",
       " 'semolina',\n",
       " 'sesame',\n",
       " 'sesame oil',\n",
       " 'shallot',\n",
       " 'shavuot',\n",
       " 'shellfish',\n",
       " 'sherry',\n",
       " 'shower',\n",
       " 'shrimp',\n",
       " 'side',\n",
       " 'simmer',\n",
       " 'skewer',\n",
       " 'slow cooker',\n",
       " 'smoker',\n",
       " 'smoothie',\n",
       " 'snapper',\n",
       " 'sorbet',\n",
       " 'soufflé/meringue',\n",
       " 'soup/stew',\n",
       " 'sour cream',\n",
       " 'sourdough',\n",
       " 'south carolina',\n",
       " 'soy',\n",
       " 'soy free',\n",
       " 'soy sauce',\n",
       " 'spain',\n",
       " 'sparkling wine',\n",
       " 'spice',\n",
       " 'spinach',\n",
       " 'spirit',\n",
       " 'spring',\n",
       " 'spritzer',\n",
       " 'squash',\n",
       " 'squid',\n",
       " 'st. louis',\n",
       " \"st. patrick's day\",\n",
       " 'steak',\n",
       " 'steam',\n",
       " 'stew',\n",
       " 'stir-fry',\n",
       " 'stock',\n",
       " 'strawberry',\n",
       " 'stuffing/dressing',\n",
       " 'sugar conscious',\n",
       " 'sugar snap pea',\n",
       " 'sukkot',\n",
       " 'summer',\n",
       " 'super bowl',\n",
       " 'suzanne goin',\n",
       " 'sweet potato/yam',\n",
       " 'swiss cheese',\n",
       " 'switzerland',\n",
       " 'swordfish',\n",
       " 'taco',\n",
       " 'tailgating',\n",
       " 'tamarind',\n",
       " 'tangerine',\n",
       " 'tapioca',\n",
       " 'tarragon',\n",
       " 'tart',\n",
       " 'tea',\n",
       " 'tennessee',\n",
       " 'tequila',\n",
       " 'tested & improved',\n",
       " 'texas',\n",
       " 'thanksgiving',\n",
       " 'thyme',\n",
       " 'tilapia',\n",
       " 'tofu',\n",
       " 'tomatillo',\n",
       " 'tomato',\n",
       " 'tortillas',\n",
       " 'tree nut',\n",
       " 'tree nut free',\n",
       " 'triple sec',\n",
       " 'tropical fruit',\n",
       " 'trout',\n",
       " 'tuna',\n",
       " 'turnip',\n",
       " 'utah',\n",
       " \"valentine's day\",\n",
       " 'vanilla',\n",
       " 'veal',\n",
       " 'vegan',\n",
       " 'vegetable',\n",
       " 'vegetarian',\n",
       " 'venison',\n",
       " 'vermont',\n",
       " 'vermouth',\n",
       " 'vinegar',\n",
       " 'virginia',\n",
       " 'vodka',\n",
       " 'waffle',\n",
       " 'walnut',\n",
       " 'wasabi',\n",
       " 'washington',\n",
       " 'washington, d.c.',\n",
       " 'watercress',\n",
       " 'watermelon',\n",
       " 'wedding',\n",
       " 'weelicious',\n",
       " 'west virginia',\n",
       " 'westwood',\n",
       " 'wheat/gluten-free',\n",
       " 'whiskey',\n",
       " 'white wine',\n",
       " 'whole wheat',\n",
       " 'wild rice',\n",
       " 'windsor',\n",
       " 'wine',\n",
       " 'winter',\n",
       " 'wisconsin',\n",
       " 'wok',\n",
       " 'yellow squash',\n",
       " 'yogurt',\n",
       " 'yonkers',\n",
       " 'yuca',\n",
       " 'zucchini',\n",
       " 'cookbooks',\n",
       " 'leftovers',\n",
       " 'snack',\n",
       " 'snack week',\n",
       " 'turkey']"
      ]
     },
     "execution_count": 3,
     "metadata": {},
     "output_type": "execute_result"
    }
   ],
   "source": [
    "list(raw_data.columns)"
   ]
  },
  {
   "cell_type": "code",
   "execution_count": 4,
   "metadata": {
    "run_control": {
     "frozen": false,
     "read_only": false
    },
    "scrolled": true
   },
   "outputs": [
    {
     "data": {
      "text/plain": [
       "count    20052.000000\n",
       "mean         3.714467\n",
       "std          1.340829\n",
       "min          0.000000\n",
       "25%          3.750000\n",
       "50%          4.375000\n",
       "75%          4.375000\n",
       "max          5.000000\n",
       "Name: rating, dtype: float64"
      ]
     },
     "execution_count": 4,
     "metadata": {},
     "output_type": "execute_result"
    }
   ],
   "source": [
    "raw_data.rating.describe()"
   ]
  },
  {
   "cell_type": "markdown",
   "metadata": {
    "run_control": {
     "frozen": false,
     "read_only": false
    }
   },
   "source": [
    "We learn a few things from this analysis. From a ratings perspective, there are just over 20,000 recipes with an average rating of 3.71. What is interesting is that the 25th percentile is actually above the mean. This means there is likely some kind of outlier population. This makes sense when we think about reviews: some bad recipes may have very few very low reviews.\n",
    "\n",
    "Let's validate the idea a bit further with a histogram."
   ]
  },
  {
   "cell_type": "code",
   "execution_count": 5,
   "metadata": {
    "run_control": {
     "frozen": false,
     "read_only": false
    }
   },
   "outputs": [
    {
     "data": {
      "image/png": "[encoded data removed]",
      "text/plain": [
       "<matplotlib.figure.Figure at 0x113c00438>"
      ]
     },
     "metadata": {},
     "output_type": "display_data"
    }
   ],
   "source": [
    "raw_data.rating.hist(bins=20)\n",
    "plt.title('Histogram of Recipe Ratings')\n",
    "plt.show()"
   ]
  },
  {
   "cell_type": "markdown",
   "metadata": {
    "run_control": {
     "frozen": false,
     "read_only": false
    }
   },
   "source": [
    "So a few things are shown in this histogram. Firstly there are sharp discontinutities. We don't have continuous data. No recipe has a 3.5 rating, for example. Also we see the anticipated increase at 0.\n",
    "\n",
    "Let's try a naive approach again, this time using SVM Regressor. But first, we'll have to do a bit of data cleaning."
   ]
  },
  {
   "cell_type": "code",
   "execution_count": 6,
   "metadata": {
    "run_control": {
     "frozen": false,
     "read_only": false
    }
   },
   "outputs": [
    {
     "data": {
      "text/plain": [
       "calories    4117\n",
       "protein     4162\n",
       "fat         4183\n",
       "sodium      4119\n",
       "dtype: int64"
      ]
     },
     "execution_count": 6,
     "metadata": {},
     "output_type": "execute_result"
    }
   ],
   "source": [
    "# Count nulls \n",
    "null_count = raw_data.isnull().sum()\n",
    "null_count[null_count>0]"
   ]
  },
  {
   "cell_type": "markdown",
   "metadata": {
    "run_control": {
     "frozen": false,
     "read_only": false
    }
   },
   "source": [
    "What we can see right away is that nutrition information is not available for all goods. Now this would be an interesting data point, but let's focus on ingredients and keywords right now. So we'll actually drop the whole columns for calories, protein, fat, and sodium. We'll come back to nutrition information later.\n",
    "\n",
    "Firstly the overfit is a problem, even though it was poor in the first place. We could go back and clean up our feature set. There might be some gains to be made by getting rid of the noise.\n",
    "\n",
    "We could also see how removing the nulls but including dietary information performs. Though its a slight change to the question we could still possibly get some improvements there.\n",
    "\n",
    "Lastly, we could take our regression problem and turn it into a classifier. With this number of features and a discontinuous outcome, we might have better luck thinking of this as a classification problem. We could make it simpler still by instead of classifying on each possible value, group reviews to some decided high and low values.\n",
    "\n",
    "__And that is your challenge.__\n",
    "\n",
    "Transform this regression problem into a binary classifier and clean up the feature set. You can choose whether or not to include nutritional information, but try to cut your feature set down to the 30 most valuable features.\n",
    "\n",
    "Good luck!\n",
    "\n",
    "\n",
    "## My Code\n",
    "To start, I will create a binary ratings variable where high ratings (greater than 4) have a value of 1 and low ratings (4 or lower) have a value of 0."
   ]
  },
  {
   "cell_type": "code",
   "execution_count": 7,
   "metadata": {},
   "outputs": [],
   "source": [
    "from sklearn.svm import SVC\n",
    "from sklearn.model_selection import cross_val_score\n",
    "from sklearn.model_selection import train_test_split\n",
    "\n",
    "#creating binary ratings data and creating the target variable for SVR \n",
    "raw_data['rating_hl'] = raw_data.rating.map(lambda x: 1 if x>4 else 0)\n",
    "Y = raw_data.rating_hl"
   ]
  },
  {
   "cell_type": "markdown",
   "metadata": {},
   "source": [
    "### Features: Common Ingredients\n",
    "Now, I want to narrow down the ingredients to the top 50 most used ingredients to see if just using common ingredients will allow us to predict if the ratings are high or low."
   ]
  },
  {
   "cell_type": "code",
   "execution_count": 8,
   "metadata": {
    "scrolled": true
   },
   "outputs": [],
   "source": [
    "#identifying the top most used ingredients \n",
    "ingred_count = pd.DataFrame(raw_data.drop(['title', 'rating', 'calories', 'protein', 'fat', 'sodium'], 1).sum(), columns=['count'])\n",
    "top_ingred_count = ingred_count.sort_values(by='count', ascending=False).head(30)\n",
    "top_ingred = list(top_ingred_count.index)\n",
    "\n",
    "#setting up columns for top 30 most used ingredients and splitting for train and test\n",
    "X1 = raw_data[top_ingred]\n",
    "X1_train, X1_test, Y1_train, Y1_test = train_test_split(X1, Y, test_size=0.25)"
   ]
  },
  {
   "cell_type": "markdown",
   "metadata": {},
   "source": [
    "#### SVC Kernels\n",
    "To determine the best kernel to use for this model, I will cross validate with all kernel types to determine which provides the highest accuracy without overfitting."
   ]
  },
  {
   "cell_type": "code",
   "execution_count": 9,
   "metadata": {},
   "outputs": [
    {
     "name": "stdout",
     "output_type": "stream",
     "text": [
      "R-squared from Linear Kernel:  1.0\n",
      "Cross Validation Scores:  [1. 1. 1. 1. 1.]\n"
     ]
    }
   ],
   "source": [
    "#instantiating and fitting model with linear kernel\n",
    "svc1_l = SVC(C=0.01, kernel='linear')\n",
    "svc1_l.fit(X1_train, Y1_train)\n",
    "print('R-squared from Linear Kernel: ', svc1_l.score(X1_train, Y1_train))\n",
    "print('Cross Validation Scores: ', cross_val_score(svc1_l, X1_train, Y1_train, cv=5))"
   ]
  },
  {
   "cell_type": "markdown",
   "metadata": {},
   "source": [
    "A R-squared value of 1!?! I assume this is due to overfitting. I will try other kernels to see how well they fit with the same data. "
   ]
  },
  {
   "cell_type": "code",
   "execution_count": 10,
   "metadata": {},
   "outputs": [
    {
     "name": "stdout",
     "output_type": "stream",
     "text": [
      "R-squared from Polynomial Kernel:  0.5357404082718266\n",
      "Cross Validation Scores:  [0.53572615 0.53572615 0.53574992 0.53574992 0.53574992]\n"
     ]
    }
   ],
   "source": [
    "#instantiating and fitting model with polynomial kernel\n",
    "svc1_p = SVC(C=0.01, kernel='poly')\n",
    "svc1_p.fit(X1_train, Y1_train)\n",
    "print('R-squared from Polynomial Kernel: ', svc1_p.score(X1_train, Y1_train))\n",
    "print('Cross Validation Scores: ', cross_val_score(svc1_p, X1_train, Y1_train, cv=5))"
   ]
  },
  {
   "cell_type": "markdown",
   "metadata": {},
   "source": [
    "The variety of R-squared values in cross validation makes more sense for the data.  This is a pretty accurate model for this data. Continue to cross validate with other kernels, but this is a good start."
   ]
  },
  {
   "cell_type": "code",
   "execution_count": 11,
   "metadata": {},
   "outputs": [
    {
     "name": "stdout",
     "output_type": "stream",
     "text": [
      "R-squared from RBF Kernel:  1.0\n",
      "Cross Validation Scores:  [1. 1. 1. 1. 1.]\n"
     ]
    }
   ],
   "source": [
    "#instantiating and fitting model with radial basis function kernel\n",
    "svc1_rbf = SVC(C=0.01, kernel='rbf')\n",
    "svc1_rbf.fit(X1_train, Y1_train)\n",
    "print('R-squared from RBF Kernel: ', svc1_rbf.score(X1_train, Y1_train))\n",
    "print('Cross Validation Scores: ', cross_val_score(svc1_rbf, X1_train, Y1_train, cv=5))"
   ]
  },
  {
   "cell_type": "markdown",
   "metadata": {},
   "source": [
    "Again with the R-squared value of 1. Keep looking."
   ]
  },
  {
   "cell_type": "code",
   "execution_count": 12,
   "metadata": {},
   "outputs": [
    {
     "name": "stdout",
     "output_type": "stream",
     "text": [
      "R-squared from Sigmoid Kernel:  1.0\n",
      "Cross Validation Scores:  [1. 1. 1. 1. 1.]\n"
     ]
    }
   ],
   "source": [
    "#instantiating and fitting model with radial basis function kernel\n",
    "svc1_sig = SVC(C=0.01, kernel='sigmoid')\n",
    "svc1_sig.fit(X1_train, Y1_train)\n",
    "print('R-squared from Sigmoid Kernel: ', svc1_sig.score(X1_train, Y1_train))\n",
    "print('Cross Validation Scores: ', cross_val_score(svc1_sig, X1_train, Y1_train, cv=5))"
   ]
  },
  {
   "cell_type": "markdown",
   "metadata": {},
   "source": [
    "The only kernel that does not overfit the data is the polynomial kernel.  I will try this same cross validation strategy with features that are the ingredients from top-rated recipes.\n",
    "\n",
    "### Features: Top-Rated Ingredients"
   ]
  },
  {
   "cell_type": "code",
   "execution_count": 13,
   "metadata": {},
   "outputs": [],
   "source": [
    "#identifying the ingredients from top-rated recipes\n",
    "top_rated = raw_data[raw_data['rating'] >= 4]\n",
    "top_rated_count = pd.DataFrame(top_rated.drop(['title', 'rating', 'calories', 'protein', 'fat', 'sodium'], 1).sum())\n",
    "top_rated_count = top_rated_count.sort_values(by=0, ascending=False).head(30)\n",
    "top_rated_ingred = list(top_rated_count.index)\n",
    "\n",
    "#setting up columns for the top-rated ingredients, and splitting into train and test groups\n",
    "X2 = raw_data[top_rated_ingred]\n",
    "X2_train, X2_test, Y2_train, Y2_test = train_test_split(X2, Y, test_size=0.25)"
   ]
  },
  {
   "cell_type": "code",
   "execution_count": 14,
   "metadata": {
    "run_control": {
     "frozen": false,
     "read_only": false
    }
   },
   "outputs": [
    {
     "name": "stdout",
     "output_type": "stream",
     "text": [
      "R-squared from Linear Kernel:  1.0\n",
      "Cross Validation Scores:  [1. 1. 1. 1. 1.]\n"
     ]
    }
   ],
   "source": [
    "#instantiating and fitting linear kernel\n",
    "svc2_l = SVC(C=0.1, kernel='linear')\n",
    "svc2_l.fit(X2_train, Y2_train)\n",
    "print('R-squared from Linear Kernel: ', svc2_l.score(X2_train, Y2_train))\n",
    "print('Cross Validation Scores: ', cross_val_score(svc2_l, X2_train, Y2_train, cv=5))"
   ]
  },
  {
   "cell_type": "markdown",
   "metadata": {},
   "source": [
    "The linear kernel again overfits the data.  Try other kernels."
   ]
  },
  {
   "cell_type": "code",
   "execution_count": 15,
   "metadata": {},
   "outputs": [
    {
     "name": "stdout",
     "output_type": "stream",
     "text": [
      "R-squared from Polynomial Kernel:  0.6941285989759958\n",
      "Cross Validation Scores:  [0.61668883 0.62632979 0.62433511 0.63131649 0.62853342]\n"
     ]
    }
   ],
   "source": [
    "#instantiating and fitting polynomial kernel\n",
    "svc2_poly = SVC(C=0.1, kernel='poly')\n",
    "svc2_poly.fit(X2, Y)\n",
    "print('R-squared from Polynomial Kernel: ', svc2_poly.score(X2_train, Y2_train))\n",
    "print('Cross Validation Scores: ', cross_val_score(svc2_poly, X2_train, Y2_train, cv=5))"
   ]
  },
  {
   "cell_type": "markdown",
   "metadata": {},
   "source": [
    "This model is less accurate than with the features from the most common ingredients, but cross validation is consistent across folds. "
   ]
  },
  {
   "cell_type": "code",
   "execution_count": 16,
   "metadata": {},
   "outputs": [
    {
     "name": "stdout",
     "output_type": "stream",
     "text": [
      "R-squared from RBF Kernel:  1.0\n",
      "Cross Validation Scores:  [1. 1. 1. 1. 1.]\n"
     ]
    }
   ],
   "source": [
    "#instantiating and fitting rbf kernel\n",
    "svc2_rbf = SVC(C=0.1, kernel='rbf')\n",
    "svc2_rbf.fit(X2, Y)\n",
    "print('R-squared from RBF Kernel: ', svc2_rbf.score(X2_train, Y2_train))\n",
    "print('Cross Validation Scores: ', cross_val_score(svc2_rbf, X2_train, Y2_train, cv=5))"
   ]
  },
  {
   "cell_type": "markdown",
   "metadata": {},
   "source": [
    "Again the rbf kernel overfits the data with an R-squared value of 1. "
   ]
  },
  {
   "cell_type": "code",
   "execution_count": 17,
   "metadata": {},
   "outputs": [
    {
     "name": "stdout",
     "output_type": "stream",
     "text": [
      "R-squared from Sigmoid Kernel:  1.0\n",
      "Cross Validation Scores:  [1. 1. 1. 1. 1.]\n"
     ]
    }
   ],
   "source": [
    "#instantiating and fitting sigmoid kernel\n",
    "svc2_sig = SVC(C=0.1, kernel='sigmoid')\n",
    "svc2_sig.fit(X2, Y)\n",
    "print('R-squared from Sigmoid Kernel: ', svc2_sig.score(X2_train, Y2_train))\n",
    "print('Cross Validation Scores: ', cross_val_score(svc2_sig, X2_train, Y2_train, cv=5))"
   ]
  },
  {
   "cell_type": "markdown",
   "metadata": {
    "run_control": {
     "frozen": false,
     "read_only": false
    }
   },
   "source": [
    "Based on the data, the best kernel for this classifier model is the polynomial kernel.  This provided an accuracy of around 60% using 30 ingredients from the top rated recipes.  We will now test the model's accuracy using the test data to determine how well the model predicts values. "
   ]
  },
  {
   "cell_type": "code",
   "execution_count": 19,
   "metadata": {},
   "outputs": [
    {
     "name": "stdout",
     "output_type": "stream",
     "text": [
      "Crosstabulation:  rating_hl     0     1\n",
      "row_0                \n",
      "0           811     0\n",
      "1          1544  2658\n",
      "Accuracy of TEST set for SVC Poly Kernel:  0.6920007979253939\n"
     ]
    }
   ],
   "source": [
    "y2_pred_poly = svc2_poly.predict(X2_test)\n",
    "crosstab = pd.crosstab(y2_pred_poly, Y2_test)\n",
    "print('Crosstabulation: ', pd.crosstab(y2_pred_poly, Y2_test))\n",
    "print('Accuracy of TEST set for SVC Poly Kernel: ', svc2_poly.score(X2_test, Y2_test))"
   ]
  },
  {
   "cell_type": "code",
   "execution_count": 23,
   "metadata": {},
   "outputs": [
    {
     "name": "stdout",
     "output_type": "stream",
     "text": [
      "Top-rated Ingredients: \n",
      " Index(['rating_hl', 'bon appétit', 'peanut free', 'soy free', 'tree nut free',\n",
      "       'vegetarian', 'kosher', 'gourmet', 'pescatarian', 'quick & easy',\n",
      "       'wheat/gluten-free', 'bake', 'summer', 'dessert', 'fall',\n",
      "       'no sugar added', 'dairy free', 'winter', 'dinner', 'side',\n",
      "       'sugar conscious', 'kidney friendly', 'healthy', 'onion', 'tomato',\n",
      "       'fruit', 'milk/cream', 'sauté', 'vegetable', 'kid-friendly'],\n",
      "      dtype='object')\n"
     ]
    }
   ],
   "source": [
    "print('Top-rated Ingredients: \\n', X2.columns)"
   ]
  },
  {
   "cell_type": "markdown",
   "metadata": {},
   "source": [
    "The 30 ingredients that were present in recipes that were rated over 4 stars produced a support vector machine classification model with the highest accuracy when using the polynomial fit kernel. In using these ingredients, they are not only ingredients, but descriptions of types of recipes.   "
   ]
  },
  {
   "cell_type": "code",
   "execution_count": null,
   "metadata": {},
   "outputs": [],
   "source": []
  },
  {
   "cell_type": "markdown",
   "metadata": {
    "run_control": {
     "frozen": false,
     "read_only": false
    }
   },
   "source": [
    "When you've finished that, also take a moment to think about bias. Is there anything in this dataset that makes you think it could be biased, perhaps extremely so?\n",
    "\n",
    "There is. Several things in fact, but most glaringly is that we don't actually have a random sample. It could be, and probably is, that the people more likely to choose some kinds of recipes are more likely to give high reviews.\n",
    "\n",
    "After all, people who eat chocolate _might_ just be happier people."
   ]
  }
 ],
 "metadata": {
  "hide_input": false,
  "kernelspec": {
   "display_name": "Python 3",
   "language": "python",
   "name": "python3"
  },
  "language_info": {
   "codemirror_mode": {
    "name": "ipython",
    "version": 3
   },
   "file_extension": ".py",
   "mimetype": "text/x-python",
   "name": "python",
   "nbconvert_exporter": "python",
   "pygments_lexer": "ipython3",
   "version": "3.6.2"
  },
  "toc": {
   "colors": {
    "hover_highlight": "#DAA520",
    "running_highlight": "#FF0000",
    "selected_highlight": "#FFD700"
   },
   "moveMenuLeft": true,
   "nav_menu": {
    "height": "12px",
    "width": "252px"
   },
   "navigate_menu": true,
   "number_sections": true,
   "sideBar": true,
   "threshold": 4,
   "toc_cell": false,
   "toc_section_display": "block",
   "toc_window_display": false
  }
 },
 "nbformat": 4,
 "nbformat_minor": 2
}
