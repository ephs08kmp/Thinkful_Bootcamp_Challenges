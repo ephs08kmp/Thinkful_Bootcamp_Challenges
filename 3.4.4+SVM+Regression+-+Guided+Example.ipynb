{
 "cells": [
  {
   "cell_type": "markdown",
   "metadata": {},
   "source": [
    "# 3.4.4 SVM Regression Challenge"
   ]
  },
  {
   "cell_type": "code",
   "execution_count": 1,
   "metadata": {
    "run_control": {
     "frozen": false,
     "read_only": false
    }
   },
   "outputs": [],
   "source": [
    "import numpy as np\n",
    "import pandas as pd\n",
    "import scipy\n",
    "import matplotlib.pyplot as plt\n",
    "import seaborn as sns\n",
    "%matplotlib inline"
   ]
  },
  {
   "cell_type": "markdown",
   "metadata": {
    "run_control": {
     "frozen": false,
     "read_only": false
    }
   },
   "source": [
    "Now it's time for another guided example. This time we're going to look at recipes. Specifically we'll use the epicurious dataset, which has a collection of recipes, key terms and ingredients, and their ratings.\n",
    "\n",
    "What we want to see is if we can use the ingredient and keyword list to predict the rating. For someone writing a cookbook this could be really useful information that could help them choose which recipes to include because they're more likely to be enjoyed and therefore make the book more likely to be successful.\n",
    "\n",
    "First let's load the dataset. It's [available on Kaggle](https://www.kaggle.com/hugodarwood/epirecipes). We'll use the csv file here and as pull out column names and some summary statistics for ratings."
   ]
  },
  {
   "cell_type": "code",
   "execution_count": 2,
   "metadata": {
    "run_control": {
     "frozen": false,
     "read_only": false
    }
   },
   "outputs": [],
   "source": [
    "raw_data = pd.read_csv('epi_r.csv')"
   ]
  },
  {
   "cell_type": "code",
   "execution_count": 3,
   "metadata": {
    "run_control": {
     "frozen": false,
     "read_only": false
    },
    "scrolled": true
   },
   "outputs": [
    {
     "data": {
      "text/plain": [
       "count    20052.000000\n",
       "mean         3.714467\n",
       "std          1.340829\n",
       "min          0.000000\n",
       "25%          3.750000\n",
       "50%          4.375000\n",
       "75%          4.375000\n",
       "max          5.000000\n",
       "Name: rating, dtype: float64"
      ]
     },
     "execution_count": 3,
     "metadata": {},
     "output_type": "execute_result"
    }
   ],
   "source": [
    "raw_data.rating.describe()"
   ]
  },
  {
   "cell_type": "markdown",
   "metadata": {
    "run_control": {
     "frozen": false,
     "read_only": false
    }
   },
   "source": [
    "We learn a few things from this analysis. From a ratings perspective, there are just over 20,000 recipes with an average rating of 3.71. What is interesting is that the 25th percentile is actually above the mean. This means there is likely some kind of outlier population. This makes sense when we think about reviews: some bad recipes may have very few very low reviews.\n",
    "\n",
    "Let's validate the idea a bit further with a histogram."
   ]
  },
  {
   "cell_type": "code",
   "execution_count": 4,
   "metadata": {
    "run_control": {
     "frozen": false,
     "read_only": false
    }
   },
   "outputs": [
    {
     "data": {
      "image/png": "[encoded data removed]",
      "text/plain": [
       "<matplotlib.figure.Figure at 0x11395c358>"
      ]
     },
     "metadata": {},
     "output_type": "display_data"
    }
   ],
   "source": [
    "raw_data.rating.hist(bins=20)\n",
    "plt.title('Histogram of Recipe Ratings')\n",
    "plt.show()"
   ]
  },
  {
   "cell_type": "markdown",
   "metadata": {
    "run_control": {
     "frozen": false,
     "read_only": false
    }
   },
   "source": [
    "So a few things are shown in this histogram. Firstly there are sharp discontinutities. We don't have continuous data. No recipe has a 3.5 rating, for example. Also we see the anticipated increase at 0.\n",
    "\n",
    "Let's try a naive approach again, this time using SVM Regressor. But first, we'll have to do a bit of data cleaning."
   ]
  },
  {
   "cell_type": "code",
   "execution_count": 5,
   "metadata": {
    "run_control": {
     "frozen": false,
     "read_only": false
    }
   },
   "outputs": [
    {
     "data": {
      "text/plain": [
       "calories    4117\n",
       "protein     4162\n",
       "fat         4183\n",
       "sodium      4119\n",
       "dtype: int64"
      ]
     },
     "execution_count": 5,
     "metadata": {},
     "output_type": "execute_result"
    }
   ],
   "source": [
    "# Count nulls \n",
    "null_count = raw_data.isnull().sum()\n",
    "null_count[null_count>0]"
   ]
  },
  {
   "cell_type": "markdown",
   "metadata": {
    "run_control": {
     "frozen": false,
     "read_only": false
    }
   },
   "source": [
    "What we can see right away is that nutrition information is not available for all goods. Now this would be an interesting data point, but let's focus on ingredients and keywords right now. So we'll actually drop the whole columns for calories, protein, fat, and sodium. We'll come back to nutrition information later.\n",
    "\n",
    "Firstly the overfit is a problem, even though it was poor in the first place. We could go back and clean up our feature set. There might be some gains to be made by getting rid of the noise.\n",
    "\n",
    "We could also see how removing the nulls but including dietary information performs. Though its a slight change to the question we could still possibly get some improvements there.\n",
    "\n",
    "Lastly, we could take our regression problem and turn it into a classifier. With this number of features and a discontinuous outcome, we might have better luck thinking of this as a classification problem. We could make it simpler still by instead of classifying on each possible value, group reviews to some decided high and low values.\n",
    "\n",
    "__And that is your challenge.__\n",
    "\n",
    "Transform this regression problem into a binary classifier and clean up the feature set. You can choose whether or not to include nutritional information, but try to cut your feature set down to the 30 most valuable features.\n",
    "\n",
    "Good luck!\n",
    "\n",
    "\n",
    "## My Code\n",
    "To start, I will create a binary ratings variable where high ratings (greater than 3.5) have a value of 1 and low ratings (3.5 or lower) have a value of 0."
   ]
  },
  {
   "cell_type": "code",
   "execution_count": 6,
   "metadata": {},
   "outputs": [],
   "source": [
    "from sklearn.svm import SVC\n",
    "from sklearn.model_selection import cross_val_score\n",
    "from sklearn.model_selection import train_test_split\n",
    "from sklearn.model_selection import GridSearchCV\n",
    "\n",
    "#creating binary ratings data and creating the target variable for SVR \n",
    "raw_data['rating_hl'] = raw_data.rating.map(lambda x: 1 if x>3.5 else 0)\n",
    "Y = raw_data.rating_hl"
   ]
  },
  {
   "cell_type": "markdown",
   "metadata": {},
   "source": [
    "### Features: Common Ingredients\n",
    "Now, I want to narrow down the ingredients to the top 50 most used ingredients to see if just using common ingredients will allow us to predict if the ratings are high or low."
   ]
  },
  {
   "cell_type": "code",
   "execution_count": 7,
   "metadata": {
    "scrolled": true
   },
   "outputs": [],
   "source": [
    "#identifying the top most used ingredients \n",
    "ingred_count = pd.DataFrame(raw_data.drop(['title', 'rating', 'calories', 'protein', 'fat', 'sodium'], 1).sum(), columns=['count'])\n",
    "top_ingred_count = ingred_count.sort_values(by='count', ascending=False).head(30)\n",
    "top_ingred = list(top_ingred_count.index)\n",
    "\n",
    "#setting up columns for top 30 most used ingredients and splitting for train and test\n",
    "X1 = raw_data[top_ingred]\n",
    "X1_train, X1_test, Y1_train, Y1_test = train_test_split(X1, Y, test_size=0.25)"
   ]
  },
  {
   "cell_type": "markdown",
   "metadata": {},
   "source": [
    "#### SVC Kernels\n",
    "To determine the best kernel to use for this model, I will cross validate with all kernel types to determine which provides the highest accuracy without overfitting."
   ]
  },
  {
   "cell_type": "code",
   "execution_count": 8,
   "metadata": {
    "scrolled": false
   },
   "outputs": [
    {
     "name": "stdout",
     "output_type": "stream",
     "text": [
      "GridSearchCV(cv=None, error_score='raise',\n",
      "       estimator=SVC(C=1.0, cache_size=200, class_weight=None, coef0=0.0,\n",
      "  decision_function_shape='ovr', degree=3, gamma='auto', kernel='rbf',\n",
      "  max_iter=-1, probability=False, random_state=None, shrinking=True,\n",
      "  tol=0.001, verbose=False),\n",
      "       fit_params=None, iid=True, n_jobs=1,\n",
      "       param_grid={'kernel': ('linear', 'poly', 'rbf', 'sigmoid'), 'C': [0.01, 0.1, 1, 10, 100]},\n",
      "       pre_dispatch='2*n_jobs', refit=True, return_train_score='warn',\n",
      "       scoring=None, verbose=0)\n"
     ]
    }
   ],
   "source": [
    "parameters = {'kernel':('linear', 'poly', 'rbf', 'sigmoid'), 'C':[0.01, 0.1, 1, 10, 100]}\n",
    "\n",
    "#create and fit a ridge regression model, testing each alpha and kernel\n",
    "svc = SVC() \n",
    "grid = GridSearchCV(estimator=svc, param_grid=parameters) \n",
    "grid.fit(X1_train, Y1_train) \n",
    "print(grid)"
   ]
  },
  {
   "cell_type": "code",
   "execution_count": 22,
   "metadata": {
    "scrolled": false
   },
   "outputs": [
    {
     "name": "stdout",
     "output_type": "stream",
     "text": [
      "GridSearchCV(cv=None, error_score='raise',\n",
      "       estimator=SVC(C=1.0, cache_size=200, class_weight=None, coef0=0.0,\n",
      "  decision_function_shape='ovr', degree=3, gamma='auto', kernel='rbf',\n",
      "  max_iter=-1, probability=False, random_state=None, shrinking=True,\n",
      "  tol=0.001, verbose=False),\n",
      "       fit_params=None, iid=True, n_jobs=1,\n",
      "       param_grid=[{'C': [0.01, 0.1, 1, 10, 100], 'kernel': ['linear']}, {'C': [0.01, 0.1, 1, 10, 100], 'kernel': ['poly']}, {'C': [0.01, 0.1, 1, 10, 100], 'kernel': ['rbf']}, {'C': [0.01, 0.1, 1, 10, 100], 'kernel': ['sigmoid']}],\n",
      "       pre_dispatch='2*n_jobs', refit=True, return_train_score='warn',\n",
      "       scoring=None, verbose=0)\n"
     ]
    }
   ],
   "source": [
    "#trying with code from Max\n",
    "parameters = [{'C': [0.01, 0.1, 1, 10, 100], 'kernel':['linear']}, \n",
    "              {'C': [0.01, 0.1, 1, 10, 100], 'kernel':['poly']},\n",
    "               {'C': [0.01, 0.1, 1, 10, 100], 'kernel':['rbf']},\n",
    "               {'C': [0.01, 0.1, 1, 10, 100], 'kernel':['sigmoid']}]\n",
    "\n",
    "#create and fit a ridge regression model, testing each alpha and kernel\n",
    "svc_m = SVC() \n",
    "grid_m = GridSearchCV(estimator=svc_m, param_grid=parameters) \n",
    "grid_m.fit(X1_train, Y1_train) \n",
    "print(grid_m)"
   ]
  },
  {
   "cell_type": "markdown",
   "metadata": {},
   "source": [
    "Identifying what the best parameters were from the Grid Search, and identifying the best score from those parameters."
   ]
  },
  {
   "cell_type": "code",
   "execution_count": 24,
   "metadata": {},
   "outputs": [
    {
     "name": "stdout",
     "output_type": "stream",
     "text": [
      "Best Parameters:  {'C': 0.01, 'kernel': 'linear'}\n",
      "Best Score:  1.0\n"
     ]
    }
   ],
   "source": [
    "print('Best Parameters: ', grid_m.best_params_)\n",
    "print('Best Score: ', grid_m.best_score_)"
   ]
  },
  {
   "cell_type": "markdown",
   "metadata": {},
   "source": [
    "A R-squared value of 1!?! I assume this is due to overfitting. \n",
    "\n",
    "Let's try the same best parameters from the grid search with the test data."
   ]
  },
  {
   "cell_type": "code",
   "execution_count": 25,
   "metadata": {},
   "outputs": [
    {
     "data": {
      "text/plain": [
       "1.0"
      ]
     },
     "execution_count": 25,
     "metadata": {},
     "output_type": "execute_result"
    }
   ],
   "source": [
    "grid_m.score(X1_test, Y1_test)"
   ]
  },
  {
   "cell_type": "markdown",
   "metadata": {},
   "source": [
    "The test data set produced the same R-squared value for this model.  I again assume this is due to overfitting.  \n",
    "\n",
    "From my search before, I identified that the poly kernel produced a non-one value of R-squared.  I will run this model again and then cross validate."
   ]
  },
  {
   "cell_type": "code",
   "execution_count": 11,
   "metadata": {},
   "outputs": [
    {
     "name": "stdout",
     "output_type": "stream",
     "text": [
      "R-squared from Polynomial Kernel:  0.7944677172684353\n",
      "Cross Validation Scores:  [0.79428382 0.79454787 0.79454787 0.79447955 0.79447955]\n"
     ]
    }
   ],
   "source": [
    "#instantiating and fitting model with polynomial kernel\n",
    "svc1_p = SVC(C=0.01, kernel='poly')\n",
    "svc1_p.fit(X1_train, Y1_train)\n",
    "print('R-squared from Polynomial Kernel: ', svc1_p.score(X1_train, Y1_train))\n",
    "print('Cross Validation Scores: ', cross_val_score(svc1_p, X1_train, Y1_train, cv=5))"
   ]
  },
  {
   "cell_type": "markdown",
   "metadata": {},
   "source": [
    "Validating the model through test data set."
   ]
  },
  {
   "cell_type": "code",
   "execution_count": 12,
   "metadata": {},
   "outputs": [
    {
     "data": {
      "text/plain": [
       "0.7897466586874127"
      ]
     },
     "execution_count": 12,
     "metadata": {},
     "output_type": "execute_result"
    }
   ],
   "source": [
    "svc1_p.score(X1_test, Y1_test)"
   ]
  },
  {
   "cell_type": "markdown",
   "metadata": {},
   "source": [
    "The consistency of non-one R-squared values in cross validation makes more sense for the data.  This is a pretty accurate model for this data, especially since the test data set has a high R-squared value of 79%. Continue to cross validate with other kernels, but this is a good start."
   ]
  },
  {
   "cell_type": "markdown",
   "metadata": {},
   "source": [
    "The only kernel that does not overfit the data is the polynomial kernel.  I will try this same cross validation strategy with features that are the ingredients from top-rated recipes.\n",
    "\n",
    "### Features: Top-Rated Ingredients\n",
    "Here I pull all of the ingredients from the top-rated recipes.  The top 30-most used ingredients in these recipes I will use as features for SVC."
   ]
  },
  {
   "cell_type": "code",
   "execution_count": 13,
   "metadata": {},
   "outputs": [],
   "source": [
    "#identifying the ingredients from top-rated recipes\n",
    "top_rated = raw_data[raw_data['rating'] >= 4]\n",
    "top_rated_count = pd.DataFrame(top_rated.drop(['title', 'rating', 'calories', 'protein', 'fat', 'sodium'], 1).sum())\n",
    "top_rated_count = top_rated_count.sort_values(by=0, ascending=False).head(30)\n",
    "top_rated_ingred = list(top_rated_count.index)\n",
    "\n",
    "#setting up columns for the top-rated ingredients, and splitting into train and test groups\n",
    "X2 = raw_data[top_rated_ingred]\n",
    "X2_train, X2_test, Y2_train, Y2_test = train_test_split(X2, Y, test_size=0.25)"
   ]
  },
  {
   "cell_type": "markdown",
   "metadata": {},
   "source": [
    "Again, I will perform a Grid Search CV to identify the best parameters for this top-rated data set, with different kernels and values of C. "
   ]
  },
  {
   "cell_type": "code",
   "execution_count": 14,
   "metadata": {},
   "outputs": [
    {
     "name": "stdout",
     "output_type": "stream",
     "text": [
      "GridSearchCV(cv=None, error_score='raise',\n",
      "       estimator=SVC(C=1.0, cache_size=200, class_weight=None, coef0=0.0,\n",
      "  decision_function_shape='ovr', degree=3, gamma='auto', kernel='rbf',\n",
      "  max_iter=-1, probability=False, random_state=None, shrinking=True,\n",
      "  tol=0.001, verbose=False),\n",
      "       fit_params=None, iid=True, n_jobs=1,\n",
      "       param_grid={'kernel': ('linear', 'poly', 'rbf', 'sigmoid'), 'C': [0.1, 1, 10, 100]},\n",
      "       pre_dispatch='2*n_jobs', refit=True, return_train_score='warn',\n",
      "       scoring=None, verbose=0)\n"
     ]
    }
   ],
   "source": [
    "parameters = {'kernel':('linear', 'poly', 'rbf', 'sigmoid'), 'C':[0.1, 1, 10, 100]}\n",
    "\n",
    "#create and fit a ridge regression model, testing each alpha and kernel\n",
    "svc2 = SVC() \n",
    "grid2 = GridSearchCV(estimator=svc2, param_grid=parameters) \n",
    "grid2.fit(X2_train, Y2_train) \n",
    "print(grid2)"
   ]
  },
  {
   "cell_type": "code",
   "execution_count": 15,
   "metadata": {},
   "outputs": [
    {
     "name": "stdout",
     "output_type": "stream",
     "text": [
      "Best Parameters:  {'C': 0.1, 'kernel': 'linear'}\n",
      "Best Score:  1.0\n"
     ]
    }
   ],
   "source": [
    "print('Best Parameters: ', grid2.best_params_)\n",
    "print('Best Score: ', grid2.best_score_)"
   ]
  },
  {
   "cell_type": "markdown",
   "metadata": {},
   "source": [
    "Again, the best kernel is the linear kernel, and the best score is an R-squared value of 1.0.  This model is also overfitting. \n",
    "\n",
    "Just to verify this overfitting, I will run the model against he test data to see how well that predicts."
   ]
  },
  {
   "cell_type": "code",
   "execution_count": 16,
   "metadata": {},
   "outputs": [
    {
     "data": {
      "text/plain": [
       "1.0"
      ]
     },
     "execution_count": 16,
     "metadata": {},
     "output_type": "execute_result"
    }
   ],
   "source": [
    "grid2.score(X2_test, Y2_test)"
   ]
  },
  {
   "cell_type": "markdown",
   "metadata": {},
   "source": [
    "Again, the R-squared for the test data is 1.0.  From my previous work, I will again try the poly kernel to fit the model and cross validate with the training and test data sets."
   ]
  },
  {
   "cell_type": "code",
   "execution_count": 17,
   "metadata": {},
   "outputs": [
    {
     "name": "stdout",
     "output_type": "stream",
     "text": [
      "R-squared from Polynomial Kernel:  0.7942017421371101\n",
      "Cross Validation Scores:  [0.79421543 0.79421543 0.79421543 0.79421543 0.79414699]\n"
     ]
    }
   ],
   "source": [
    "#instantiating and fitting polynomial kernel\n",
    "svc2_poly = SVC(C=0.1, kernel='poly')\n",
    "svc2_poly.fit(X2_train, Y2_train)\n",
    "print('R-squared from Polynomial Kernel: ', svc2_poly.score(X2_train, Y2_train))\n",
    "print('Cross Validation Scores: ', cross_val_score(svc2_poly, X2_train, Y2_train, cv=5))"
   ]
  },
  {
   "cell_type": "code",
   "execution_count": 18,
   "metadata": {},
   "outputs": [
    {
     "data": {
      "text/plain": [
       "0.7905445840813884"
      ]
     },
     "execution_count": 18,
     "metadata": {},
     "output_type": "execute_result"
    }
   ],
   "source": [
    "svc2_poly.score(X2_test, Y2_test)"
   ]
  },
  {
   "cell_type": "markdown",
   "metadata": {},
   "source": [
    "This model is very slightly more accurate than with the features from the most common ingredients, and cross validation is consistent across folds, but the accuracy in the test data is slightly lower in this model. "
   ]
  },
  {
   "cell_type": "markdown",
   "metadata": {
    "run_control": {
     "frozen": false,
     "read_only": false
    }
   },
   "source": [
    "Based on the data, the best kernel for this classifier model is the polynomial kernel.  This provided an accuracy of around 79% using 30 ingredients from the top rated recipes.  We will now test the model's accuracy using the test data to determine how well the model predicts values. "
   ]
  },
  {
   "cell_type": "code",
   "execution_count": 19,
   "metadata": {},
   "outputs": [
    {
     "name": "stdout",
     "output_type": "stream",
     "text": [
      "Crosstabulation:  rating_hl     0     1\n",
      "row_0                \n",
      "1          1050  3963\n",
      "Accuracy of TEST set for SVC Poly Kernel:  0.7905445840813884\n"
     ]
    }
   ],
   "source": [
    "y2_pred_poly = svc2_poly.predict(X2_test)\n",
    "crosstab = pd.crosstab(y2_pred_poly, Y2_test)\n",
    "print('Crosstabulation: ', pd.crosstab(y2_pred_poly, Y2_test))\n",
    "print('Accuracy of TEST set for SVC Poly Kernel: ', svc2_poly.score(X2_test, Y2_test))"
   ]
  },
  {
   "cell_type": "code",
   "execution_count": 20,
   "metadata": {},
   "outputs": [
    {
     "name": "stdout",
     "output_type": "stream",
     "text": [
      "Top-rated Ingredients: \n",
      " Index(['rating_hl', 'bon appétit', 'peanut free', 'soy free', 'tree nut free',\n",
      "       'vegetarian', 'kosher', 'gourmet', 'pescatarian', 'quick & easy',\n",
      "       'wheat/gluten-free', 'bake', 'summer', 'dessert', 'fall',\n",
      "       'no sugar added', 'dairy free', 'winter', 'dinner', 'side',\n",
      "       'sugar conscious', 'kidney friendly', 'healthy', 'onion', 'tomato',\n",
      "       'fruit', 'milk/cream', 'sauté', 'vegetable', 'kid-friendly'],\n",
      "      dtype='object')\n"
     ]
    }
   ],
   "source": [
    "print('Top-rated Ingredients: \\n', X2.columns)"
   ]
  },
  {
   "cell_type": "markdown",
   "metadata": {},
   "source": [
    "The 30 ingredients that were present in recipes that were rated over 4 stars produced a support vector machine classification model with the highest accuracy when using the polynomial fit kernel. In using these ingredients, they are not only ingredients, but descriptions of types of recipes.   "
   ]
  },
  {
   "cell_type": "code",
   "execution_count": null,
   "metadata": {},
   "outputs": [],
   "source": []
  },
  {
   "cell_type": "markdown",
   "metadata": {
    "run_control": {
     "frozen": false,
     "read_only": false
    }
   },
   "source": [
    "When you've finished that, also take a moment to think about bias. Is there anything in this dataset that makes you think it could be biased, perhaps extremely so?\n",
    "\n",
    "There is. Several things in fact, but most glaringly is that we don't actually have a random sample. It could be, and probably is, that the people more likely to choose some kinds of recipes are more likely to give high reviews.\n",
    "\n",
    "After all, people who eat chocolate _might_ just be happier people."
   ]
  }
 ],
 "metadata": {
  "hide_input": false,
  "kernelspec": {
   "display_name": "Python 3",
   "language": "python",
   "name": "python3"
  },
  "language_info": {
   "codemirror_mode": {
    "name": "ipython",
    "version": 3
   },
   "file_extension": ".py",
   "mimetype": "text/x-python",
   "name": "python",
   "nbconvert_exporter": "python",
   "pygments_lexer": "ipython3",
   "version": "3.6.2"
  },
  "toc": {
   "colors": {
    "hover_highlight": "#DAA520",
    "running_highlight": "#FF0000",
    "selected_highlight": "#FFD700"
   },
   "moveMenuLeft": true,
   "nav_menu": {
    "height": "12px",
    "width": "252px"
   },
   "navigate_menu": true,
   "number_sections": true,
   "sideBar": true,
   "threshold": 4,
   "toc_cell": false,
   "toc_section_display": "block",
   "toc_window_display": false
  }
 },
 "nbformat": 4,
 "nbformat_minor": 2
}
