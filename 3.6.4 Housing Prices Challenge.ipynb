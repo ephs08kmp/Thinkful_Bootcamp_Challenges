{
 "cells": [
  {
   "cell_type": "markdown",
   "metadata": {},
   "source": [
    "# 3.6.4 Melbourne Housing Prices Challenge\n",
    "\n",
    "__Source:__ [Kaggle Data Set](https://www.kaggle.com/anthonypino/melbourne-housing-market)\n",
    "\n",
    "__Description from Kaggle Site:__ Melbourne is currently experiencing a housing bubble (some experts say it may burst soon). Maybe someone can find a trend or give a prediction? Which suburbs are the best to buy in? Which ones are value for money? Where's the expensive side of town? And more importantly where should I buy a 2 bedroom unit?"
   ]
  },
  {
   "cell_type": "code",
   "execution_count": 1,
   "metadata": {},
   "outputs": [],
   "source": [
    "#necessary imports\n",
    "import pandas as pd\n",
    "import numpy as np\n",
    "import matplotlib.pyplot as plt\n",
    "import seaborn as sns\n",
    "from sklearn.model_selection import train_test_split, cross_val_score\n",
    "\n",
    "%matplotlib inline"
   ]
  },
  {
   "cell_type": "code",
   "execution_count": 2,
   "metadata": {},
   "outputs": [
    {
     "data": {
      "text/html": [
       "<div>\n",
       "<style scoped>\n",
       "    .dataframe tbody tr th:only-of-type {\n",
       "        vertical-align: middle;\n",
       "    }\n",
       "\n",
       "    .dataframe tbody tr th {\n",
       "        vertical-align: top;\n",
       "    }\n",
       "\n",
       "    .dataframe thead th {\n",
       "        text-align: right;\n",
       "    }\n",
       "</style>\n",
       "<table border=\"1\" class=\"dataframe\">\n",
       "  <thead>\n",
       "    <tr style=\"text-align: right;\">\n",
       "      <th></th>\n",
       "      <th>Suburb</th>\n",
       "      <th>Address</th>\n",
       "      <th>Rooms</th>\n",
       "      <th>Type</th>\n",
       "      <th>Price</th>\n",
       "      <th>Method</th>\n",
       "      <th>SellerG</th>\n",
       "      <th>Date</th>\n",
       "      <th>Distance</th>\n",
       "      <th>Postcode</th>\n",
       "      <th>...</th>\n",
       "      <th>Bathroom</th>\n",
       "      <th>Car</th>\n",
       "      <th>Landsize</th>\n",
       "      <th>BuildingArea</th>\n",
       "      <th>YearBuilt</th>\n",
       "      <th>CouncilArea</th>\n",
       "      <th>Lattitude</th>\n",
       "      <th>Longtitude</th>\n",
       "      <th>Regionname</th>\n",
       "      <th>Propertycount</th>\n",
       "    </tr>\n",
       "  </thead>\n",
       "  <tbody>\n",
       "    <tr>\n",
       "      <th>0</th>\n",
       "      <td>Abbotsford</td>\n",
       "      <td>68 Studley St</td>\n",
       "      <td>2</td>\n",
       "      <td>h</td>\n",
       "      <td>NaN</td>\n",
       "      <td>SS</td>\n",
       "      <td>Jellis</td>\n",
       "      <td>3/09/2016</td>\n",
       "      <td>2.5</td>\n",
       "      <td>3067.0</td>\n",
       "      <td>...</td>\n",
       "      <td>1.0</td>\n",
       "      <td>1.0</td>\n",
       "      <td>126.0</td>\n",
       "      <td>NaN</td>\n",
       "      <td>NaN</td>\n",
       "      <td>Yarra City Council</td>\n",
       "      <td>-37.8014</td>\n",
       "      <td>144.9958</td>\n",
       "      <td>Northern Metropolitan</td>\n",
       "      <td>4019.0</td>\n",
       "    </tr>\n",
       "    <tr>\n",
       "      <th>1</th>\n",
       "      <td>Abbotsford</td>\n",
       "      <td>85 Turner St</td>\n",
       "      <td>2</td>\n",
       "      <td>h</td>\n",
       "      <td>1480000.0</td>\n",
       "      <td>S</td>\n",
       "      <td>Biggin</td>\n",
       "      <td>3/12/2016</td>\n",
       "      <td>2.5</td>\n",
       "      <td>3067.0</td>\n",
       "      <td>...</td>\n",
       "      <td>1.0</td>\n",
       "      <td>1.0</td>\n",
       "      <td>202.0</td>\n",
       "      <td>NaN</td>\n",
       "      <td>NaN</td>\n",
       "      <td>Yarra City Council</td>\n",
       "      <td>-37.7996</td>\n",
       "      <td>144.9984</td>\n",
       "      <td>Northern Metropolitan</td>\n",
       "      <td>4019.0</td>\n",
       "    </tr>\n",
       "    <tr>\n",
       "      <th>2</th>\n",
       "      <td>Abbotsford</td>\n",
       "      <td>25 Bloomburg St</td>\n",
       "      <td>2</td>\n",
       "      <td>h</td>\n",
       "      <td>1035000.0</td>\n",
       "      <td>S</td>\n",
       "      <td>Biggin</td>\n",
       "      <td>4/02/2016</td>\n",
       "      <td>2.5</td>\n",
       "      <td>3067.0</td>\n",
       "      <td>...</td>\n",
       "      <td>1.0</td>\n",
       "      <td>0.0</td>\n",
       "      <td>156.0</td>\n",
       "      <td>79.0</td>\n",
       "      <td>1900.0</td>\n",
       "      <td>Yarra City Council</td>\n",
       "      <td>-37.8079</td>\n",
       "      <td>144.9934</td>\n",
       "      <td>Northern Metropolitan</td>\n",
       "      <td>4019.0</td>\n",
       "    </tr>\n",
       "    <tr>\n",
       "      <th>3</th>\n",
       "      <td>Abbotsford</td>\n",
       "      <td>18/659 Victoria St</td>\n",
       "      <td>3</td>\n",
       "      <td>u</td>\n",
       "      <td>NaN</td>\n",
       "      <td>VB</td>\n",
       "      <td>Rounds</td>\n",
       "      <td>4/02/2016</td>\n",
       "      <td>2.5</td>\n",
       "      <td>3067.0</td>\n",
       "      <td>...</td>\n",
       "      <td>2.0</td>\n",
       "      <td>1.0</td>\n",
       "      <td>0.0</td>\n",
       "      <td>NaN</td>\n",
       "      <td>NaN</td>\n",
       "      <td>Yarra City Council</td>\n",
       "      <td>-37.8114</td>\n",
       "      <td>145.0116</td>\n",
       "      <td>Northern Metropolitan</td>\n",
       "      <td>4019.0</td>\n",
       "    </tr>\n",
       "    <tr>\n",
       "      <th>4</th>\n",
       "      <td>Abbotsford</td>\n",
       "      <td>5 Charles St</td>\n",
       "      <td>3</td>\n",
       "      <td>h</td>\n",
       "      <td>1465000.0</td>\n",
       "      <td>SP</td>\n",
       "      <td>Biggin</td>\n",
       "      <td>4/03/2017</td>\n",
       "      <td>2.5</td>\n",
       "      <td>3067.0</td>\n",
       "      <td>...</td>\n",
       "      <td>2.0</td>\n",
       "      <td>0.0</td>\n",
       "      <td>134.0</td>\n",
       "      <td>150.0</td>\n",
       "      <td>1900.0</td>\n",
       "      <td>Yarra City Council</td>\n",
       "      <td>-37.8093</td>\n",
       "      <td>144.9944</td>\n",
       "      <td>Northern Metropolitan</td>\n",
       "      <td>4019.0</td>\n",
       "    </tr>\n",
       "  </tbody>\n",
       "</table>\n",
       "<p>5 rows × 21 columns</p>\n",
       "</div>"
      ],
      "text/plain": [
       "       Suburb             Address  Rooms Type      Price Method SellerG  \\\n",
       "0  Abbotsford       68 Studley St      2    h        NaN     SS  Jellis   \n",
       "1  Abbotsford        85 Turner St      2    h  1480000.0      S  Biggin   \n",
       "2  Abbotsford     25 Bloomburg St      2    h  1035000.0      S  Biggin   \n",
       "3  Abbotsford  18/659 Victoria St      3    u        NaN     VB  Rounds   \n",
       "4  Abbotsford        5 Charles St      3    h  1465000.0     SP  Biggin   \n",
       "\n",
       "        Date  Distance  Postcode      ...       Bathroom  Car  Landsize  \\\n",
       "0  3/09/2016       2.5    3067.0      ...            1.0  1.0     126.0   \n",
       "1  3/12/2016       2.5    3067.0      ...            1.0  1.0     202.0   \n",
       "2  4/02/2016       2.5    3067.0      ...            1.0  0.0     156.0   \n",
       "3  4/02/2016       2.5    3067.0      ...            2.0  1.0       0.0   \n",
       "4  4/03/2017       2.5    3067.0      ...            2.0  0.0     134.0   \n",
       "\n",
       "   BuildingArea  YearBuilt         CouncilArea Lattitude  Longtitude  \\\n",
       "0           NaN        NaN  Yarra City Council  -37.8014    144.9958   \n",
       "1           NaN        NaN  Yarra City Council  -37.7996    144.9984   \n",
       "2          79.0     1900.0  Yarra City Council  -37.8079    144.9934   \n",
       "3           NaN        NaN  Yarra City Council  -37.8114    145.0116   \n",
       "4         150.0     1900.0  Yarra City Council  -37.8093    144.9944   \n",
       "\n",
       "              Regionname Propertycount  \n",
       "0  Northern Metropolitan        4019.0  \n",
       "1  Northern Metropolitan        4019.0  \n",
       "2  Northern Metropolitan        4019.0  \n",
       "3  Northern Metropolitan        4019.0  \n",
       "4  Northern Metropolitan        4019.0  \n",
       "\n",
       "[5 rows x 21 columns]"
      ]
     },
     "execution_count": 2,
     "metadata": {},
     "output_type": "execute_result"
    }
   ],
   "source": [
    "#importing csv and inspecting head of data\n",
    "mhd = pd.read_csv('Melbourne_housing_FULL.csv')\n",
    "mhd.head()"
   ]
  },
  {
   "cell_type": "code",
   "execution_count": 3,
   "metadata": {},
   "outputs": [
    {
     "data": {
      "text/plain": [
       "Suburb               0\n",
       "Address              0\n",
       "Rooms                0\n",
       "Type                 0\n",
       "Price             7610\n",
       "Method               0\n",
       "SellerG              0\n",
       "Date                 0\n",
       "Distance             1\n",
       "Postcode             1\n",
       "Bedroom2          8217\n",
       "Bathroom          8226\n",
       "Car               8728\n",
       "Landsize         11810\n",
       "BuildingArea     21115\n",
       "YearBuilt        19306\n",
       "CouncilArea          3\n",
       "Lattitude         7976\n",
       "Longtitude        7976\n",
       "Regionname           3\n",
       "Propertycount        3\n",
       "dtype: int64"
      ]
     },
     "execution_count": 3,
     "metadata": {},
     "output_type": "execute_result"
    }
   ],
   "source": [
    "#inspecting null values in the data set\n",
    "mhd.isnull().sum()"
   ]
  },
  {
   "cell_type": "markdown",
   "metadata": {},
   "source": [
    "This data set is missing a number of values in the following columns: Price, Bedroom2, Bathroom, Car, Landsize, BuildingArea, YearBuilt, Lattitude, Longitude.  There are also less than 5 values missing from the following columns: Distance, Postcode, CouncilArea, Regionname, and Propertycount.\n",
    "\n",
    "Now let's further inspect the types of each column."
   ]
  },
  {
   "cell_type": "code",
   "execution_count": 4,
   "metadata": {},
   "outputs": [
    {
     "name": "stdout",
     "output_type": "stream",
     "text": [
      "<class 'pandas.core.frame.DataFrame'>\n",
      "RangeIndex: 34857 entries, 0 to 34856\n",
      "Data columns (total 21 columns):\n",
      "Suburb           34857 non-null object\n",
      "Address          34857 non-null object\n",
      "Rooms            34857 non-null int64\n",
      "Type             34857 non-null object\n",
      "Price            27247 non-null float64\n",
      "Method           34857 non-null object\n",
      "SellerG          34857 non-null object\n",
      "Date             34857 non-null object\n",
      "Distance         34856 non-null float64\n",
      "Postcode         34856 non-null float64\n",
      "Bedroom2         26640 non-null float64\n",
      "Bathroom         26631 non-null float64\n",
      "Car              26129 non-null float64\n",
      "Landsize         23047 non-null float64\n",
      "BuildingArea     13742 non-null float64\n",
      "YearBuilt        15551 non-null float64\n",
      "CouncilArea      34854 non-null object\n",
      "Lattitude        26881 non-null float64\n",
      "Longtitude       26881 non-null float64\n",
      "Regionname       34854 non-null object\n",
      "Propertycount    34854 non-null float64\n",
      "dtypes: float64(12), int64(1), object(8)\n",
      "memory usage: 5.6+ MB\n"
     ]
    }
   ],
   "source": [
    "mhd.info()"
   ]
  },
  {
   "cell_type": "markdown",
   "metadata": {},
   "source": [
    "All of these make sense, except the Date needs to be changed to a date object."
   ]
  },
  {
   "cell_type": "code",
   "execution_count": 5,
   "metadata": {},
   "outputs": [],
   "source": [
    "#converting date to a date object\n",
    "mhd['Date'] = pd.to_datetime(mhd['Date'])"
   ]
  },
  {
   "cell_type": "code",
   "execution_count": 6,
   "metadata": {},
   "outputs": [
    {
     "data": {
      "text/html": [
       "<div>\n",
       "<style scoped>\n",
       "    .dataframe tbody tr th:only-of-type {\n",
       "        vertical-align: middle;\n",
       "    }\n",
       "\n",
       "    .dataframe tbody tr th {\n",
       "        vertical-align: top;\n",
       "    }\n",
       "\n",
       "    .dataframe thead th {\n",
       "        text-align: right;\n",
       "    }\n",
       "</style>\n",
       "<table border=\"1\" class=\"dataframe\">\n",
       "  <thead>\n",
       "    <tr style=\"text-align: right;\">\n",
       "      <th></th>\n",
       "      <th>count</th>\n",
       "      <th>mean</th>\n",
       "      <th>std</th>\n",
       "      <th>min</th>\n",
       "      <th>25%</th>\n",
       "      <th>50%</th>\n",
       "      <th>75%</th>\n",
       "      <th>max</th>\n",
       "    </tr>\n",
       "  </thead>\n",
       "  <tbody>\n",
       "    <tr>\n",
       "      <th>Rooms</th>\n",
       "      <td>34857.0</td>\n",
       "      <td>3.031012e+00</td>\n",
       "      <td>0.969933</td>\n",
       "      <td>1.00000</td>\n",
       "      <td>2.00000</td>\n",
       "      <td>3.0000</td>\n",
       "      <td>4.000000e+00</td>\n",
       "      <td>1.600000e+01</td>\n",
       "    </tr>\n",
       "    <tr>\n",
       "      <th>Price</th>\n",
       "      <td>27247.0</td>\n",
       "      <td>1.050173e+06</td>\n",
       "      <td>641467.130105</td>\n",
       "      <td>85000.00000</td>\n",
       "      <td>635000.00000</td>\n",
       "      <td>870000.0000</td>\n",
       "      <td>1.295000e+06</td>\n",
       "      <td>1.120000e+07</td>\n",
       "    </tr>\n",
       "    <tr>\n",
       "      <th>Distance</th>\n",
       "      <td>34856.0</td>\n",
       "      <td>1.118493e+01</td>\n",
       "      <td>6.788892</td>\n",
       "      <td>0.00000</td>\n",
       "      <td>6.40000</td>\n",
       "      <td>10.3000</td>\n",
       "      <td>1.400000e+01</td>\n",
       "      <td>4.810000e+01</td>\n",
       "    </tr>\n",
       "    <tr>\n",
       "      <th>Postcode</th>\n",
       "      <td>34856.0</td>\n",
       "      <td>3.116063e+03</td>\n",
       "      <td>109.023903</td>\n",
       "      <td>3000.00000</td>\n",
       "      <td>3051.00000</td>\n",
       "      <td>3103.0000</td>\n",
       "      <td>3.156000e+03</td>\n",
       "      <td>3.978000e+03</td>\n",
       "    </tr>\n",
       "    <tr>\n",
       "      <th>Bedroom2</th>\n",
       "      <td>26640.0</td>\n",
       "      <td>3.084647e+00</td>\n",
       "      <td>0.980690</td>\n",
       "      <td>0.00000</td>\n",
       "      <td>2.00000</td>\n",
       "      <td>3.0000</td>\n",
       "      <td>4.000000e+00</td>\n",
       "      <td>3.000000e+01</td>\n",
       "    </tr>\n",
       "    <tr>\n",
       "      <th>Bathroom</th>\n",
       "      <td>26631.0</td>\n",
       "      <td>1.624798e+00</td>\n",
       "      <td>0.724212</td>\n",
       "      <td>0.00000</td>\n",
       "      <td>1.00000</td>\n",
       "      <td>2.0000</td>\n",
       "      <td>2.000000e+00</td>\n",
       "      <td>1.200000e+01</td>\n",
       "    </tr>\n",
       "    <tr>\n",
       "      <th>Car</th>\n",
       "      <td>26129.0</td>\n",
       "      <td>1.728845e+00</td>\n",
       "      <td>1.010771</td>\n",
       "      <td>0.00000</td>\n",
       "      <td>1.00000</td>\n",
       "      <td>2.0000</td>\n",
       "      <td>2.000000e+00</td>\n",
       "      <td>2.600000e+01</td>\n",
       "    </tr>\n",
       "    <tr>\n",
       "      <th>Landsize</th>\n",
       "      <td>23047.0</td>\n",
       "      <td>5.935990e+02</td>\n",
       "      <td>3398.841946</td>\n",
       "      <td>0.00000</td>\n",
       "      <td>224.00000</td>\n",
       "      <td>521.0000</td>\n",
       "      <td>6.700000e+02</td>\n",
       "      <td>4.330140e+05</td>\n",
       "    </tr>\n",
       "    <tr>\n",
       "      <th>BuildingArea</th>\n",
       "      <td>13742.0</td>\n",
       "      <td>1.602564e+02</td>\n",
       "      <td>401.267060</td>\n",
       "      <td>0.00000</td>\n",
       "      <td>102.00000</td>\n",
       "      <td>136.0000</td>\n",
       "      <td>1.880000e+02</td>\n",
       "      <td>4.451500e+04</td>\n",
       "    </tr>\n",
       "    <tr>\n",
       "      <th>YearBuilt</th>\n",
       "      <td>15551.0</td>\n",
       "      <td>1.965290e+03</td>\n",
       "      <td>37.328178</td>\n",
       "      <td>1196.00000</td>\n",
       "      <td>1940.00000</td>\n",
       "      <td>1970.0000</td>\n",
       "      <td>2.000000e+03</td>\n",
       "      <td>2.106000e+03</td>\n",
       "    </tr>\n",
       "    <tr>\n",
       "      <th>Lattitude</th>\n",
       "      <td>26881.0</td>\n",
       "      <td>-3.781063e+01</td>\n",
       "      <td>0.090279</td>\n",
       "      <td>-38.19043</td>\n",
       "      <td>-37.86295</td>\n",
       "      <td>-37.8076</td>\n",
       "      <td>-3.775410e+01</td>\n",
       "      <td>-3.739020e+01</td>\n",
       "    </tr>\n",
       "    <tr>\n",
       "      <th>Longtitude</th>\n",
       "      <td>26881.0</td>\n",
       "      <td>1.450019e+02</td>\n",
       "      <td>0.120169</td>\n",
       "      <td>144.42379</td>\n",
       "      <td>144.93350</td>\n",
       "      <td>145.0078</td>\n",
       "      <td>1.450719e+02</td>\n",
       "      <td>1.455264e+02</td>\n",
       "    </tr>\n",
       "    <tr>\n",
       "      <th>Propertycount</th>\n",
       "      <td>34854.0</td>\n",
       "      <td>7.572888e+03</td>\n",
       "      <td>4428.090313</td>\n",
       "      <td>83.00000</td>\n",
       "      <td>4385.00000</td>\n",
       "      <td>6763.0000</td>\n",
       "      <td>1.041200e+04</td>\n",
       "      <td>2.165000e+04</td>\n",
       "    </tr>\n",
       "  </tbody>\n",
       "</table>\n",
       "</div>"
      ],
      "text/plain": [
       "                 count          mean            std          min  \\\n",
       "Rooms          34857.0  3.031012e+00       0.969933      1.00000   \n",
       "Price          27247.0  1.050173e+06  641467.130105  85000.00000   \n",
       "Distance       34856.0  1.118493e+01       6.788892      0.00000   \n",
       "Postcode       34856.0  3.116063e+03     109.023903   3000.00000   \n",
       "Bedroom2       26640.0  3.084647e+00       0.980690      0.00000   \n",
       "Bathroom       26631.0  1.624798e+00       0.724212      0.00000   \n",
       "Car            26129.0  1.728845e+00       1.010771      0.00000   \n",
       "Landsize       23047.0  5.935990e+02    3398.841946      0.00000   \n",
       "BuildingArea   13742.0  1.602564e+02     401.267060      0.00000   \n",
       "YearBuilt      15551.0  1.965290e+03      37.328178   1196.00000   \n",
       "Lattitude      26881.0 -3.781063e+01       0.090279    -38.19043   \n",
       "Longtitude     26881.0  1.450019e+02       0.120169    144.42379   \n",
       "Propertycount  34854.0  7.572888e+03    4428.090313     83.00000   \n",
       "\n",
       "                        25%          50%           75%           max  \n",
       "Rooms               2.00000       3.0000  4.000000e+00  1.600000e+01  \n",
       "Price          635000.00000  870000.0000  1.295000e+06  1.120000e+07  \n",
       "Distance            6.40000      10.3000  1.400000e+01  4.810000e+01  \n",
       "Postcode         3051.00000    3103.0000  3.156000e+03  3.978000e+03  \n",
       "Bedroom2            2.00000       3.0000  4.000000e+00  3.000000e+01  \n",
       "Bathroom            1.00000       2.0000  2.000000e+00  1.200000e+01  \n",
       "Car                 1.00000       2.0000  2.000000e+00  2.600000e+01  \n",
       "Landsize          224.00000     521.0000  6.700000e+02  4.330140e+05  \n",
       "BuildingArea      102.00000     136.0000  1.880000e+02  4.451500e+04  \n",
       "YearBuilt        1940.00000    1970.0000  2.000000e+03  2.106000e+03  \n",
       "Lattitude         -37.86295     -37.8076 -3.775410e+01 -3.739020e+01  \n",
       "Longtitude        144.93350     145.0078  1.450719e+02  1.455264e+02  \n",
       "Propertycount    4385.00000    6763.0000  1.041200e+04  2.165000e+04  "
      ]
     },
     "execution_count": 6,
     "metadata": {},
     "output_type": "execute_result"
    }
   ],
   "source": [
    "#inspecting spread of data\n",
    "mhd.describe().transpose()"
   ]
  },
  {
   "cell_type": "markdown",
   "metadata": {},
   "source": [
    "Three observations from inspecting the data spread:\n",
    "\n",
    "1. Rooms and Bedroom2 columns are very similar, yet Bedroom2 has fewer entries.  From the description of the data, Bedroom2 was scraped from a different source.\n",
    "2. There are building areas, land sizes, and bathrooms with values of 0.00. This doesn't make sense.  \n",
    "3. There was a building built in 1196, which seems shocking.\n",
    "\n",
    "I will inspect each of these items to determine next steps."
   ]
  },
  {
   "cell_type": "code",
   "execution_count": 7,
   "metadata": {},
   "outputs": [
    {
     "name": "stdout",
     "output_type": "stream",
     "text": [
      "Max Difference:  8.0\n",
      "Min Difference:  -27.0\n",
      "Mean Difference:  0.016253753753753753\n",
      "\n",
      "Count of Value Differences: \n"
     ]
    },
    {
     "data": {
      "text/plain": [
       " 0.0     25692\n",
       " 1.0       569\n",
       "-1.0       248\n",
       " 2.0        77\n",
       "-2.0        23\n",
       " 3.0        18\n",
       " 4.0         4\n",
       "-6.0         2\n",
       "-3.0         2\n",
       "-7.0         1\n",
       "-17.0        1\n",
       "-27.0        1\n",
       "-5.0         1\n",
       " 8.0         1\n",
       "Name: room_dif, dtype: int64"
      ]
     },
     "execution_count": 7,
     "metadata": {},
     "output_type": "execute_result"
    }
   ],
   "source": [
    "mhd['room_dif'] = mhd['Rooms'] - mhd['Bedroom2']\n",
    "print('Max Difference: ', mhd.room_dif.max())\n",
    "print('Min Difference: ', mhd.room_dif.min())\n",
    "print('Mean Difference: ', mhd.room_dif.mean())\n",
    "print('\\nCount of Value Differences: ')\n",
    "mhd.room_dif.value_counts()"
   ]
  },
  {
   "cell_type": "markdown",
   "metadata": {},
   "source": [
    "Most differences between Rooms and Bedroom2 are zero or one in either direction.  The largest difference is 27 rooms.  Because the majority of values are equal to each other and that Rooms has more non-null values, I will drop the Bedroom2 column from the dataset."
   ]
  },
  {
   "cell_type": "code",
   "execution_count": 8,
   "metadata": {},
   "outputs": [],
   "source": [
    "#dropping Bedroom2 and the room_dif columns\n",
    "mhd = mhd.drop(['Bedroom2', 'room_dif'], axis=1)"
   ]
  },
  {
   "cell_type": "code",
   "execution_count": 9,
   "metadata": {},
   "outputs": [
    {
     "name": "stdout",
     "output_type": "stream",
     "text": [
      "Number of properties with Land Size of Zero: 2437\n",
      "Number of properties with Building Area of Zero: 76\n",
      "Number of properties with Zero Bathrooms: 46\n"
     ]
    }
   ],
   "source": [
    "#inspecting properties with building areas of zero\n",
    "print('Number of properties with Land Size of Zero:', mhd.Landsize[mhd.Landsize == 0].count())\n",
    "print('Number of properties with Building Area of Zero:', mhd.BuildingArea[mhd.BuildingArea == 0].count())\n",
    "print('Number of properties with Zero Bathrooms:', mhd.Bathroom[mhd.Bathroom == 0].count()) "
   ]
  },
  {
   "cell_type": "code",
   "execution_count": 10,
   "metadata": {},
   "outputs": [
    {
     "data": {
      "text/html": [
       "<div>\n",
       "<style scoped>\n",
       "    .dataframe tbody tr th:only-of-type {\n",
       "        vertical-align: middle;\n",
       "    }\n",
       "\n",
       "    .dataframe tbody tr th {\n",
       "        vertical-align: top;\n",
       "    }\n",
       "\n",
       "    .dataframe thead th {\n",
       "        text-align: right;\n",
       "    }\n",
       "</style>\n",
       "<table border=\"1\" class=\"dataframe\">\n",
       "  <thead>\n",
       "    <tr style=\"text-align: right;\">\n",
       "      <th></th>\n",
       "      <th>Suburb</th>\n",
       "      <th>Address</th>\n",
       "      <th>Rooms</th>\n",
       "      <th>Type</th>\n",
       "      <th>Price</th>\n",
       "      <th>Method</th>\n",
       "      <th>SellerG</th>\n",
       "      <th>Date</th>\n",
       "      <th>Distance</th>\n",
       "      <th>Postcode</th>\n",
       "      <th>Bathroom</th>\n",
       "      <th>Car</th>\n",
       "      <th>Landsize</th>\n",
       "      <th>BuildingArea</th>\n",
       "      <th>YearBuilt</th>\n",
       "      <th>CouncilArea</th>\n",
       "      <th>Lattitude</th>\n",
       "      <th>Longtitude</th>\n",
       "      <th>Regionname</th>\n",
       "      <th>Propertycount</th>\n",
       "    </tr>\n",
       "  </thead>\n",
       "  <tbody>\n",
       "    <tr>\n",
       "      <th>228</th>\n",
       "      <td>Alphington</td>\n",
       "      <td>6 Naroon Rd</td>\n",
       "      <td>3</td>\n",
       "      <td>h</td>\n",
       "      <td>1485000.0</td>\n",
       "      <td>SP</td>\n",
       "      <td>McGrath</td>\n",
       "      <td>2016-08-28</td>\n",
       "      <td>6.4</td>\n",
       "      <td>3078.0</td>\n",
       "      <td>0.0</td>\n",
       "      <td>0.0</td>\n",
       "      <td>597.0</td>\n",
       "      <td>NaN</td>\n",
       "      <td>NaN</td>\n",
       "      <td>Darebin City Council</td>\n",
       "      <td>-37.7781</td>\n",
       "      <td>145.0284</td>\n",
       "      <td>Northern Metropolitan</td>\n",
       "      <td>2211.0</td>\n",
       "    </tr>\n",
       "    <tr>\n",
       "      <th>481</th>\n",
       "      <td>Armadale</td>\n",
       "      <td>3/50 Denbigh Rd</td>\n",
       "      <td>2</td>\n",
       "      <td>u</td>\n",
       "      <td>546000.0</td>\n",
       "      <td>SP</td>\n",
       "      <td>hockingstuart</td>\n",
       "      <td>2016-07-30</td>\n",
       "      <td>6.3</td>\n",
       "      <td>3143.0</td>\n",
       "      <td>0.0</td>\n",
       "      <td>0.0</td>\n",
       "      <td>0.0</td>\n",
       "      <td>NaN</td>\n",
       "      <td>NaN</td>\n",
       "      <td>Stonnington City Council</td>\n",
       "      <td>-37.8568</td>\n",
       "      <td>145.0161</td>\n",
       "      <td>Southern Metropolitan</td>\n",
       "      <td>4836.0</td>\n",
       "    </tr>\n",
       "    <tr>\n",
       "      <th>845</th>\n",
       "      <td>Balaclava</td>\n",
       "      <td>5/11 Albion St</td>\n",
       "      <td>2</td>\n",
       "      <td>u</td>\n",
       "      <td>497500.0</td>\n",
       "      <td>PI</td>\n",
       "      <td>hockingstuart</td>\n",
       "      <td>2016-08-28</td>\n",
       "      <td>6.6</td>\n",
       "      <td>3183.0</td>\n",
       "      <td>0.0</td>\n",
       "      <td>0.0</td>\n",
       "      <td>0.0</td>\n",
       "      <td>NaN</td>\n",
       "      <td>NaN</td>\n",
       "      <td>Port Phillip City Council</td>\n",
       "      <td>-37.8739</td>\n",
       "      <td>144.9929</td>\n",
       "      <td>Southern Metropolitan</td>\n",
       "      <td>2952.0</td>\n",
       "    </tr>\n",
       "    <tr>\n",
       "      <th>1009</th>\n",
       "      <td>Balwyn</td>\n",
       "      <td>5 Shrimpton Ct</td>\n",
       "      <td>2</td>\n",
       "      <td>h</td>\n",
       "      <td>1010000.0</td>\n",
       "      <td>PI</td>\n",
       "      <td>Marshall</td>\n",
       "      <td>2016-07-30</td>\n",
       "      <td>9.7</td>\n",
       "      <td>3103.0</td>\n",
       "      <td>0.0</td>\n",
       "      <td>0.0</td>\n",
       "      <td>1611.0</td>\n",
       "      <td>NaN</td>\n",
       "      <td>NaN</td>\n",
       "      <td>Boroondara City Council</td>\n",
       "      <td>-37.8092</td>\n",
       "      <td>145.1016</td>\n",
       "      <td>Southern Metropolitan</td>\n",
       "      <td>5682.0</td>\n",
       "    </tr>\n",
       "    <tr>\n",
       "      <th>1549</th>\n",
       "      <td>Bentleigh East</td>\n",
       "      <td>579 Warrigal Rd</td>\n",
       "      <td>3</td>\n",
       "      <td>h</td>\n",
       "      <td>700000.0</td>\n",
       "      <td>S</td>\n",
       "      <td>Thomson</td>\n",
       "      <td>2016-05-22</td>\n",
       "      <td>13.9</td>\n",
       "      <td>3165.0</td>\n",
       "      <td>0.0</td>\n",
       "      <td>0.0</td>\n",
       "      <td>456.0</td>\n",
       "      <td>NaN</td>\n",
       "      <td>NaN</td>\n",
       "      <td>Glen Eira City Council</td>\n",
       "      <td>-37.9314</td>\n",
       "      <td>145.0808</td>\n",
       "      <td>Southern Metropolitan</td>\n",
       "      <td>10969.0</td>\n",
       "    </tr>\n",
       "  </tbody>\n",
       "</table>\n",
       "</div>"
      ],
      "text/plain": [
       "              Suburb          Address  Rooms Type      Price Method  \\\n",
       "228       Alphington      6 Naroon Rd      3    h  1485000.0     SP   \n",
       "481         Armadale  3/50 Denbigh Rd      2    u   546000.0     SP   \n",
       "845        Balaclava   5/11 Albion St      2    u   497500.0     PI   \n",
       "1009          Balwyn   5 Shrimpton Ct      2    h  1010000.0     PI   \n",
       "1549  Bentleigh East  579 Warrigal Rd      3    h   700000.0      S   \n",
       "\n",
       "            SellerG       Date  Distance  Postcode  Bathroom  Car  Landsize  \\\n",
       "228         McGrath 2016-08-28       6.4    3078.0       0.0  0.0     597.0   \n",
       "481   hockingstuart 2016-07-30       6.3    3143.0       0.0  0.0       0.0   \n",
       "845   hockingstuart 2016-08-28       6.6    3183.0       0.0  0.0       0.0   \n",
       "1009       Marshall 2016-07-30       9.7    3103.0       0.0  0.0    1611.0   \n",
       "1549        Thomson 2016-05-22      13.9    3165.0       0.0  0.0     456.0   \n",
       "\n",
       "      BuildingArea  YearBuilt                CouncilArea  Lattitude  \\\n",
       "228            NaN        NaN       Darebin City Council   -37.7781   \n",
       "481            NaN        NaN   Stonnington City Council   -37.8568   \n",
       "845            NaN        NaN  Port Phillip City Council   -37.8739   \n",
       "1009           NaN        NaN    Boroondara City Council   -37.8092   \n",
       "1549           NaN        NaN     Glen Eira City Council   -37.9314   \n",
       "\n",
       "      Longtitude             Regionname  Propertycount  \n",
       "228     145.0284  Northern Metropolitan         2211.0  \n",
       "481     145.0161  Southern Metropolitan         4836.0  \n",
       "845     144.9929  Southern Metropolitan         2952.0  \n",
       "1009    145.1016  Southern Metropolitan         5682.0  \n",
       "1549    145.0808  Southern Metropolitan        10969.0  "
      ]
     },
     "execution_count": 10,
     "metadata": {},
     "output_type": "execute_result"
    }
   ],
   "source": [
    "mhd[mhd.Bathroom ==0].head()"
   ]
  },
  {
   "cell_type": "markdown",
   "metadata": {},
   "source": [
    "Because a good number of properties that have zero bathrooms listed also have missing values for other characteristics, I will prepare two separate data sets, one with missing values dropped and one with imputed values in place of the missing values.  Because a building would not be a legal property without a bathroom, I will set all properties with zero bathrooms to one."
   ]
  },
  {
   "cell_type": "code",
   "execution_count": 11,
   "metadata": {},
   "outputs": [],
   "source": [
    "#setting all properties with zero bathrooms to one\n",
    "mhd.Bathroom = mhd.Bathroom.map(lambda x: x if x>0 else 1)"
   ]
  },
  {
   "cell_type": "markdown",
   "metadata": {},
   "source": [
    "Based on my prior knowledge of real estate pricing, a lot of weight is placed on square footage.  In this data set, the similar attribute is Building Area.  The zero values of Building Area, I will turn to None, which will be dropped or imputed in the data, depending on the method."
   ]
  },
  {
   "cell_type": "code",
   "execution_count": 12,
   "metadata": {
    "scrolled": true
   },
   "outputs": [
    {
     "data": {
      "text/html": [
       "<div>\n",
       "<style scoped>\n",
       "    .dataframe tbody tr th:only-of-type {\n",
       "        vertical-align: middle;\n",
       "    }\n",
       "\n",
       "    .dataframe tbody tr th {\n",
       "        vertical-align: top;\n",
       "    }\n",
       "\n",
       "    .dataframe thead th {\n",
       "        text-align: right;\n",
       "    }\n",
       "</style>\n",
       "<table border=\"1\" class=\"dataframe\">\n",
       "  <thead>\n",
       "    <tr style=\"text-align: right;\">\n",
       "      <th></th>\n",
       "      <th>count</th>\n",
       "      <th>mean</th>\n",
       "      <th>std</th>\n",
       "      <th>min</th>\n",
       "      <th>25%</th>\n",
       "      <th>50%</th>\n",
       "      <th>75%</th>\n",
       "      <th>max</th>\n",
       "    </tr>\n",
       "  </thead>\n",
       "  <tbody>\n",
       "    <tr>\n",
       "      <th>Rooms</th>\n",
       "      <td>34857.0</td>\n",
       "      <td>3.031012e+00</td>\n",
       "      <td>0.969933</td>\n",
       "      <td>1.00000</td>\n",
       "      <td>2.00000</td>\n",
       "      <td>3.0000</td>\n",
       "      <td>4.000000e+00</td>\n",
       "      <td>1.600000e+01</td>\n",
       "    </tr>\n",
       "    <tr>\n",
       "      <th>Price</th>\n",
       "      <td>27247.0</td>\n",
       "      <td>1.050173e+06</td>\n",
       "      <td>641467.130105</td>\n",
       "      <td>85000.00000</td>\n",
       "      <td>635000.00000</td>\n",
       "      <td>870000.0000</td>\n",
       "      <td>1.295000e+06</td>\n",
       "      <td>1.120000e+07</td>\n",
       "    </tr>\n",
       "    <tr>\n",
       "      <th>Distance</th>\n",
       "      <td>34856.0</td>\n",
       "      <td>1.118493e+01</td>\n",
       "      <td>6.788892</td>\n",
       "      <td>0.00000</td>\n",
       "      <td>6.40000</td>\n",
       "      <td>10.3000</td>\n",
       "      <td>1.400000e+01</td>\n",
       "      <td>4.810000e+01</td>\n",
       "    </tr>\n",
       "    <tr>\n",
       "      <th>Postcode</th>\n",
       "      <td>34856.0</td>\n",
       "      <td>3.116063e+03</td>\n",
       "      <td>109.023903</td>\n",
       "      <td>3000.00000</td>\n",
       "      <td>3051.00000</td>\n",
       "      <td>3103.0000</td>\n",
       "      <td>3.156000e+03</td>\n",
       "      <td>3.978000e+03</td>\n",
       "    </tr>\n",
       "    <tr>\n",
       "      <th>Bathroom</th>\n",
       "      <td>34857.0</td>\n",
       "      <td>1.478670e+00</td>\n",
       "      <td>0.684478</td>\n",
       "      <td>1.00000</td>\n",
       "      <td>1.00000</td>\n",
       "      <td>1.0000</td>\n",
       "      <td>2.000000e+00</td>\n",
       "      <td>1.200000e+01</td>\n",
       "    </tr>\n",
       "    <tr>\n",
       "      <th>Car</th>\n",
       "      <td>26129.0</td>\n",
       "      <td>1.728845e+00</td>\n",
       "      <td>1.010771</td>\n",
       "      <td>0.00000</td>\n",
       "      <td>1.00000</td>\n",
       "      <td>2.0000</td>\n",
       "      <td>2.000000e+00</td>\n",
       "      <td>2.600000e+01</td>\n",
       "    </tr>\n",
       "    <tr>\n",
       "      <th>Landsize</th>\n",
       "      <td>23047.0</td>\n",
       "      <td>5.935990e+02</td>\n",
       "      <td>3398.841946</td>\n",
       "      <td>0.00000</td>\n",
       "      <td>224.00000</td>\n",
       "      <td>521.0000</td>\n",
       "      <td>6.700000e+02</td>\n",
       "      <td>4.330140e+05</td>\n",
       "    </tr>\n",
       "    <tr>\n",
       "      <th>BuildingArea</th>\n",
       "      <td>13666.0</td>\n",
       "      <td>1.611476e+02</td>\n",
       "      <td>402.202853</td>\n",
       "      <td>0.01000</td>\n",
       "      <td>102.00000</td>\n",
       "      <td>136.0000</td>\n",
       "      <td>1.880000e+02</td>\n",
       "      <td>4.451500e+04</td>\n",
       "    </tr>\n",
       "    <tr>\n",
       "      <th>YearBuilt</th>\n",
       "      <td>15551.0</td>\n",
       "      <td>1.965290e+03</td>\n",
       "      <td>37.328178</td>\n",
       "      <td>1196.00000</td>\n",
       "      <td>1940.00000</td>\n",
       "      <td>1970.0000</td>\n",
       "      <td>2.000000e+03</td>\n",
       "      <td>2.106000e+03</td>\n",
       "    </tr>\n",
       "    <tr>\n",
       "      <th>Lattitude</th>\n",
       "      <td>26881.0</td>\n",
       "      <td>-3.781063e+01</td>\n",
       "      <td>0.090279</td>\n",
       "      <td>-38.19043</td>\n",
       "      <td>-37.86295</td>\n",
       "      <td>-37.8076</td>\n",
       "      <td>-3.775410e+01</td>\n",
       "      <td>-3.739020e+01</td>\n",
       "    </tr>\n",
       "    <tr>\n",
       "      <th>Longtitude</th>\n",
       "      <td>26881.0</td>\n",
       "      <td>1.450019e+02</td>\n",
       "      <td>0.120169</td>\n",
       "      <td>144.42379</td>\n",
       "      <td>144.93350</td>\n",
       "      <td>145.0078</td>\n",
       "      <td>1.450719e+02</td>\n",
       "      <td>1.455264e+02</td>\n",
       "    </tr>\n",
       "    <tr>\n",
       "      <th>Propertycount</th>\n",
       "      <td>34854.0</td>\n",
       "      <td>7.572888e+03</td>\n",
       "      <td>4428.090313</td>\n",
       "      <td>83.00000</td>\n",
       "      <td>4385.00000</td>\n",
       "      <td>6763.0000</td>\n",
       "      <td>1.041200e+04</td>\n",
       "      <td>2.165000e+04</td>\n",
       "    </tr>\n",
       "  </tbody>\n",
       "</table>\n",
       "</div>"
      ],
      "text/plain": [
       "                 count          mean            std          min  \\\n",
       "Rooms          34857.0  3.031012e+00       0.969933      1.00000   \n",
       "Price          27247.0  1.050173e+06  641467.130105  85000.00000   \n",
       "Distance       34856.0  1.118493e+01       6.788892      0.00000   \n",
       "Postcode       34856.0  3.116063e+03     109.023903   3000.00000   \n",
       "Bathroom       34857.0  1.478670e+00       0.684478      1.00000   \n",
       "Car            26129.0  1.728845e+00       1.010771      0.00000   \n",
       "Landsize       23047.0  5.935990e+02    3398.841946      0.00000   \n",
       "BuildingArea   13666.0  1.611476e+02     402.202853      0.01000   \n",
       "YearBuilt      15551.0  1.965290e+03      37.328178   1196.00000   \n",
       "Lattitude      26881.0 -3.781063e+01       0.090279    -38.19043   \n",
       "Longtitude     26881.0  1.450019e+02       0.120169    144.42379   \n",
       "Propertycount  34854.0  7.572888e+03    4428.090313     83.00000   \n",
       "\n",
       "                        25%          50%           75%           max  \n",
       "Rooms               2.00000       3.0000  4.000000e+00  1.600000e+01  \n",
       "Price          635000.00000  870000.0000  1.295000e+06  1.120000e+07  \n",
       "Distance            6.40000      10.3000  1.400000e+01  4.810000e+01  \n",
       "Postcode         3051.00000    3103.0000  3.156000e+03  3.978000e+03  \n",
       "Bathroom            1.00000       1.0000  2.000000e+00  1.200000e+01  \n",
       "Car                 1.00000       2.0000  2.000000e+00  2.600000e+01  \n",
       "Landsize          224.00000     521.0000  6.700000e+02  4.330140e+05  \n",
       "BuildingArea      102.00000     136.0000  1.880000e+02  4.451500e+04  \n",
       "YearBuilt        1940.00000    1970.0000  2.000000e+03  2.106000e+03  \n",
       "Lattitude         -37.86295     -37.8076 -3.775410e+01 -3.739020e+01  \n",
       "Longtitude        144.93350     145.0078  1.450719e+02  1.455264e+02  \n",
       "Propertycount    4385.00000    6763.0000  1.041200e+04  2.165000e+04  "
      ]
     },
     "execution_count": 12,
     "metadata": {},
     "output_type": "execute_result"
    }
   ],
   "source": [
    "#setting all properties with Building Area of zero to none and inspecting data\n",
    "mhd.BuildingArea = mhd.BuildingArea.map(lambda x: x if x>0 else None)\n",
    "mhd.describe().transpose()"
   ]
  },
  {
   "cell_type": "markdown",
   "metadata": {},
   "source": [
    "Based on some brief research, if the Land Size of a property is zero, it could be that the building backs up to the property line and there is no discernable land outside of the building structure.  For this reason, I will leave the Land Size category alone, and a value of zero is understandable.\n",
    "\n",
    "### Missing Values: Imputing Data\n",
    "I will use the Imputer funcation to impute the median of each category for missing values in the data set.  Using the median, the outliers don't impact the entire data set as much as if we'd used the mean.\n",
    "\n",
    "Before imputing data through sklearn, we need to make sure no categorical data is null because the imputer won't understand median for these values.  "
   ]
  },
  {
   "cell_type": "code",
   "execution_count": 13,
   "metadata": {},
   "outputs": [
    {
     "name": "stdout",
     "output_type": "stream",
     "text": [
      "Suburb         0\n",
      "Address        0\n",
      "Type           0\n",
      "Method         0\n",
      "SellerG        0\n",
      "Date           0\n",
      "Regionname     0\n",
      "CouncilArea    0\n",
      "dtype: int64\n",
      "\n",
      "Rooms                0\n",
      "Price             7610\n",
      "Distance             0\n",
      "Postcode             0\n",
      "Bathroom             0\n",
      "Car               8725\n",
      "Landsize         11807\n",
      "BuildingArea     21188\n",
      "YearBuilt        19303\n",
      "Lattitude         7973\n",
      "Longtitude        7973\n",
      "Propertycount        0\n",
      "dtype: int64\n"
     ]
    }
   ],
   "source": [
    "#removing rows with null values in categorical columns\n",
    "mhd_to_transf = mhd.dropna(axis=0,subset=['Regionname', 'CouncilArea', 'Propertycount'])\n",
    "\n",
    "#separating into categorical and continuous data\n",
    "mhd_cat = mhd_to_transf[['Suburb', 'Address', 'Type', 'Method', 'SellerG', \n",
    "                     'Date', 'Regionname', 'CouncilArea']]\n",
    "mhd_cont = mhd_to_transf.loc[:,~(mhd.columns.isin(mhd_cat.columns))]\n",
    "\n",
    "#inspecting for null values\n",
    "print(mhd_cat.isnull().sum())\n",
    "print()\n",
    "print(mhd_cont.isnull().sum())"
   ]
  },
  {
   "cell_type": "markdown",
   "metadata": {},
   "source": [
    "Now that the null categorical values have been removed, we can use the Imputer from sklearn to impute median values"
   ]
  },
  {
   "cell_type": "code",
   "execution_count": 14,
   "metadata": {},
   "outputs": [],
   "source": [
    "from sklearn.preprocessing import Imputer\n",
    "#fill missing values with median values\n",
    "imputer = Imputer(strategy='median')\n",
    "mhd_transformed = pd.DataFrame(imputer.fit_transform(mhd_cont), \n",
    "                               columns=[mhd_cont.columns])"
   ]
  },
  {
   "cell_type": "code",
   "execution_count": 15,
   "metadata": {
    "scrolled": true
   },
   "outputs": [
    {
     "data": {
      "text/html": [
       "<div>\n",
       "<style scoped>\n",
       "    .dataframe tbody tr th:only-of-type {\n",
       "        vertical-align: middle;\n",
       "    }\n",
       "\n",
       "    .dataframe tbody tr th {\n",
       "        vertical-align: top;\n",
       "    }\n",
       "\n",
       "    .dataframe thead th {\n",
       "        text-align: right;\n",
       "    }\n",
       "</style>\n",
       "<table border=\"1\" class=\"dataframe\">\n",
       "  <thead>\n",
       "    <tr style=\"text-align: right;\">\n",
       "      <th></th>\n",
       "      <th>count</th>\n",
       "      <th>mean</th>\n",
       "      <th>std</th>\n",
       "      <th>min</th>\n",
       "      <th>25%</th>\n",
       "      <th>50%</th>\n",
       "      <th>75%</th>\n",
       "      <th>max</th>\n",
       "    </tr>\n",
       "  </thead>\n",
       "  <tbody>\n",
       "    <tr>\n",
       "      <th>Rooms</th>\n",
       "      <td>34854.0</td>\n",
       "      <td>3.031072e+00</td>\n",
       "      <td>0.969943</td>\n",
       "      <td>1.00000</td>\n",
       "      <td>2.0000</td>\n",
       "      <td>3.0000</td>\n",
       "      <td>4.000000e+00</td>\n",
       "      <td>1.600000e+01</td>\n",
       "    </tr>\n",
       "    <tr>\n",
       "      <th>Price</th>\n",
       "      <td>34854.0</td>\n",
       "      <td>1.010863e+06</td>\n",
       "      <td>572016.721463</td>\n",
       "      <td>85000.00000</td>\n",
       "      <td>695000.0000</td>\n",
       "      <td>870000.0000</td>\n",
       "      <td>1.150000e+06</td>\n",
       "      <td>1.120000e+07</td>\n",
       "    </tr>\n",
       "    <tr>\n",
       "      <th>Distance</th>\n",
       "      <td>34854.0</td>\n",
       "      <td>1.118520e+01</td>\n",
       "      <td>6.788983</td>\n",
       "      <td>0.00000</td>\n",
       "      <td>6.4000</td>\n",
       "      <td>10.3000</td>\n",
       "      <td>1.400000e+01</td>\n",
       "      <td>4.810000e+01</td>\n",
       "    </tr>\n",
       "    <tr>\n",
       "      <th>Postcode</th>\n",
       "      <td>34854.0</td>\n",
       "      <td>3.116066e+03</td>\n",
       "      <td>109.025570</td>\n",
       "      <td>3000.00000</td>\n",
       "      <td>3051.0000</td>\n",
       "      <td>3103.0000</td>\n",
       "      <td>3.156000e+03</td>\n",
       "      <td>3.978000e+03</td>\n",
       "    </tr>\n",
       "    <tr>\n",
       "      <th>Bathroom</th>\n",
       "      <td>34854.0</td>\n",
       "      <td>1.478711e+00</td>\n",
       "      <td>0.684493</td>\n",
       "      <td>1.00000</td>\n",
       "      <td>1.0000</td>\n",
       "      <td>1.0000</td>\n",
       "      <td>2.000000e+00</td>\n",
       "      <td>1.200000e+01</td>\n",
       "    </tr>\n",
       "    <tr>\n",
       "      <th>Car</th>\n",
       "      <td>34854.0</td>\n",
       "      <td>1.796723e+00</td>\n",
       "      <td>0.883005</td>\n",
       "      <td>0.00000</td>\n",
       "      <td>1.0000</td>\n",
       "      <td>2.0000</td>\n",
       "      <td>2.000000e+00</td>\n",
       "      <td>2.600000e+01</td>\n",
       "    </tr>\n",
       "    <tr>\n",
       "      <th>Landsize</th>\n",
       "      <td>34854.0</td>\n",
       "      <td>5.690057e+02</td>\n",
       "      <td>2764.026645</td>\n",
       "      <td>0.00000</td>\n",
       "      <td>357.0000</td>\n",
       "      <td>521.0000</td>\n",
       "      <td>5.980000e+02</td>\n",
       "      <td>4.330140e+05</td>\n",
       "    </tr>\n",
       "    <tr>\n",
       "      <th>BuildingArea</th>\n",
       "      <td>34854.0</td>\n",
       "      <td>1.458602e+02</td>\n",
       "      <td>252.142098</td>\n",
       "      <td>0.01000</td>\n",
       "      <td>136.0000</td>\n",
       "      <td>136.0000</td>\n",
       "      <td>1.360000e+02</td>\n",
       "      <td>4.451500e+04</td>\n",
       "    </tr>\n",
       "    <tr>\n",
       "      <th>YearBuilt</th>\n",
       "      <td>34854.0</td>\n",
       "      <td>1.967898e+03</td>\n",
       "      <td>25.043118</td>\n",
       "      <td>1196.00000</td>\n",
       "      <td>1970.0000</td>\n",
       "      <td>1970.0000</td>\n",
       "      <td>1.970000e+03</td>\n",
       "      <td>2.106000e+03</td>\n",
       "    </tr>\n",
       "    <tr>\n",
       "      <th>Lattitude</th>\n",
       "      <td>34854.0</td>\n",
       "      <td>-3.780994e+01</td>\n",
       "      <td>0.079293</td>\n",
       "      <td>-38.19043</td>\n",
       "      <td>-37.8469</td>\n",
       "      <td>-37.8076</td>\n",
       "      <td>-3.777089e+01</td>\n",
       "      <td>-3.739020e+01</td>\n",
       "    </tr>\n",
       "    <tr>\n",
       "      <th>Longtitude</th>\n",
       "      <td>34854.0</td>\n",
       "      <td>1.450032e+02</td>\n",
       "      <td>0.105562</td>\n",
       "      <td>144.42379</td>\n",
       "      <td>144.9644</td>\n",
       "      <td>145.0078</td>\n",
       "      <td>1.450517e+02</td>\n",
       "      <td>1.455264e+02</td>\n",
       "    </tr>\n",
       "    <tr>\n",
       "      <th>Propertycount</th>\n",
       "      <td>34854.0</td>\n",
       "      <td>7.572888e+03</td>\n",
       "      <td>4428.090313</td>\n",
       "      <td>83.00000</td>\n",
       "      <td>4385.0000</td>\n",
       "      <td>6763.0000</td>\n",
       "      <td>1.041200e+04</td>\n",
       "      <td>2.165000e+04</td>\n",
       "    </tr>\n",
       "  </tbody>\n",
       "</table>\n",
       "</div>"
      ],
      "text/plain": [
       "                 count          mean            std          min          25%  \\\n",
       "Rooms          34854.0  3.031072e+00       0.969943      1.00000       2.0000   \n",
       "Price          34854.0  1.010863e+06  572016.721463  85000.00000  695000.0000   \n",
       "Distance       34854.0  1.118520e+01       6.788983      0.00000       6.4000   \n",
       "Postcode       34854.0  3.116066e+03     109.025570   3000.00000    3051.0000   \n",
       "Bathroom       34854.0  1.478711e+00       0.684493      1.00000       1.0000   \n",
       "Car            34854.0  1.796723e+00       0.883005      0.00000       1.0000   \n",
       "Landsize       34854.0  5.690057e+02    2764.026645      0.00000     357.0000   \n",
       "BuildingArea   34854.0  1.458602e+02     252.142098      0.01000     136.0000   \n",
       "YearBuilt      34854.0  1.967898e+03      25.043118   1196.00000    1970.0000   \n",
       "Lattitude      34854.0 -3.780994e+01       0.079293    -38.19043     -37.8469   \n",
       "Longtitude     34854.0  1.450032e+02       0.105562    144.42379     144.9644   \n",
       "Propertycount  34854.0  7.572888e+03    4428.090313     83.00000    4385.0000   \n",
       "\n",
       "                       50%           75%           max  \n",
       "Rooms               3.0000  4.000000e+00  1.600000e+01  \n",
       "Price          870000.0000  1.150000e+06  1.120000e+07  \n",
       "Distance           10.3000  1.400000e+01  4.810000e+01  \n",
       "Postcode         3103.0000  3.156000e+03  3.978000e+03  \n",
       "Bathroom            1.0000  2.000000e+00  1.200000e+01  \n",
       "Car                 2.0000  2.000000e+00  2.600000e+01  \n",
       "Landsize          521.0000  5.980000e+02  4.330140e+05  \n",
       "BuildingArea      136.0000  1.360000e+02  4.451500e+04  \n",
       "YearBuilt        1970.0000  1.970000e+03  2.106000e+03  \n",
       "Lattitude         -37.8076 -3.777089e+01 -3.739020e+01  \n",
       "Longtitude        145.0078  1.450517e+02  1.455264e+02  \n",
       "Propertycount    6763.0000  1.041200e+04  2.165000e+04  "
      ]
     },
     "execution_count": 15,
     "metadata": {},
     "output_type": "execute_result"
    }
   ],
   "source": [
    "#inspecting that all values are non-null\n",
    "mhd_transformed.describe().transpose()"
   ]
  },
  {
   "cell_type": "markdown",
   "metadata": {},
   "source": [
    "Now all counts of values are equal, meaning there are the same numbers of values in each column.  Next, we will add back in all of the categorical data to then create and train models. "
   ]
  },
  {
   "cell_type": "code",
   "execution_count": 16,
   "metadata": {},
   "outputs": [
    {
     "name": "stdout",
     "output_type": "stream",
     "text": [
      "Index([        ('Rooms',),         ('Price',),      ('Distance',),\n",
      "            ('Postcode',),      ('Bathroom',),           ('Car',),\n",
      "            ('Landsize',),  ('BuildingArea',),     ('YearBuilt',),\n",
      "           ('Lattitude',),    ('Longtitude',), ('Propertycount',),\n",
      "                 'Suburb',          'Address',             'Type',\n",
      "                 'Method',          'SellerG',             'Date',\n",
      "             'Regionname',      'CouncilArea'],\n",
      "      dtype='object')\n"
     ]
    },
    {
     "data": {
      "text/html": [
       "<div>\n",
       "<style scoped>\n",
       "    .dataframe tbody tr th:only-of-type {\n",
       "        vertical-align: middle;\n",
       "    }\n",
       "\n",
       "    .dataframe tbody tr th {\n",
       "        vertical-align: top;\n",
       "    }\n",
       "\n",
       "    .dataframe thead th {\n",
       "        text-align: right;\n",
       "    }\n",
       "</style>\n",
       "<table border=\"1\" class=\"dataframe\">\n",
       "  <thead>\n",
       "    <tr style=\"text-align: right;\">\n",
       "      <th></th>\n",
       "      <th>Rooms</th>\n",
       "      <th>Price</th>\n",
       "      <th>Distance</th>\n",
       "      <th>Postcode</th>\n",
       "      <th>Bathroom</th>\n",
       "      <th>Car</th>\n",
       "      <th>Landsize</th>\n",
       "      <th>BuildingArea</th>\n",
       "      <th>YearBuilt</th>\n",
       "      <th>Latitude</th>\n",
       "      <th>Longitude</th>\n",
       "      <th>Propertycount</th>\n",
       "      <th>Suburb</th>\n",
       "      <th>Address</th>\n",
       "      <th>Type</th>\n",
       "      <th>Method</th>\n",
       "      <th>SellerG</th>\n",
       "      <th>Date</th>\n",
       "      <th>Regionname</th>\n",
       "      <th>CouncilArea</th>\n",
       "    </tr>\n",
       "  </thead>\n",
       "  <tbody>\n",
       "    <tr>\n",
       "      <th>0</th>\n",
       "      <td>2.0</td>\n",
       "      <td>870000.0</td>\n",
       "      <td>2.5</td>\n",
       "      <td>3067.0</td>\n",
       "      <td>1.0</td>\n",
       "      <td>1.0</td>\n",
       "      <td>126.0</td>\n",
       "      <td>136.0</td>\n",
       "      <td>1970.0</td>\n",
       "      <td>-37.8014</td>\n",
       "      <td>144.9958</td>\n",
       "      <td>4019.0</td>\n",
       "      <td>Abbotsford</td>\n",
       "      <td>68 Studley St</td>\n",
       "      <td>h</td>\n",
       "      <td>SS</td>\n",
       "      <td>Jellis</td>\n",
       "      <td>2016-03-09</td>\n",
       "      <td>Northern Metropolitan</td>\n",
       "      <td>Yarra City Council</td>\n",
       "    </tr>\n",
       "    <tr>\n",
       "      <th>1</th>\n",
       "      <td>2.0</td>\n",
       "      <td>1480000.0</td>\n",
       "      <td>2.5</td>\n",
       "      <td>3067.0</td>\n",
       "      <td>1.0</td>\n",
       "      <td>1.0</td>\n",
       "      <td>202.0</td>\n",
       "      <td>136.0</td>\n",
       "      <td>1970.0</td>\n",
       "      <td>-37.7996</td>\n",
       "      <td>144.9984</td>\n",
       "      <td>4019.0</td>\n",
       "      <td>Abbotsford</td>\n",
       "      <td>85 Turner St</td>\n",
       "      <td>h</td>\n",
       "      <td>S</td>\n",
       "      <td>Biggin</td>\n",
       "      <td>2016-03-12</td>\n",
       "      <td>Northern Metropolitan</td>\n",
       "      <td>Yarra City Council</td>\n",
       "    </tr>\n",
       "    <tr>\n",
       "      <th>2</th>\n",
       "      <td>2.0</td>\n",
       "      <td>1035000.0</td>\n",
       "      <td>2.5</td>\n",
       "      <td>3067.0</td>\n",
       "      <td>1.0</td>\n",
       "      <td>0.0</td>\n",
       "      <td>156.0</td>\n",
       "      <td>79.0</td>\n",
       "      <td>1900.0</td>\n",
       "      <td>-37.8079</td>\n",
       "      <td>144.9934</td>\n",
       "      <td>4019.0</td>\n",
       "      <td>Abbotsford</td>\n",
       "      <td>25 Bloomburg St</td>\n",
       "      <td>h</td>\n",
       "      <td>S</td>\n",
       "      <td>Biggin</td>\n",
       "      <td>2016-04-02</td>\n",
       "      <td>Northern Metropolitan</td>\n",
       "      <td>Yarra City Council</td>\n",
       "    </tr>\n",
       "    <tr>\n",
       "      <th>3</th>\n",
       "      <td>3.0</td>\n",
       "      <td>870000.0</td>\n",
       "      <td>2.5</td>\n",
       "      <td>3067.0</td>\n",
       "      <td>2.0</td>\n",
       "      <td>1.0</td>\n",
       "      <td>0.0</td>\n",
       "      <td>136.0</td>\n",
       "      <td>1970.0</td>\n",
       "      <td>-37.8114</td>\n",
       "      <td>145.0116</td>\n",
       "      <td>4019.0</td>\n",
       "      <td>Abbotsford</td>\n",
       "      <td>18/659 Victoria St</td>\n",
       "      <td>u</td>\n",
       "      <td>VB</td>\n",
       "      <td>Rounds</td>\n",
       "      <td>2016-04-02</td>\n",
       "      <td>Northern Metropolitan</td>\n",
       "      <td>Yarra City Council</td>\n",
       "    </tr>\n",
       "    <tr>\n",
       "      <th>4</th>\n",
       "      <td>3.0</td>\n",
       "      <td>1465000.0</td>\n",
       "      <td>2.5</td>\n",
       "      <td>3067.0</td>\n",
       "      <td>2.0</td>\n",
       "      <td>0.0</td>\n",
       "      <td>134.0</td>\n",
       "      <td>150.0</td>\n",
       "      <td>1900.0</td>\n",
       "      <td>-37.8093</td>\n",
       "      <td>144.9944</td>\n",
       "      <td>4019.0</td>\n",
       "      <td>Abbotsford</td>\n",
       "      <td>5 Charles St</td>\n",
       "      <td>h</td>\n",
       "      <td>SP</td>\n",
       "      <td>Biggin</td>\n",
       "      <td>2017-04-03</td>\n",
       "      <td>Northern Metropolitan</td>\n",
       "      <td>Yarra City Council</td>\n",
       "    </tr>\n",
       "  </tbody>\n",
       "</table>\n",
       "</div>"
      ],
      "text/plain": [
       "   Rooms      Price  Distance  Postcode  Bathroom  Car  Landsize  \\\n",
       "0    2.0   870000.0       2.5    3067.0       1.0  1.0     126.0   \n",
       "1    2.0  1480000.0       2.5    3067.0       1.0  1.0     202.0   \n",
       "2    2.0  1035000.0       2.5    3067.0       1.0  0.0     156.0   \n",
       "3    3.0   870000.0       2.5    3067.0       2.0  1.0       0.0   \n",
       "4    3.0  1465000.0       2.5    3067.0       2.0  0.0     134.0   \n",
       "\n",
       "   BuildingArea  YearBuilt  Latitude  Longitude  Propertycount      Suburb  \\\n",
       "0         136.0     1970.0  -37.8014   144.9958         4019.0  Abbotsford   \n",
       "1         136.0     1970.0  -37.7996   144.9984         4019.0  Abbotsford   \n",
       "2          79.0     1900.0  -37.8079   144.9934         4019.0  Abbotsford   \n",
       "3         136.0     1970.0  -37.8114   145.0116         4019.0  Abbotsford   \n",
       "4         150.0     1900.0  -37.8093   144.9944         4019.0  Abbotsford   \n",
       "\n",
       "              Address Type Method SellerG       Date             Regionname  \\\n",
       "0       68 Studley St    h     SS  Jellis 2016-03-09  Northern Metropolitan   \n",
       "1        85 Turner St    h      S  Biggin 2016-03-12  Northern Metropolitan   \n",
       "2     25 Bloomburg St    h      S  Biggin 2016-04-02  Northern Metropolitan   \n",
       "3  18/659 Victoria St    u     VB  Rounds 2016-04-02  Northern Metropolitan   \n",
       "4        5 Charles St    h     SP  Biggin 2017-04-03  Northern Metropolitan   \n",
       "\n",
       "          CouncilArea  \n",
       "0  Yarra City Council  \n",
       "1  Yarra City Council  \n",
       "2  Yarra City Council  \n",
       "3  Yarra City Council  \n",
       "4  Yarra City Council  "
      ]
     },
     "execution_count": 16,
     "metadata": {},
     "output_type": "execute_result"
    }
   ],
   "source": [
    "#list of data frames to concatenate and then combine\n",
    "dfs = [mhd_transformed, mhd_cat]\n",
    "mhd_t = pd.concat(dfs, axis=1)\n",
    "print(mhd_t.columns)\n",
    "#renaming columns back to their original names and inspecting the data frame.\n",
    "mhd_t.columns=(['Rooms', 'Price','Distance','Postcode','Bathroom','Car',\n",
    "                'Landsize','BuildingArea','YearBuilt','Latitude',\n",
    "                'Longitude','Propertycount','Suburb','Address','Type',\n",
    "               'Method','SellerG','Date','Regionname','CouncilArea'])\n",
    "mhd_t.head()"
   ]
  },
  {
   "cell_type": "markdown",
   "metadata": {},
   "source": [
    "Now that the data set has been cleaned and imputed, we can explore the data to identify features.\n",
    "\n",
    "## Exploring the Data\n",
    "Exploring the distribution of property prices"
   ]
  },
  {
   "cell_type": "code",
   "execution_count": 17,
   "metadata": {},
   "outputs": [
    {
     "data": {
      "image/png": "[encoded data removed]",
      "text/plain": [
       "<matplotlib.figure.Figure at 0x114031c50>"
      ]
     },
     "metadata": {},
     "output_type": "display_data"
    }
   ],
   "source": [
    "#plotting the distribution of prices of homes\n",
    "sns.distplot(mhd_t['Price'].dropna(), kde=False)\n",
    "plt.title('Distribution of Price of Melbourne Homes')\n",
    "plt.show()"
   ]
  },
  {
   "cell_type": "markdown",
   "metadata": {},
   "source": [
    "The price of properties is skewed right, with the center just below $1,000,000.  Let's inspect the distribution of price amongst the categorical variables, Type, Method, and Region Name.  We will not inspect Suburb, or Address, as the Region Name is a more generalized description of the two.  We will also not inspect the Real Estate Seller information."
   ]
  },
  {
   "cell_type": "code",
   "execution_count": 18,
   "metadata": {
    "scrolled": true
   },
   "outputs": [
    {
     "data": {
      "image/png": "[encoded data removed]",
      "text/plain": [
       "<matplotlib.figure.Figure at 0x11718e668>"
      ]
     },
     "metadata": {},
     "output_type": "display_data"
    },
    {
     "data": {
      "image/png": "[encoded data removed]",
      "text/plain": [
       "<matplotlib.figure.Figure at 0x117160dd8>"
      ]
     },
     "metadata": {},
     "output_type": "display_data"
    }
   ],
   "source": [
    "#boxplots of price versus categorical data \n",
    "plt.figure(figsize=(10,5))\n",
    "\n",
    "plt.subplot(1,2,1)\n",
    "sns.boxplot(x='Type', y='Price', data=mhd_t)\n",
    "plt.title('Price vs Type')\n",
    "\n",
    "plt.subplot(1,2,2)\n",
    "sns.boxplot(x='Method', y='Price', data=mhd_t)\n",
    "plt.title('Price vs Method')\n",
    "plt.show()\n",
    "\n",
    "plt.figure(figsize=(10,5))\n",
    "sns.boxplot(x='Regionname', y='Price', data=mhd_t)\n",
    "plt.title('Price vs Region Name')\n",
    "plt.xticks(rotation=30)\n",
    "plt.show()"
   ]
  },
  {
   "cell_type": "markdown",
   "metadata": {},
   "source": [
    "Prices of homes are greater than that of townhomes, and both of which sold at a higher price than condo units. Homes sold at a median price of just over \\$1 million, townhomes around \\$800 thousand, and condo units around $700 thousand. \n",
    "\n",
    "The highest price is gained when a property is sold, not passed in or vendor bid. \n",
    "\n",
    "The region that had the highest sales price was the Southern Metropolitan region, followed by the Eastern Metropolitan region and the South-Eastern Meetropolitan Region.  The lowest sales price occurred in the Western Victoria Region."
   ]
  },
  {
   "cell_type": "code",
   "execution_count": 19,
   "metadata": {},
   "outputs": [
    {
     "name": "stdout",
     "output_type": "stream",
     "text": [
      "Index(['Rooms', 'Price', 'Distance', 'Postcode', 'Bathroom', 'Car', 'Landsize',\n",
      "       'BuildingArea', 'YearBuilt', 'Lattitude', 'Longtitude',\n",
      "       'Propertycount'],\n",
      "      dtype='object')\n"
     ]
    }
   ],
   "source": [
    "print(mhd_cont.columns)"
   ]
  },
  {
   "cell_type": "code",
   "execution_count": 20,
   "metadata": {},
   "outputs": [
    {
     "data": {
      "image/png": "[encoded data removed]",
      "text/plain": [
       "<matplotlib.figure.Figure at 0x1108efb00>"
      ]
     },
     "metadata": {},
     "output_type": "display_data"
    }
   ],
   "source": [
    "plt.figure(figsize=(15,10))\n",
    "i=1\n",
    "\n",
    "for col in mhd_cont.columns.drop('Price'):\n",
    "    plt.subplot(3,4,i)\n",
    "    plt.scatter(x=mhd_cont[col], y=mhd_cont['Price'])\n",
    "    plt.xlabel(col)\n",
    "    plt.ylabel('Price')\n",
    "    plt.title('Price versus {}'.format(col))\n",
    "    i+=1\n",
    "\n",
    "plt.tight_layout()\n",
    "plt.show()"
   ]
  },
  {
   "cell_type": "markdown",
   "metadata": {},
   "source": [
    "Most of the values are skewed to the right, with the exception of longitude and latitude, which are more normally distributed.\n",
    "\n",
    "There are outliers in Landsize, Building area, and Year Built.  It is challenging to make any more statements about the data because of this skewed plot.\n",
    "\n",
    "The highest priced properties have around 4 rooms, are close to the city center, have around 3 bathrooms, space for 2 cars to park, and a moderate number of properties in the district. \n",
    "\n",
    "It will help to observe the correlation between values.  We can do this through a heat map of the person correlation constants."
   ]
  },
  {
   "cell_type": "code",
   "execution_count": 21,
   "metadata": {
    "scrolled": false
   },
   "outputs": [
    {
     "data": {
      "image/png": "[encoded data removed]",
      "text/plain": [
       "<matplotlib.figure.Figure at 0x113ec5f98>"
      ]
     },
     "metadata": {},
     "output_type": "display_data"
    }
   ],
   "source": [
    "#making and plotting heatmap\n",
    "corrmat = mhd_t.corr()\n",
    "sns.heatmap(corrmat)\n",
    "plt.show()"
   ]
  },
  {
   "cell_type": "markdown",
   "metadata": {},
   "source": [
    "The price of the sale is related to number of rooms, bathrooms, parking, and longitude.  We will make those features to fit with models. \n",
    "\n",
    "With the exception of price, most of the categories are not hightly correlated to one another with the exception of number of bathrooms and number of rooms, and slightly longitude and postcode.  Interestingly enough, postcode is not related to latitide. For this reason, I will drop latitude, and since longitude is more highly correlated with price, I will keep longitude and drop price. \n",
    "\n",
    "I will also engineer a new feature that represents the number of rooms per bathroom to capture the relationship between the two, but making them less correlated."
   ]
  },
  {
   "cell_type": "markdown",
   "metadata": {},
   "source": [
    "### Feature Engineering - Imputed Data\n",
    "\n",
    "In addition to features mentioned above, some other features that might be important to model the price of the home would be if the home is historic or not."
   ]
  },
  {
   "cell_type": "code",
   "execution_count": 22,
   "metadata": {},
   "outputs": [
    {
     "name": "stderr",
     "output_type": "stream",
     "text": [
      "/Library/Frameworks/Python.framework/Versions/3.6/lib/python3.6/site-packages/ipykernel_launcher.py:5: SettingWithCopyWarning: \n",
      "A value is trying to be set on a copy of a slice from a DataFrame.\n",
      "Try using .loc[row_indexer,col_indexer] = value instead\n",
      "\n",
      "See the caveats in the documentation: http://pandas.pydata.org/pandas-docs/stable/indexing.html#indexing-view-versus-copy\n",
      "  \"\"\"\n",
      "/Library/Frameworks/Python.framework/Versions/3.6/lib/python3.6/site-packages/ipykernel_launcher.py:8: SettingWithCopyWarning: \n",
      "A value is trying to be set on a copy of a slice from a DataFrame.\n",
      "Try using .loc[row_indexer,col_indexer] = value instead\n",
      "\n",
      "See the caveats in the documentation: http://pandas.pydata.org/pandas-docs/stable/indexing.html#indexing-view-versus-copy\n",
      "  \n"
     ]
    }
   ],
   "source": [
    "#creating features dataframe with price, rooms, parking, longitude, distance, and landsize\n",
    "features_i = mhd_t[['Price', 'Rooms', 'Car', 'Longitude', 'Distance', 'Landsize', 'BuildingArea', 'YearBuilt']]\n",
    "\n",
    "#creating rooms per bathroom feature\n",
    "features_i['Rooms_per_bathroom'] = mhd_t['Rooms'] / mhd_t['Bathroom']\n",
    "\n",
    "#creating historic homes feature\n",
    "features_i['Historic'] = np.where(mhd_t['YearBuilt'] < (2017-50), 1,0)\n",
    "\n",
    "features_i = features_i.dropna()"
   ]
  },
  {
   "cell_type": "markdown",
   "metadata": {},
   "source": [
    "## Linear Regression Model - Imputed Data\n",
    "I will use a linear regression model to predict the price of homes.  I'll start by identifying variable and splitting into train and test sets."
   ]
  },
  {
   "cell_type": "code",
   "execution_count": 23,
   "metadata": {},
   "outputs": [],
   "source": [
    "#identify variables\n",
    "Xi = features_i.drop('Price', axis=1)\n",
    "Yi = features_i['Price']\n",
    "\n",
    "#split into train and test sets\n",
    "Xi_train, Xi_test, Yi_train, Yi_test = train_test_split(Xi, Yi, test_size=0.2)"
   ]
  },
  {
   "cell_type": "code",
   "execution_count": 24,
   "metadata": {},
   "outputs": [
    {
     "name": "stdout",
     "output_type": "stream",
     "text": [
      "Coefficients: [ 2.76975361e+05  4.24765202e+04  8.10143725e+05 -2.58282961e+04\n",
      "  4.71782300e+00  4.96378253e+01 -3.63885537e+03 -6.68886083e+04\n",
      " -2.96954895e+04]\n",
      "Intercept: -109780901.78041416\n"
     ]
    },
    {
     "name": "stderr",
     "output_type": "stream",
     "text": [
      "/Library/Frameworks/Python.framework/Versions/3.6/lib/python3.6/site-packages/scipy/linalg/basic.py:1226: RuntimeWarning: internal gelsd driver lwork query error, required iwork dimension not returned. This is likely the result of LAPACK bug 0038, fixed in LAPACK 3.2.2 (released July 21, 2010). Falling back to 'gelss' driver.\n",
      "  warnings.warn(mesg, RuntimeWarning)\n"
     ]
    }
   ],
   "source": [
    "from sklearn.linear_model import LinearRegression\n",
    "\n",
    "linreg = LinearRegression()\n",
    "linreg.fit(Xi_train, Yi_train)\n",
    "print('Coefficients:', linreg.coef_)\n",
    "print('Intercept:', linreg.intercept_)"
   ]
  },
  {
   "cell_type": "code",
   "execution_count": 25,
   "metadata": {},
   "outputs": [
    {
     "name": "stdout",
     "output_type": "stream",
     "text": [
      "R-squared: 0.29310924569985763\n",
      "[0.30740864 0.27214461 0.22114485]\n"
     ]
    }
   ],
   "source": [
    "print('R-squared:', linreg.score(Xi_train, Yi_train))\n",
    "print(cross_val_score(linreg, Xi_train, Yi_train))"
   ]
  },
  {
   "cell_type": "markdown",
   "metadata": {},
   "source": [
    "This is a pretty terrible R-squared value for the regression.  This model only explains variation in 29% of the data. After cross validation it appears that there is something odd occurring in the middle fold where the accuracy of the model drops to 17%. Let's try the test set to see how well this model predicts for that set."
   ]
  },
  {
   "cell_type": "code",
   "execution_count": 26,
   "metadata": {},
   "outputs": [
    {
     "name": "stdout",
     "output_type": "stream",
     "text": [
      "R-squared for Test Set: 0.3034836919495133\n"
     ]
    }
   ],
   "source": [
    "print('R-squared for Test Set:', linreg.score(Xi_test, Yi_test))"
   ]
  },
  {
   "cell_type": "markdown",
   "metadata": {},
   "source": [
    "The R-squared for the test set is much lower than that of the training set, at 17%, which is unfortunate. \n",
    "\n",
    "Let's try ridge regression to see if we can minimize the cost function for this model and increase the R-squared score.\n",
    "\n",
    "### Ridge Regression - Imputed Data"
   ]
  },
  {
   "cell_type": "code",
   "execution_count": 27,
   "metadata": {},
   "outputs": [
    {
     "name": "stdout",
     "output_type": "stream",
     "text": [
      "Score: 0.2820561668044401\n",
      "Alpha: 5000.0\n",
      "Coefficients: [ 211254.80548163   39570.91163063   71728.25481662 -137888.9549984\n",
      "   11802.24758923   14929.18590165  -66878.81948677  -32995.40599663\n",
      "   11945.17771063]\n",
      "Intercept: 1010784.6992432734\n"
     ]
    }
   ],
   "source": [
    "from sklearn.linear_model import RidgeCV\n",
    "from sklearn.preprocessing import scale\n",
    "\n",
    "Xis_train = scale(Xi_train)\n",
    "\n",
    "rcv = RidgeCV(alphas=[0.1,1,10,100,500,1000,5000, 10000], fit_intercept=True)\n",
    "rcv.fit(Xis_train, Yi_train)\n",
    "print('Score:', rcv.score(Xis_train, Yi_train))\n",
    "print('Alpha:', rcv.alpha_)\n",
    "\n",
    "print('Coefficients:', rcv.coef_)\n",
    "print('Intercept:', rcv.intercept_)\n"
   ]
  },
  {
   "cell_type": "markdown",
   "metadata": {},
   "source": [
    "When the intercept is fit for this model, the R-squared score indicates that the model is able to predict the variance in 28% of the data. This is near the same R-squared value for linear regression.  Lets see how the model is able to predict outcomes for the test set. "
   ]
  },
  {
   "cell_type": "code",
   "execution_count": 28,
   "metadata": {},
   "outputs": [
    {
     "name": "stdout",
     "output_type": "stream",
     "text": [
      "Ridge R-squared Score for Test Set: 0.29582002115261496\n"
     ]
    }
   ],
   "source": [
    "Xis_test = scale(Xi_test)\n",
    "print('Ridge R-squared Score for Test Set:', rcv.score(Xis_test, Yi_test))"
   ]
  },
  {
   "cell_type": "markdown",
   "metadata": {},
   "source": [
    "This R-squared is again not as high as that of the linear model, so this is clearly not the best model to predict housing prices. \n",
    "\n",
    "Let's move on to use Random Forest to predict the sale price of the properties.\n",
    "\n",
    "## Random Forest - Imputed Data"
   ]
  },
  {
   "cell_type": "code",
   "execution_count": 29,
   "metadata": {},
   "outputs": [
    {
     "name": "stdout",
     "output_type": "stream",
     "text": [
      "0.8359251743794025\n",
      "[0.39752035 0.39295606 0.39757766]\n"
     ]
    }
   ],
   "source": [
    "from sklearn.ensemble import RandomForestRegressor\n",
    "\n",
    "rfr = RandomForestRegressor(n_estimators=100)\n",
    "rfr.fit(Xi_train, Yi_train)\n",
    "print(rfr.score(Xi_train, Yi_train))\n",
    "print(cross_val_score(rfr, Xi_train, Yi_train))"
   ]
  },
  {
   "cell_type": "markdown",
   "metadata": {},
   "source": [
    "This model performed significantly better than the other models, and is able to predict the variance of 83% of the data.  Unfortunately, after cross validation it is clear that the model only explains 38% of the data.  Let's run a GridSearchCV to optimize parameters, such as the number of estimators, the max features algorithms used, and minimum number of samples to split, and whether or not bootstraps are used."
   ]
  },
  {
   "cell_type": "code",
   "execution_count": 30,
   "metadata": {
    "scrolled": false
   },
   "outputs": [
    {
     "name": "stdout",
     "output_type": "stream",
     "text": [
      "0.4301987118530604\n",
      "{'bootstrap': True, 'max_features': 'log2', 'min_samples_split': 20, 'n_estimators': 1000}\n",
      "Model Fit Time: 7921.562784194946\n"
     ]
    }
   ],
   "source": [
    "from sklearn.model_selection import GridSearchCV\n",
    "import time\n",
    "\n",
    "parameters = {'n_estimators':[10,100,1000],\n",
    "             'max_features':['auto', 'sqrt','log2'],\n",
    "             'min_samples_split':[2,8,20],\n",
    "             'bootstrap':[True, False]}\n",
    "t0 = time.time()\n",
    "grid_rfr = GridSearchCV(estimator=rfr, param_grid=parameters)\n",
    "grid_rfr.fit(Xi_train, Yi_train)\n",
    "print(grid_rfr.best_score_)\n",
    "print(grid_rfr.best_params_)\n",
    "t1 = time.time()\n",
    "print('Model Fit Time:', t1-t0)"
   ]
  },
  {
   "cell_type": "markdown",
   "metadata": {},
   "source": [
    "The best parameters provided an R-squared score of 0.43, which is the higher than that of the cross validation score from the random forest with default values."
   ]
  },
  {
   "cell_type": "markdown",
   "metadata": {},
   "source": [
    "Now, let's see how well the model predicts the variance of the test set.  First we will instantiate another model using the best parameters from GridSearchCV."
   ]
  },
  {
   "cell_type": "code",
   "execution_count": 44,
   "metadata": {},
   "outputs": [
    {
     "data": {
      "text/plain": [
       "RandomForestRegressor(bootstrap=True, criterion='mse', max_depth=None,\n",
       "           max_features='log2', max_leaf_nodes=None,\n",
       "           min_impurity_decrease=0.0, min_impurity_split=None,\n",
       "           min_samples_leaf=1, min_samples_split=20,\n",
       "           min_weight_fraction_leaf=0.0, n_estimators=1000, n_jobs=1,\n",
       "           oob_score=False, random_state=None, verbose=0, warm_start=False)"
      ]
     },
     "execution_count": 44,
     "metadata": {},
     "output_type": "execute_result"
    }
   ],
   "source": [
    "#instantiate and fit model with best parameters from GridSearchCV\n",
    "best_params = grid_rfr.best_params_\n",
    "rfr2 = RandomForestRegressor(**best_params)\n",
    "rfr2.fit(Xi_train, Yi_train)"
   ]
  },
  {
   "cell_type": "code",
   "execution_count": 43,
   "metadata": {},
   "outputs": [
    {
     "name": "stdout",
     "output_type": "stream",
     "text": [
      "R-squared Training Set: [0.4386868  0.41591596 0.43745711]\n",
      "R-squared Test Set: [0.36319468 0.38905839 0.38670834]\n"
     ]
    }
   ],
   "source": [
    "print('R-squared Training Set:', cross_val_score(rfr2, Xi_train, Yi_train))\n",
    "print('R-squared Test Set:',cross_val_score(rfr2, Xi_test, Yi_test))"
   ]
  },
  {
   "cell_type": "code",
   "execution_count": 39,
   "metadata": {},
   "outputs": [
    {
     "data": {
      "text/plain": [
       "0.42361144817275886"
      ]
     },
     "execution_count": 39,
     "metadata": {},
     "output_type": "execute_result"
    }
   ],
   "source": [
    "grid_rfr.score(Xi_test, Yi_test)"
   ]
  },
  {
   "cell_type": "markdown",
   "metadata": {},
   "source": [
    "The model explains 42% of the variance in the test set, which is slightly lower than that of the cross validation in the training set.\n",
    "\n",
    "This random forest does not give us as much information about how to predict the price of a property as the linear models, but we can inspect which features are most important in the model."
   ]
  },
  {
   "cell_type": "code",
   "execution_count": 45,
   "metadata": {
    "scrolled": true
   },
   "outputs": [
    {
     "data": {
      "text/html": [
       "<div>\n",
       "<style scoped>\n",
       "    .dataframe tbody tr th:only-of-type {\n",
       "        vertical-align: middle;\n",
       "    }\n",
       "\n",
       "    .dataframe tbody tr th {\n",
       "        vertical-align: top;\n",
       "    }\n",
       "\n",
       "    .dataframe thead th {\n",
       "        text-align: right;\n",
       "    }\n",
       "</style>\n",
       "<table border=\"1\" class=\"dataframe\">\n",
       "  <thead>\n",
       "    <tr style=\"text-align: right;\">\n",
       "      <th></th>\n",
       "      <th>Importance</th>\n",
       "    </tr>\n",
       "  </thead>\n",
       "  <tbody>\n",
       "    <tr>\n",
       "      <th>Distance</th>\n",
       "      <td>0.251370</td>\n",
       "    </tr>\n",
       "    <tr>\n",
       "      <th>Rooms</th>\n",
       "      <td>0.190507</td>\n",
       "    </tr>\n",
       "    <tr>\n",
       "      <th>Longitude</th>\n",
       "      <td>0.152358</td>\n",
       "    </tr>\n",
       "    <tr>\n",
       "      <th>Landsize</th>\n",
       "      <td>0.122848</td>\n",
       "    </tr>\n",
       "    <tr>\n",
       "      <th>BuildingArea</th>\n",
       "      <td>0.114926</td>\n",
       "    </tr>\n",
       "    <tr>\n",
       "      <th>YearBuilt</th>\n",
       "      <td>0.076793</td>\n",
       "    </tr>\n",
       "    <tr>\n",
       "      <th>Rooms_per_bathroom</th>\n",
       "      <td>0.054079</td>\n",
       "    </tr>\n",
       "    <tr>\n",
       "      <th>Car</th>\n",
       "      <td>0.029937</td>\n",
       "    </tr>\n",
       "    <tr>\n",
       "      <th>Historic</th>\n",
       "      <td>0.007181</td>\n",
       "    </tr>\n",
       "  </tbody>\n",
       "</table>\n",
       "</div>"
      ],
      "text/plain": [
       "                    Importance\n",
       "Distance              0.251370\n",
       "Rooms                 0.190507\n",
       "Longitude             0.152358\n",
       "Landsize              0.122848\n",
       "BuildingArea          0.114926\n",
       "YearBuilt             0.076793\n",
       "Rooms_per_bathroom    0.054079\n",
       "Car                   0.029937\n",
       "Historic              0.007181"
      ]
     },
     "execution_count": 45,
     "metadata": {},
     "output_type": "execute_result"
    }
   ],
   "source": [
    "importances = pd.DataFrame(index=Xi_train.columns)\n",
    "importances['Importance'] = rfr2.feature_importances_\n",
    "importances.sort_values('Importance', ascending=False)"
   ]
  },
  {
   "cell_type": "markdown",
   "metadata": {},
   "source": [
    "According to the random forest model, the distance from city center is most important in predicting the price of the property, followed by longitude, number of rooms, and land size.\n",
    "\n",
    "### Modeling Dropping NA values\n",
    "First I need to create features for the smaller data set, then identify variables and split into train and test sets."
   ]
  },
  {
   "cell_type": "code",
   "execution_count": 33,
   "metadata": {
    "scrolled": true
   },
   "outputs": [
    {
     "name": "stderr",
     "output_type": "stream",
     "text": [
      "/Library/Frameworks/Python.framework/Versions/3.6/lib/python3.6/site-packages/ipykernel_launcher.py:8: SettingWithCopyWarning: \n",
      "A value is trying to be set on a copy of a slice from a DataFrame.\n",
      "Try using .loc[row_indexer,col_indexer] = value instead\n",
      "\n",
      "See the caveats in the documentation: http://pandas.pydata.org/pandas-docs/stable/indexing.html#indexing-view-versus-copy\n",
      "  \n",
      "/Library/Frameworks/Python.framework/Versions/3.6/lib/python3.6/site-packages/ipykernel_launcher.py:11: SettingWithCopyWarning: \n",
      "A value is trying to be set on a copy of a slice from a DataFrame.\n",
      "Try using .loc[row_indexer,col_indexer] = value instead\n",
      "\n",
      "See the caveats in the documentation: http://pandas.pydata.org/pandas-docs/stable/indexing.html#indexing-view-versus-copy\n",
      "  # This is added back by InteractiveShellApp.init_path()\n"
     ]
    }
   ],
   "source": [
    "#dropping na entries\n",
    "mhd_na = mhd.dropna(axis=0)\n",
    "\n",
    "#creating features dataframe with price, rooms, parking, longitude, distance, and landsize\n",
    "features_na = mhd_t[['Price', 'Rooms', 'Car', 'Longitude', 'Distance', 'Landsize', 'BuildingArea', 'YearBuilt']]\n",
    "\n",
    "#creating rooms per bathroom feature\n",
    "features_na['Rooms_per_bathroom'] = mhd['Rooms'] / mhd['Bathroom']\n",
    "\n",
    "#creating historic homes feature\n",
    "features_na['Historic'] = np.where(mhd['YearBuilt'] < (2017-50), 1,0)\n",
    "\n",
    "features_na = features_na.dropna()"
   ]
  },
  {
   "cell_type": "code",
   "execution_count": 34,
   "metadata": {},
   "outputs": [],
   "source": [
    "#identify variables\n",
    "X = features_na.drop('Price', axis=1)\n",
    "Y = features_na['Price']\n",
    "\n",
    "#split into train and test sets\n",
    "X_train, X_test, Y_train, Y_test = train_test_split(X, Y, test_size=0.2)"
   ]
  },
  {
   "cell_type": "markdown",
   "metadata": {},
   "source": [
    "## Linear Regression for Dropped Data"
   ]
  },
  {
   "cell_type": "code",
   "execution_count": 35,
   "metadata": {},
   "outputs": [
    {
     "name": "stdout",
     "output_type": "stream",
     "text": [
      "Coefficients: [ 2.66894680e+05  4.32609140e+04  8.42393549e+05 -2.66892337e+04\n",
      "  5.07782124e+00  5.87287178e+01 -2.99877896e+03 -3.56178199e+04\n",
      " -8.12132465e+02]\n",
      "Intercept: -115754250.83227617\n",
      "R-squared: 0.28798390071747204\n"
     ]
    }
   ],
   "source": [
    "linreg2 = LinearRegression()\n",
    "linreg2.fit(X_train, Y_train)\n",
    "print('Coefficients:', linreg2.coef_)\n",
    "print('Intercept:', linreg2.intercept_)\n",
    "print('R-squared:', linreg2.score(X_train, Y_train))"
   ]
  },
  {
   "cell_type": "markdown",
   "metadata": {},
   "source": [
    "The Linear Regression Model is able to explain 28% of the variance in the data, down 1% from the imputed data.  This means that the imputed data was better able to predict the sale prices.  Because this was still not a very good model, let's use a Random Forest model to predict sale prices.\n",
    "\n",
    "## Random Forest for Dropped Data"
   ]
  },
  {
   "cell_type": "code",
   "execution_count": 47,
   "metadata": {},
   "outputs": [
    {
     "name": "stdout",
     "output_type": "stream",
     "text": [
      "0.8523418978766346\n",
      "[0.38493082 0.39653931 0.34748595]\n"
     ]
    }
   ],
   "source": [
    "rfr3 = RandomForestRegressor(n_estimators=100)\n",
    "rfr3.fit(X_train, Y_train)\n",
    "print(rfr3.score(X_train, Y_train))\n",
    "print(cross_val_score(rfr3, X_train, Y_train))"
   ]
  },
  {
   "cell_type": "markdown",
   "metadata": {},
   "source": [
    "This model was able to explain the variance in 85% of the data, which was around 2% higher than the imputed data, but again this data is likely overfit because of the low cross validation scores.  Let's optimize parameters through a Grid Search to determine optimal parameters."
   ]
  },
  {
   "cell_type": "code",
   "execution_count": 49,
   "metadata": {
    "scrolled": false
   },
   "outputs": [
    {
     "name": "stdout",
     "output_type": "stream",
     "text": [
      "0.4255604542855252\n",
      "{'bootstrap': True, 'max_features': 'log2', 'min_samples_split': 20, 'n_estimators': 1000}\n",
      "Model Fit Time: 11174.622488975525\n"
     ]
    }
   ],
   "source": [
    "rfr4 = RandomForestRegressor()\n",
    "parameters = {'n_estimators':[10,100,1000],\n",
    "             'max_features':['auto', 'sqrt','log2'],\n",
    "             'min_samples_split':[2,8,20],\n",
    "             'bootstrap':[True, False]}\n",
    "t0 = time.time()\n",
    "grid_rfr2 = GridSearchCV(estimator=rfr4, param_grid=parameters)\n",
    "grid_rfr2.fit(X_train, Y_train)\n",
    "print(grid_rfr2.best_score_)\n",
    "print(grid_rfr2.best_params_)\n",
    "t1 = time.time()\n",
    "print('Model Fit Time:', t1-t0)"
   ]
  },
  {
   "cell_type": "markdown",
   "metadata": {},
   "source": [
    "Now, let's use these optimal parameters to instantiate and fit a new model to then score the test set."
   ]
  },
  {
   "cell_type": "code",
   "execution_count": 50,
   "metadata": {},
   "outputs": [
    {
     "data": {
      "text/plain": [
       "RandomForestRegressor(bootstrap=True, criterion='mse', max_depth=None,\n",
       "           max_features='log2', max_leaf_nodes=None,\n",
       "           min_impurity_decrease=0.0, min_impurity_split=None,\n",
       "           min_samples_leaf=1, min_samples_split=20,\n",
       "           min_weight_fraction_leaf=0.0, n_estimators=1000, n_jobs=1,\n",
       "           oob_score=False, random_state=None, verbose=0, warm_start=False)"
      ]
     },
     "execution_count": 50,
     "metadata": {},
     "output_type": "execute_result"
    }
   ],
   "source": [
    "#instantiate and fit model with best parameters from GridSearchCV\n",
    "best_params2 = grid_rfr2.best_params_\n",
    "rfr5 = RandomForestRegressor(**best_params2)\n",
    "rfr5.fit(Xi_train, Yi_train)"
   ]
  },
  {
   "cell_type": "code",
   "execution_count": 51,
   "metadata": {},
   "outputs": [
    {
     "name": "stdout",
     "output_type": "stream",
     "text": [
      "R-squared Training Set: [0.43726038 0.41519438 0.43767692]\n",
      "R-squared Test Set: [0.36323897 0.39156232 0.3853783 ]\n"
     ]
    }
   ],
   "source": [
    "print('R-squared Training Set:', cross_val_score(rfr5, Xi_train, Yi_train))\n",
    "print('R-squared Test Set:', cross_val_score(rfr5, Xi_test, Yi_test))"
   ]
  },
  {
   "cell_type": "markdown",
   "metadata": {},
   "source": [
    "Great! The model was able to predict the variance of 37% of the data in the test set.  Let's now inspect the importances of the features to determine which had the most impact on the price of the sale."
   ]
  },
  {
   "cell_type": "code",
   "execution_count": 52,
   "metadata": {},
   "outputs": [
    {
     "data": {
      "text/html": [
       "<div>\n",
       "<style scoped>\n",
       "    .dataframe tbody tr th:only-of-type {\n",
       "        vertical-align: middle;\n",
       "    }\n",
       "\n",
       "    .dataframe tbody tr th {\n",
       "        vertical-align: top;\n",
       "    }\n",
       "\n",
       "    .dataframe thead th {\n",
       "        text-align: right;\n",
       "    }\n",
       "</style>\n",
       "<table border=\"1\" class=\"dataframe\">\n",
       "  <thead>\n",
       "    <tr style=\"text-align: right;\">\n",
       "      <th></th>\n",
       "      <th>Importance</th>\n",
       "    </tr>\n",
       "  </thead>\n",
       "  <tbody>\n",
       "    <tr>\n",
       "      <th>Distance</th>\n",
       "      <td>0.250741</td>\n",
       "    </tr>\n",
       "    <tr>\n",
       "      <th>Rooms</th>\n",
       "      <td>0.188368</td>\n",
       "    </tr>\n",
       "    <tr>\n",
       "      <th>Longitude</th>\n",
       "      <td>0.152390</td>\n",
       "    </tr>\n",
       "    <tr>\n",
       "      <th>Landsize</th>\n",
       "      <td>0.123290</td>\n",
       "    </tr>\n",
       "    <tr>\n",
       "      <th>BuildingArea</th>\n",
       "      <td>0.114004</td>\n",
       "    </tr>\n",
       "    <tr>\n",
       "      <th>YearBuilt</th>\n",
       "      <td>0.078873</td>\n",
       "    </tr>\n",
       "    <tr>\n",
       "      <th>Rooms_per_bathroom</th>\n",
       "      <td>0.055409</td>\n",
       "    </tr>\n",
       "    <tr>\n",
       "      <th>Car</th>\n",
       "      <td>0.030166</td>\n",
       "    </tr>\n",
       "    <tr>\n",
       "      <th>Historic</th>\n",
       "      <td>0.006760</td>\n",
       "    </tr>\n",
       "  </tbody>\n",
       "</table>\n",
       "</div>"
      ],
      "text/plain": [
       "                    Importance\n",
       "Distance              0.250741\n",
       "Rooms                 0.188368\n",
       "Longitude             0.152390\n",
       "Landsize              0.123290\n",
       "BuildingArea          0.114004\n",
       "YearBuilt             0.078873\n",
       "Rooms_per_bathroom    0.055409\n",
       "Car                   0.030166\n",
       "Historic              0.006760"
      ]
     },
     "execution_count": 52,
     "metadata": {},
     "output_type": "execute_result"
    }
   ],
   "source": [
    "importances2 = pd.DataFrame(index=X_train.columns)\n",
    "importances2['Importance'] = rfr5.feature_importances_\n",
    "importances2.sort_values('Importance', ascending=False)"
   ]
  },
  {
   "cell_type": "markdown",
   "metadata": {},
   "source": [
    "Again, Distance is the most important indicator of price, followed by number of rooms, longitude, land size, and building area. Based on the linear regression, let's see how important each factor is in determining price."
   ]
  },
  {
   "cell_type": "code",
   "execution_count": 53,
   "metadata": {},
   "outputs": [
    {
     "data": {
      "text/html": [
       "<div>\n",
       "<style scoped>\n",
       "    .dataframe tbody tr th:only-of-type {\n",
       "        vertical-align: middle;\n",
       "    }\n",
       "\n",
       "    .dataframe tbody tr th {\n",
       "        vertical-align: top;\n",
       "    }\n",
       "\n",
       "    .dataframe thead th {\n",
       "        text-align: right;\n",
       "    }\n",
       "</style>\n",
       "<table border=\"1\" class=\"dataframe\">\n",
       "  <thead>\n",
       "    <tr style=\"text-align: right;\">\n",
       "      <th></th>\n",
       "      <th>Coefficients</th>\n",
       "    </tr>\n",
       "  </thead>\n",
       "  <tbody>\n",
       "    <tr>\n",
       "      <th>Longitude</th>\n",
       "      <td>810143.724693</td>\n",
       "    </tr>\n",
       "    <tr>\n",
       "      <th>Rooms</th>\n",
       "      <td>276975.360720</td>\n",
       "    </tr>\n",
       "    <tr>\n",
       "      <th>Car</th>\n",
       "      <td>42476.520191</td>\n",
       "    </tr>\n",
       "    <tr>\n",
       "      <th>BuildingArea</th>\n",
       "      <td>49.637825</td>\n",
       "    </tr>\n",
       "    <tr>\n",
       "      <th>Landsize</th>\n",
       "      <td>4.717823</td>\n",
       "    </tr>\n",
       "    <tr>\n",
       "      <th>YearBuilt</th>\n",
       "      <td>-3638.855374</td>\n",
       "    </tr>\n",
       "    <tr>\n",
       "      <th>Distance</th>\n",
       "      <td>-25828.296086</td>\n",
       "    </tr>\n",
       "    <tr>\n",
       "      <th>Historic</th>\n",
       "      <td>-29695.489482</td>\n",
       "    </tr>\n",
       "    <tr>\n",
       "      <th>Rooms_per_bathroom</th>\n",
       "      <td>-66888.608318</td>\n",
       "    </tr>\n",
       "  </tbody>\n",
       "</table>\n",
       "</div>"
      ],
      "text/plain": [
       "                     Coefficients\n",
       "Longitude           810143.724693\n",
       "Rooms               276975.360720\n",
       "Car                  42476.520191\n",
       "BuildingArea            49.637825\n",
       "Landsize                 4.717823\n",
       "YearBuilt            -3638.855374\n",
       "Distance            -25828.296086\n",
       "Historic            -29695.489482\n",
       "Rooms_per_bathroom  -66888.608318"
      ]
     },
     "execution_count": 53,
     "metadata": {},
     "output_type": "execute_result"
    }
   ],
   "source": [
    "price_fn = pd.DataFrame(index=Xi_train.columns)\n",
    "price_fn['Coefficients'] = linreg.coef_\n",
    "price_fn.sort_values('Coefficients', ascending=False)"
   ]
  },
  {
   "cell_type": "markdown",
   "metadata": {},
   "source": [
    "According to the linear model, the following factors impact the price:\n",
    "\n",
    "- An increase in longitude increases the price by \\$810,000\n",
    "- An increase in number of rooms increases the price by \\$277,000\n",
    "- An increase in number of parking spaces increases the price by \\$42,000\n",
    "- An increase in building area increases the price by \\$49\n",
    "- An increase in land size increases the price by \\$5\n",
    "- An increase in the year built decreases the price by \\$3600\n",
    "- An increase in distance from the city center decreases the price by \\$26000\n",
    "- Becoming a historic home decreases the price by \\$30,000\n",
    "- An increase in number of rooms per bathroom decreases the price by \\$67000"
   ]
  },
  {
   "cell_type": "code",
   "execution_count": null,
   "metadata": {},
   "outputs": [],
   "source": []
  }
 ],
 "metadata": {
  "kernelspec": {
   "display_name": "Python 3",
   "language": "python",
   "name": "python3"
  },
  "language_info": {
   "codemirror_mode": {
    "name": "ipython",
    "version": 3
   },
   "file_extension": ".py",
   "mimetype": "text/x-python",
   "name": "python",
   "nbconvert_exporter": "python",
   "pygments_lexer": "ipython3",
   "version": "3.6.2"
  }
 },
 "nbformat": 4,
 "nbformat_minor": 2
}
