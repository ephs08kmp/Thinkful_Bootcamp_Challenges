{
 "cells": [
  {
   "cell_type": "code",
   "execution_count": 1,
   "metadata": {},
   "outputs": [],
   "source": [
    "import numpy as np\n",
    "import pandas as pd\n",
    "import sklearn\n",
    "import scipy.stats as stats\n",
    "import seaborn as sns\n",
    "import matplotlib.pyplot as plt\n",
    "%matplotlib inline"
   ]
  },
  {
   "cell_type": "markdown",
   "metadata": {},
   "source": [
    "# Credit Approvals Data Set \n",
    "\n",
    "__Source:__ [https://archive.ics.uci.edu/ml/datasets/Credit+Approval]\n",
    "\n",
    "All attribute names and values have been changed to meaningless symbols to protect the confidentiality of the data"
   ]
  },
  {
   "cell_type": "code",
   "execution_count": 2,
   "metadata": {},
   "outputs": [
    {
     "data": {
      "text/html": [
       "<div>\n",
       "<style scoped>\n",
       "    .dataframe tbody tr th:only-of-type {\n",
       "        vertical-align: middle;\n",
       "    }\n",
       "\n",
       "    .dataframe tbody tr th {\n",
       "        vertical-align: top;\n",
       "    }\n",
       "\n",
       "    .dataframe thead th {\n",
       "        text-align: right;\n",
       "    }\n",
       "</style>\n",
       "<table border=\"1\" class=\"dataframe\">\n",
       "  <thead>\n",
       "    <tr style=\"text-align: right;\">\n",
       "      <th></th>\n",
       "      <th>0</th>\n",
       "      <th>1</th>\n",
       "      <th>2</th>\n",
       "      <th>3</th>\n",
       "      <th>4</th>\n",
       "      <th>5</th>\n",
       "      <th>6</th>\n",
       "      <th>7</th>\n",
       "      <th>8</th>\n",
       "      <th>9</th>\n",
       "      <th>10</th>\n",
       "      <th>11</th>\n",
       "      <th>12</th>\n",
       "      <th>13</th>\n",
       "      <th>14</th>\n",
       "      <th>15</th>\n",
       "    </tr>\n",
       "  </thead>\n",
       "  <tbody>\n",
       "    <tr>\n",
       "      <th>0</th>\n",
       "      <td>b</td>\n",
       "      <td>30.83</td>\n",
       "      <td>0.000</td>\n",
       "      <td>u</td>\n",
       "      <td>g</td>\n",
       "      <td>w</td>\n",
       "      <td>v</td>\n",
       "      <td>1.25</td>\n",
       "      <td>t</td>\n",
       "      <td>t</td>\n",
       "      <td>1</td>\n",
       "      <td>f</td>\n",
       "      <td>g</td>\n",
       "      <td>00202</td>\n",
       "      <td>0</td>\n",
       "      <td>1</td>\n",
       "    </tr>\n",
       "    <tr>\n",
       "      <th>1</th>\n",
       "      <td>a</td>\n",
       "      <td>58.67</td>\n",
       "      <td>4.460</td>\n",
       "      <td>u</td>\n",
       "      <td>g</td>\n",
       "      <td>q</td>\n",
       "      <td>h</td>\n",
       "      <td>3.04</td>\n",
       "      <td>t</td>\n",
       "      <td>t</td>\n",
       "      <td>6</td>\n",
       "      <td>f</td>\n",
       "      <td>g</td>\n",
       "      <td>00043</td>\n",
       "      <td>560</td>\n",
       "      <td>1</td>\n",
       "    </tr>\n",
       "    <tr>\n",
       "      <th>2</th>\n",
       "      <td>a</td>\n",
       "      <td>24.50</td>\n",
       "      <td>0.500</td>\n",
       "      <td>u</td>\n",
       "      <td>g</td>\n",
       "      <td>q</td>\n",
       "      <td>h</td>\n",
       "      <td>1.50</td>\n",
       "      <td>t</td>\n",
       "      <td>f</td>\n",
       "      <td>0</td>\n",
       "      <td>f</td>\n",
       "      <td>g</td>\n",
       "      <td>00280</td>\n",
       "      <td>824</td>\n",
       "      <td>1</td>\n",
       "    </tr>\n",
       "    <tr>\n",
       "      <th>3</th>\n",
       "      <td>b</td>\n",
       "      <td>27.83</td>\n",
       "      <td>1.540</td>\n",
       "      <td>u</td>\n",
       "      <td>g</td>\n",
       "      <td>w</td>\n",
       "      <td>v</td>\n",
       "      <td>3.75</td>\n",
       "      <td>t</td>\n",
       "      <td>t</td>\n",
       "      <td>5</td>\n",
       "      <td>t</td>\n",
       "      <td>g</td>\n",
       "      <td>00100</td>\n",
       "      <td>3</td>\n",
       "      <td>1</td>\n",
       "    </tr>\n",
       "    <tr>\n",
       "      <th>4</th>\n",
       "      <td>b</td>\n",
       "      <td>20.17</td>\n",
       "      <td>5.625</td>\n",
       "      <td>u</td>\n",
       "      <td>g</td>\n",
       "      <td>w</td>\n",
       "      <td>v</td>\n",
       "      <td>1.71</td>\n",
       "      <td>t</td>\n",
       "      <td>f</td>\n",
       "      <td>0</td>\n",
       "      <td>f</td>\n",
       "      <td>s</td>\n",
       "      <td>00120</td>\n",
       "      <td>0</td>\n",
       "      <td>1</td>\n",
       "    </tr>\n",
       "  </tbody>\n",
       "</table>\n",
       "</div>"
      ],
      "text/plain": [
       "  0      1      2  3  4  5  6     7  8  9   10 11 12     13   14  15\n",
       "0  b  30.83  0.000  u  g  w  v  1.25  t  t   1  f  g  00202    0   1\n",
       "1  a  58.67  4.460  u  g  q  h  3.04  t  t   6  f  g  00043  560   1\n",
       "2  a  24.50  0.500  u  g  q  h  1.50  t  f   0  f  g  00280  824   1\n",
       "3  b  27.83  1.540  u  g  w  v  3.75  t  t   5  t  g  00100    3   1\n",
       "4  b  20.17  5.625  u  g  w  v  1.71  t  f   0  f  s  00120    0   1"
      ]
     },
     "execution_count": 2,
     "metadata": {},
     "output_type": "execute_result"
    }
   ],
   "source": [
    "#importing and cleaning data\n",
    "credit_raw = pd.read_csv('credit_approvals.csv', header=None)\n",
    "credit_raw[1] = credit_raw[1].map(lambda x: None if x is '?' else float(x))\n",
    "credit_raw[15] = credit_raw[15].map(lambda x: 1 if x is '+' else 0)\n",
    "for col in credit_raw:\n",
    "    credit_raw[col] = credit_raw[col].map(lambda x: None if x is '?' else x)\n",
    "credit_raw.head()"
   ]
  },
  {
   "cell_type": "code",
   "execution_count": 3,
   "metadata": {},
   "outputs": [
    {
     "data": {
      "text/html": [
       "<div>\n",
       "<style scoped>\n",
       "    .dataframe tbody tr th:only-of-type {\n",
       "        vertical-align: middle;\n",
       "    }\n",
       "\n",
       "    .dataframe tbody tr th {\n",
       "        vertical-align: top;\n",
       "    }\n",
       "\n",
       "    .dataframe thead th {\n",
       "        text-align: right;\n",
       "    }\n",
       "</style>\n",
       "<table border=\"1\" class=\"dataframe\">\n",
       "  <thead>\n",
       "    <tr style=\"text-align: right;\">\n",
       "      <th></th>\n",
       "      <th>c</th>\n",
       "      <th>i</th>\n",
       "      <th>q</th>\n",
       "      <th>w</th>\n",
       "      <th>0</th>\n",
       "      <th>8</th>\n",
       "      <th>cube_root_2</th>\n",
       "      <th>cube_root_7</th>\n",
       "      <th>15</th>\n",
       "    </tr>\n",
       "  </thead>\n",
       "  <tbody>\n",
       "    <tr>\n",
       "      <th>0</th>\n",
       "      <td>0</td>\n",
       "      <td>0</td>\n",
       "      <td>0</td>\n",
       "      <td>1</td>\n",
       "      <td>0</td>\n",
       "      <td>1</td>\n",
       "      <td>0.000000</td>\n",
       "      <td>1.077217</td>\n",
       "      <td>1</td>\n",
       "    </tr>\n",
       "    <tr>\n",
       "      <th>1</th>\n",
       "      <td>0</td>\n",
       "      <td>0</td>\n",
       "      <td>1</td>\n",
       "      <td>0</td>\n",
       "      <td>1</td>\n",
       "      <td>1</td>\n",
       "      <td>1.646057</td>\n",
       "      <td>1.448631</td>\n",
       "      <td>1</td>\n",
       "    </tr>\n",
       "    <tr>\n",
       "      <th>2</th>\n",
       "      <td>0</td>\n",
       "      <td>0</td>\n",
       "      <td>1</td>\n",
       "      <td>0</td>\n",
       "      <td>1</td>\n",
       "      <td>1</td>\n",
       "      <td>0.793701</td>\n",
       "      <td>1.144714</td>\n",
       "      <td>1</td>\n",
       "    </tr>\n",
       "    <tr>\n",
       "      <th>3</th>\n",
       "      <td>0</td>\n",
       "      <td>0</td>\n",
       "      <td>0</td>\n",
       "      <td>1</td>\n",
       "      <td>0</td>\n",
       "      <td>1</td>\n",
       "      <td>1.154800</td>\n",
       "      <td>1.553616</td>\n",
       "      <td>1</td>\n",
       "    </tr>\n",
       "    <tr>\n",
       "      <th>4</th>\n",
       "      <td>0</td>\n",
       "      <td>0</td>\n",
       "      <td>0</td>\n",
       "      <td>1</td>\n",
       "      <td>0</td>\n",
       "      <td>1</td>\n",
       "      <td>1.778447</td>\n",
       "      <td>1.195819</td>\n",
       "      <td>1</td>\n",
       "    </tr>\n",
       "  </tbody>\n",
       "</table>\n",
       "</div>"
      ],
      "text/plain": [
       "   c  i  q  w  0  8  cube_root_2  cube_root_7  15\n",
       "0  0  0  0  1  0  1     0.000000     1.077217   1\n",
       "1  0  0  1  0  1  1     1.646057     1.448631   1\n",
       "2  0  0  1  0  1  1     0.793701     1.144714   1\n",
       "3  0  0  0  1  0  1     1.154800     1.553616   1\n",
       "4  0  0  0  1  0  1     1.778447     1.195819   1"
      ]
     },
     "execution_count": 3,
     "metadata": {},
     "output_type": "execute_result"
    }
   ],
   "source": [
    "#creating df for features\n",
    "#paring down attributes '5' and '6' to top 3-4 values\n",
    "credit_raw_abbrev = credit_raw.loc[\n",
    "    ((credit_raw[5] == 'c') | (credit_raw[5] == 'q')  \n",
    "     | (credit_raw[5] == 'w')  | (credit_raw[5] == 'i')) \n",
    "    & ((credit_raw[6] == 'v') | (credit_raw[6] == 'h') \n",
    "       | (credit_raw[6] == 'bb'))]\n",
    "credit_raw_abbrev.dropna()\n",
    "features = pd.get_dummies(credit_raw_abbrev[5])\n",
    "features['0'] = np.where((credit_raw_abbrev[0]=='a'), 1, 0)\n",
    "features['8'] = np.where((credit_raw_abbrev[8]=='t'), 1, 0)\n",
    "features['cube_root_2'] = (credit_raw_abbrev[2].dropna())**(1/3)\n",
    "features['cube_root_7'] = (credit_raw_abbrev[7].dropna())**(1/3)\n",
    "features['15'] = credit_raw_abbrev[15].dropna()\n",
    "features.head()"
   ]
  },
  {
   "cell_type": "code",
   "execution_count": 4,
   "metadata": {
    "scrolled": true
   },
   "outputs": [
    {
     "name": "stdout",
     "output_type": "stream",
     "text": [
      "Whole Data Set Value Counts\n",
      " 0    52.694611\n",
      "1    47.305389\n",
      "Name: 15, dtype: float64\n",
      "Train Data Set Value Counts\n",
      " 0    52.4\n",
      "1    47.6\n",
      "Name: 15, dtype: float64\n",
      "Test Data Set Value Counts\n",
      " 1    53.571429\n",
      "0    46.428571\n",
      "Name: 15, dtype: float64\n"
     ]
    }
   ],
   "source": [
    "print('Whole Data Set Value Counts\\n', 100*features['15'].value_counts()/len(features))\n",
    "\n",
    "#splitting data into train and test groups 75%, 25%\n",
    "np.random.seed(222)\n",
    "train = features.sample(frac=0.75, replace=False)\n",
    "test = features.sample(frac=0.25, replace=False)\n",
    "\n",
    "#ensuring similar proportions\n",
    "print('Train Data Set Value Counts\\n', 100*train['15'].value_counts()/len(train))\n",
    "print('Test Data Set Value Counts\\n', 100*test['15'].value_counts()/len(test))"
   ]
  },
  {
   "cell_type": "markdown",
   "metadata": {},
   "source": [
    "Target and Train both have similar distributions to the res of the sample"
   ]
  },
  {
   "cell_type": "markdown",
   "metadata": {},
   "source": [
    "### Modeling\n",
    "#### Attributes 0 and 2"
   ]
  },
  {
   "cell_type": "code",
   "execution_count": 5,
   "metadata": {},
   "outputs": [],
   "source": [
    "#modeling attributes 0 and 2\n",
    "data_train = train[['cube_root_2'] + ['0']]\n",
    "target_train = train['15']\n",
    "\n",
    "data_test = test[['cube_root_2'] + ['0']]\n",
    "target_test = test['15']"
   ]
  },
  {
   "cell_type": "code",
   "execution_count": 6,
   "metadata": {},
   "outputs": [
    {
     "name": "stdout",
     "output_type": "stream",
     "text": [
      "Number of mislabeled points out of a total 84 points: 43\n",
      "Percent of Test Mislabeled:  51.19047619047619 %\n"
     ]
    }
   ],
   "source": [
    "#binary data so use bernoulli classifier\n",
    "from sklearn.naive_bayes import BernoulliNB\n",
    "\n",
    "bnb = BernoulliNB()\n",
    "bnb.fit(data_train, target_train)\n",
    "y_pred_test = bnb.predict(data_test)\n",
    "\n",
    "print('Number of mislabeled points out of a total {} points: {}'.format(\n",
    "     data_test.shape[0],\n",
    "     (target_test != y_pred_test).sum()\n",
    "))\n",
    "#percent mislabeled\n",
    "print('Percent of Test Mislabeled: ', (100 * ((target_test != y_pred_test).sum()) /data_test.shape[0]), '%')"
   ]
  },
  {
   "cell_type": "markdown",
   "metadata": {},
   "source": [
    "#### Attributes 0, 2, and 7"
   ]
  },
  {
   "cell_type": "code",
   "execution_count": 7,
   "metadata": {},
   "outputs": [],
   "source": [
    "#modeling attributes 0, 2, 7\n",
    "data_train = train[['cube_root_2'] + ['0'] + ['cube_root_7']]\n",
    "target_train = train['15']\n",
    "\n",
    "data_test = test[['cube_root_2'] + ['0'] + ['cube_root_7']]\n",
    "target_test = test['15']"
   ]
  },
  {
   "cell_type": "code",
   "execution_count": 8,
   "metadata": {},
   "outputs": [
    {
     "name": "stdout",
     "output_type": "stream",
     "text": [
      "Number of mislabeled points out of a total 84 points: 43\n",
      "Percent of Test Mislabeled:  51.19047619047619 %\n"
     ]
    }
   ],
   "source": [
    "#binary data so use bernoulli classifier\n",
    "from sklearn.naive_bayes import BernoulliNB\n",
    "\n",
    "bnb = BernoulliNB()\n",
    "bnb.fit(data_train, target_train)\n",
    "y_pred_test = bnb.predict(data_test)\n",
    "\n",
    "print('Number of mislabeled points out of a total {} points: {}'.format(\n",
    "     data_test.shape[0],\n",
    "     (target_test != y_pred_test).sum()\n",
    "))\n",
    "#percent mislabeled\n",
    "print('Percent of Test Mislabeled: ', (100 * ((target_test != y_pred_test).sum()) /data_test.shape[0]), '%')"
   ]
  },
  {
   "cell_type": "markdown",
   "metadata": {},
   "source": [
    "#### Attributes 0, 2, 7, 8"
   ]
  },
  {
   "cell_type": "code",
   "execution_count": 9,
   "metadata": {},
   "outputs": [],
   "source": [
    "#modeling attributes 0, 2, 7, 8\n",
    "data_train = train[['cube_root_2'] + ['0'] + ['cube_root_7'] + ['8']]\n",
    "target_train = train['15']\n",
    "\n",
    "data_test = test[['cube_root_2'] + ['0'] + ['cube_root_7'] + ['8']]\n",
    "target_test = test['15']"
   ]
  },
  {
   "cell_type": "code",
   "execution_count": 10,
   "metadata": {},
   "outputs": [
    {
     "name": "stdout",
     "output_type": "stream",
     "text": [
      "Number of mislabeled points out of a total 84 points: 10\n",
      "Percent of Test Mislabeled:  11.904761904761905 %\n"
     ]
    }
   ],
   "source": [
    "#binary data so use bernoulli classifier\n",
    "from sklearn.naive_bayes import BernoulliNB\n",
    "\n",
    "bnb = BernoulliNB()\n",
    "bnb.fit(data_train, target_train)\n",
    "y_pred_test = bnb.predict(data_test)\n",
    "\n",
    "print('Number of mislabeled points out of a total {} points: {}'.format(\n",
    "     data_test.shape[0],\n",
    "     (target_test != y_pred_test).sum()\n",
    "))\n",
    "#percent mislabeled\n",
    "print('Percent of Test Mislabeled: ', (100 * ((target_test != y_pred_test).sum()) /data_test.shape[0]), '%')"
   ]
  },
  {
   "cell_type": "markdown",
   "metadata": {},
   "source": [
    "#### Attributes 0, 2, 5, 7, 8"
   ]
  },
  {
   "cell_type": "code",
   "execution_count": 11,
   "metadata": {},
   "outputs": [],
   "source": [
    "#modeling attributes 0, 2, 5, 7, 8\n",
    "data_train = train[['cube_root_2'] + ['0'] + ['cube_root_7'] + ['8'] + ['c'] + ['i'] + ['q'] + ['w']]\n",
    "target_train = train['15']\n",
    "\n",
    "data_test = test[['cube_root_2'] + ['0'] + ['cube_root_7'] + ['8'] + ['c'] + ['i'] + ['q'] + ['w']]\n",
    "target_test = test['15']"
   ]
  },
  {
   "cell_type": "code",
   "execution_count": 12,
   "metadata": {},
   "outputs": [
    {
     "name": "stdout",
     "output_type": "stream",
     "text": [
      "Number of mislabeled points out of a total 84 points: 11\n",
      "Percent of Test Mislabeled:  13.095238095238095 %\n"
     ]
    }
   ],
   "source": [
    "#binary data so use bernoulli classifier\n",
    "from sklearn.naive_bayes import BernoulliNB\n",
    "\n",
    "bnb = BernoulliNB()\n",
    "bnb.fit(data_train, target_train)\n",
    "y_pred_test = bnb.predict(data_test)\n",
    "\n",
    "print('Number of mislabeled points out of a total {} points: {}'.format(\n",
    "     data_test.shape[0],\n",
    "     (target_test != y_pred_test).sum()\n",
    "))\n",
    "#percent mislabeled\n",
    "print('Percent of Test Mislabeled: ', (100 * ((target_test != y_pred_test).sum()) /data_test.shape[0]), '%')"
   ]
  },
  {
   "cell_type": "markdown",
   "metadata": {},
   "source": [
    "The lowest percent of test points mislabeled came with attributes 0, 2, 7, and 8.  With these attributes, only 11.9% of points were mislabeled."
   ]
  },
  {
   "cell_type": "code",
   "execution_count": null,
   "metadata": {},
   "outputs": [],
   "source": []
  }
 ],
 "metadata": {
  "kernelspec": {
   "display_name": "Python 3",
   "language": "python",
   "name": "python3"
  },
  "language_info": {
   "codemirror_mode": {
    "name": "ipython",
    "version": 3
   },
   "file_extension": ".py",
   "mimetype": "text/x-python",
   "name": "python",
   "nbconvert_exporter": "python",
   "pygments_lexer": "ipython3",
   "version": "3.6.2"
  }
 },
 "nbformat": 4,
 "nbformat_minor": 2
}
